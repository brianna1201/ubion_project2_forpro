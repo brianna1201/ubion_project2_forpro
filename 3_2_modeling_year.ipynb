{
 "cells": [
  {
   "cell_type": "code",
   "execution_count": 1,
   "metadata": {},
   "outputs": [],
   "source": [
    "# 기본 setting\n",
    "import numpy as np\n",
    "import pandas as pd\n",
    "import matplotlib.pyplot as plt\n",
    "import seaborn as sns\n",
    "from matplotlib import font_manager, rc\n",
    "font_path = \"C:/Windows/Fonts/malgun.ttf\"\n",
    "font = font_manager.FontProperties(fname=font_path).get_name()\n",
    "rc('font', family=font)\n",
    "import warnings\n",
    "warnings.filterwarnings(action = 'ignore')\n",
    "pd.options.display.float_format = '{:.5f}'.format\n",
    "\n",
    "# Model\n",
    "from sklearn.linear_model import LogisticRegression\n",
    "from sklearn.tree import DecisionTreeClassifier\n",
    "from sklearn.tree import export_graphviz\n",
    "import graphviz\n",
    "from sklearn.svm import SVC\n",
    "from sklearn.ensemble import VotingClassifier\n",
    "from sklearn.neighbors import KNeighborsClassifier\n",
    "from xgboost import XGBClassifier\n",
    "from lightgbm import plot_importance\n",
    "from sklearn.ensemble import RandomForestClassifier\n",
    "from lightgbm import LGBMClassifier\n",
    "from keras.wrappers.scikit_learn import KerasClassifier\n",
    "from keras.models import Sequential\n",
    "from keras.layers import Dense,Dropout\n",
    "from keras.callbacks import Callback\n",
    "from seqeval.metrics import f1_score\n",
    "\n",
    "from sklearn.preprocessing import StandardScaler, RobustScaler, QuantileTransformer, MinMaxScaler\n",
    "from sklearn.model_selection import KFold , GridSearchCV , train_test_split\n",
    "from sklearn.metrics import f1_score, accuracy_score, recall_score, precision_score ,roc_auc_score, roc_curve,confusion_matrix\n",
    "from sklearn.preprocessing import Binarizer\n"
   ]
  },
  {
   "cell_type": "markdown",
   "metadata": {},
   "source": [
    "# 1. 모델 돌리기 전 함수 만들기\n",
    "## 1-1) train,test 나누는 함수"
   ]
  },
  {
   "cell_type": "code",
   "execution_count": 2,
   "metadata": {},
   "outputs": [],
   "source": [
    "df = pd.read_csv('./data/df_featureselection.csv', index_col=0)"
   ]
  },
  {
   "cell_type": "code",
   "execution_count": 4,
   "metadata": {},
   "outputs": [],
   "source": [
    "# 1) train, test 나누는 함수\n",
    "def data(df):\n",
    "    X = df.drop(['y'], axis=1)\n",
    "    y = df[['y']]\n",
    "    col = X.drop(['회계년도'],axis=1)\n",
    "\n",
    "    # 2018년까지 X_train / 2019,2020년 y_train\n",
    "    X_train = X[X['회계년도']<2019].drop('회계년도',axis=1)\n",
    "    X_test = X[X['회계년도']>2018].drop('회계년도',axis=1)\n",
    "    y_train = y.iloc[X_train.index]\n",
    "    y_test = y.iloc[X_test.index]\n",
    "\n",
    "    scaler = RobustScaler()\n",
    "    X_train = scaler.fit_transform(X_train)\n",
    "    X_test = scaler.transform(X_test)\n",
    "    X_train = pd.DataFrame(X_train, columns=col.columns)\n",
    "\n",
    "    return X_train, X_test, y_train, y_test"
   ]
  },
  {
   "cell_type": "markdown",
   "metadata": {},
   "source": [
    "## 1-2) confusion matrix 만드는 함수 만들기"
   ]
  },
  {
   "cell_type": "code",
   "execution_count": 5,
   "metadata": {},
   "outputs": [],
   "source": [
    "# 2) confusion matrix 만드는 함수\n",
    "def score(y_test, pred):\n",
    "    # score print\n",
    "    print('accuracy score : {0:.3f}'.format(accuracy_score(y_test, pred)))\n",
    "    print('precision score : {0:.3f}'.format(precision_score(y_test, pred)))\n",
    "    print('recall score : {0:.3f}'.format(recall_score(y_test, pred)))\n",
    "    print('f1 score : {0:.3f}'.format(f1_score(y_test, pred)))\n",
    "    print('roc score : {0:.3f}'.format(roc_auc_score(y_test, pred)))\n",
    "    # confusion matirx 함수\n",
    "    cm = confusion_matrix(y_test, pred)\n",
    "    sns.heatmap(cm, annot=True, annot_kws={\"size\": 20}, cmap='Blues', fmt='g')\n",
    "    plt.xlabel('Predicted', fontsize=20)\n",
    "    plt.ylabel('Actual', fontsize=20)"
   ]
  },
  {
   "cell_type": "code",
   "execution_count": 6,
   "metadata": {},
   "outputs": [],
   "source": [
    "# 3) thresholds를 무엇으로 하는가에 따라 score 산출하는 함수\n",
    "def get_f1_score(y_test, pred_proba_1):\n",
    "\n",
    "    thresholds = [0.2,0.3,0.4,0.5,0.6,0.7,0.8,0.9]\n",
    "    accuracys = []\n",
    "    precisions = []\n",
    "    recalls = []\n",
    "    f1_scores = []\n",
    "    auc_scores=[]\n",
    "\n",
    "    for threshold in thresholds:\n",
    "        binarizer = Binarizer(threshold = threshold)\n",
    "        pred_proba = binarizer.fit_transform(pred_proba_1)\n",
    "\n",
    "        accuracy = accuracy_score(y_test, pred_proba)\n",
    "        precision = precision_score(y_test, pred_proba)\n",
    "        recall = recall_score(y_test, pred_proba)\n",
    "        f1score = f1_score(y_test, pred_proba)\n",
    "        auc_score=roc_auc_score(y_test, pred_proba)\n",
    "\n",
    "        accuracys.append(accuracy)\n",
    "        precisions.append(precision)\n",
    "        recalls.append(recall)\n",
    "        f1_scores.append(f1score)\n",
    "        auc_scores.append(auc_score)\n",
    "        \n",
    "    results = pd.DataFrame(data = {\"Accuracy\": accuracys, \"Precision\": precisions, \"Recall\": recalls, \"F1 score\": f1_scores,\"Auc_Score\":auc_scores}, index = thresholds)\n",
    "    print(results)"
   ]
  },
  {
   "cell_type": "markdown",
   "metadata": {},
   "source": [
    "# 1. Logistic Regression"
   ]
  },
  {
   "cell_type": "code",
   "execution_count": 7,
   "metadata": {},
   "outputs": [],
   "source": [
    "def Logistic(df):\n",
    "    X_train, X_test, y_train, y_test = data(df)\n",
    "\n",
    "    logistic = LogisticRegression()\n",
    "    param_logit = {'penalty' : ['l2'],\n",
    "                   'C' : [0.01, 0.1, 1, 10, 100],\n",
    "                   'solver' : ['liblinear'], # 'lbfgs', 'newton-cg' \n",
    "                   'random_state' : [121],\n",
    "                   'class_weight' : ['balanced']}\n",
    "\n",
    "    gridsearch = GridSearchCV(logistic, param_grid = param_logit, cv = KFold(n_splits=5, shuffle = True, random_state=42), n_jobs=-1, scoring='f1', verbose=0)\n",
    "    gridsearch.fit(X_train, y_train)\n",
    "\n",
    "\n",
    "    print('최적 파라미터\\n', gridsearch.best_params_)\n",
    "    print('학습 데이터 정확도 : ', gridsearch.best_score_)\n",
    "\n",
    "    estimator = gridsearch.best_estimator_\n",
    "    pred = pd.DataFrame(estimator.predict(X_test))\n",
    "    # pred = estimator.predict(X_test)\n",
    "    pred_probability = pd.DataFrame(estimator.predict_proba(X_test))\n",
    "    print('\\n예측 데이터 정확도')\n",
    "    score(y_test, pred)\n",
    "\n",
    "    prediction = pd.concat([pred_probability, pred], axis = 1)\n",
    "    prediction.columns = [\"Negative(0)\", \"Positive(1)\", \"y_pred\"]\n",
    "    pred_proba_1 = np.array(prediction[\"Positive(1)\"]).reshape(-1, 1)\n",
    " \n",
    "    print(get_f1_score(y_test, pred_proba_1))\n",
    "    # model_coef = pd.Series(best_model.best_estimator_.regressor_.coef_[0], df.drop(['target']).columns).sort_values(ascending=False)\n",
    "    # model_coef\n",
    "    return gridsearch.fit(X_train, y_train)"
   ]
  },
  {
   "cell_type": "code",
   "execution_count": 8,
   "metadata": {},
   "outputs": [
    {
     "data": {
      "text/html": [
       "<div>\n",
       "<style scoped>\n",
       "    .dataframe tbody tr th:only-of-type {\n",
       "        vertical-align: middle;\n",
       "    }\n",
       "\n",
       "    .dataframe tbody tr th {\n",
       "        vertical-align: top;\n",
       "    }\n",
       "\n",
       "    .dataframe thead th {\n",
       "        text-align: right;\n",
       "    }\n",
       "</style>\n",
       "<table border=\"1\" class=\"dataframe\">\n",
       "  <thead>\n",
       "    <tr style=\"text-align: right;\">\n",
       "      <th></th>\n",
       "      <th>자기자본비율</th>\n",
       "      <th>총자산규모</th>\n",
       "      <th>차입금의존도</th>\n",
       "      <th>총자본순이익률</th>\n",
       "      <th>총자본회전율</th>\n",
       "      <th>자기자본회전율</th>\n",
       "      <th>총자산증가율</th>\n",
       "      <th>자기자본증가율</th>\n",
       "      <th>감사의견코드</th>\n",
       "      <th>광업</th>\n",
       "      <th>교육 서비스업</th>\n",
       "      <th>도매 및 소매업</th>\n",
       "      <th>사업시설 관리, 사업 지원 및 임대 서비스업</th>\n",
       "      <th>수도, 하수 및 폐기물 처리, 원료 재생업</th>\n",
       "      <th>예술, 스포츠 및 여가관련 서비스업</th>\n",
       "      <th>전기, 가스, 증기 및 공기조절 공급업</th>\n",
       "      <th>전문, 과학 및 기술 서비스업</th>\n",
       "      <th>정보통신업</th>\n",
       "      <th>제조업</th>\n",
       "    </tr>\n",
       "  </thead>\n",
       "  <tbody>\n",
       "    <tr>\n",
       "      <th>0</th>\n",
       "      <td>-0.77460</td>\n",
       "      <td>-0.24614</td>\n",
       "      <td>0.92598</td>\n",
       "      <td>-0.50484</td>\n",
       "      <td>-0.03551</td>\n",
       "      <td>1.11846</td>\n",
       "      <td>-0.59481</td>\n",
       "      <td>-1.28567</td>\n",
       "      <td>0.00000</td>\n",
       "      <td>0.00000</td>\n",
       "      <td>0.00000</td>\n",
       "      <td>0.00000</td>\n",
       "      <td>0.00000</td>\n",
       "      <td>0.00000</td>\n",
       "      <td>0.00000</td>\n",
       "      <td>0.00000</td>\n",
       "      <td>0.00000</td>\n",
       "      <td>1.00000</td>\n",
       "      <td>-1.00000</td>\n",
       "    </tr>\n",
       "    <tr>\n",
       "      <th>1</th>\n",
       "      <td>-0.08178</td>\n",
       "      <td>-0.79757</td>\n",
       "      <td>-0.50285</td>\n",
       "      <td>-1.10719</td>\n",
       "      <td>-0.13324</td>\n",
       "      <td>-0.09302</td>\n",
       "      <td>-1.62140</td>\n",
       "      <td>1.39094</td>\n",
       "      <td>0.00000</td>\n",
       "      <td>0.00000</td>\n",
       "      <td>0.00000</td>\n",
       "      <td>0.00000</td>\n",
       "      <td>0.00000</td>\n",
       "      <td>0.00000</td>\n",
       "      <td>0.00000</td>\n",
       "      <td>0.00000</td>\n",
       "      <td>0.00000</td>\n",
       "      <td>1.00000</td>\n",
       "      <td>-1.00000</td>\n",
       "    </tr>\n",
       "    <tr>\n",
       "      <th>2</th>\n",
       "      <td>-0.70696</td>\n",
       "      <td>-0.76567</td>\n",
       "      <td>-0.50577</td>\n",
       "      <td>-0.03969</td>\n",
       "      <td>-0.38869</td>\n",
       "      <td>0.31241</td>\n",
       "      <td>-0.35079</td>\n",
       "      <td>-1.48479</td>\n",
       "      <td>0.00000</td>\n",
       "      <td>0.00000</td>\n",
       "      <td>0.00000</td>\n",
       "      <td>1.00000</td>\n",
       "      <td>0.00000</td>\n",
       "      <td>0.00000</td>\n",
       "      <td>0.00000</td>\n",
       "      <td>0.00000</td>\n",
       "      <td>0.00000</td>\n",
       "      <td>0.00000</td>\n",
       "      <td>-1.00000</td>\n",
       "    </tr>\n",
       "    <tr>\n",
       "      <th>3</th>\n",
       "      <td>-0.77194</td>\n",
       "      <td>-0.46613</td>\n",
       "      <td>0.27699</td>\n",
       "      <td>0.04218</td>\n",
       "      <td>0.72315</td>\n",
       "      <td>2.50246</td>\n",
       "      <td>-0.61789</td>\n",
       "      <td>-1.50383</td>\n",
       "      <td>0.00000</td>\n",
       "      <td>0.00000</td>\n",
       "      <td>0.00000</td>\n",
       "      <td>0.00000</td>\n",
       "      <td>0.00000</td>\n",
       "      <td>0.00000</td>\n",
       "      <td>0.00000</td>\n",
       "      <td>0.00000</td>\n",
       "      <td>0.00000</td>\n",
       "      <td>0.00000</td>\n",
       "      <td>0.00000</td>\n",
       "    </tr>\n",
       "    <tr>\n",
       "      <th>4</th>\n",
       "      <td>-0.20688</td>\n",
       "      <td>-1.22188</td>\n",
       "      <td>-0.29052</td>\n",
       "      <td>-0.49314</td>\n",
       "      <td>-0.31155</td>\n",
       "      <td>-0.16127</td>\n",
       "      <td>-1.97999</td>\n",
       "      <td>-1.25449</td>\n",
       "      <td>0.00000</td>\n",
       "      <td>0.00000</td>\n",
       "      <td>0.00000</td>\n",
       "      <td>0.00000</td>\n",
       "      <td>0.00000</td>\n",
       "      <td>0.00000</td>\n",
       "      <td>0.00000</td>\n",
       "      <td>0.00000</td>\n",
       "      <td>0.00000</td>\n",
       "      <td>1.00000</td>\n",
       "      <td>-1.00000</td>\n",
       "    </tr>\n",
       "    <tr>\n",
       "      <th>...</th>\n",
       "      <td>...</td>\n",
       "      <td>...</td>\n",
       "      <td>...</td>\n",
       "      <td>...</td>\n",
       "      <td>...</td>\n",
       "      <td>...</td>\n",
       "      <td>...</td>\n",
       "      <td>...</td>\n",
       "      <td>...</td>\n",
       "      <td>...</td>\n",
       "      <td>...</td>\n",
       "      <td>...</td>\n",
       "      <td>...</td>\n",
       "      <td>...</td>\n",
       "      <td>...</td>\n",
       "      <td>...</td>\n",
       "      <td>...</td>\n",
       "      <td>...</td>\n",
       "      <td>...</td>\n",
       "    </tr>\n",
       "    <tr>\n",
       "      <th>569</th>\n",
       "      <td>0.05229</td>\n",
       "      <td>-0.33240</td>\n",
       "      <td>-0.27579</td>\n",
       "      <td>-0.22423</td>\n",
       "      <td>-0.80493</td>\n",
       "      <td>-0.64706</td>\n",
       "      <td>-0.88461</td>\n",
       "      <td>-0.91890</td>\n",
       "      <td>0.00000</td>\n",
       "      <td>0.00000</td>\n",
       "      <td>0.00000</td>\n",
       "      <td>0.00000</td>\n",
       "      <td>0.00000</td>\n",
       "      <td>0.00000</td>\n",
       "      <td>0.00000</td>\n",
       "      <td>0.00000</td>\n",
       "      <td>0.00000</td>\n",
       "      <td>0.00000</td>\n",
       "      <td>0.00000</td>\n",
       "    </tr>\n",
       "    <tr>\n",
       "      <th>570</th>\n",
       "      <td>1.15176</td>\n",
       "      <td>0.92737</td>\n",
       "      <td>-0.52679</td>\n",
       "      <td>1.22834</td>\n",
       "      <td>0.62556</td>\n",
       "      <td>-0.19105</td>\n",
       "      <td>0.97375</td>\n",
       "      <td>0.63224</td>\n",
       "      <td>0.00000</td>\n",
       "      <td>0.00000</td>\n",
       "      <td>0.00000</td>\n",
       "      <td>0.00000</td>\n",
       "      <td>0.00000</td>\n",
       "      <td>0.00000</td>\n",
       "      <td>0.00000</td>\n",
       "      <td>0.00000</td>\n",
       "      <td>0.00000</td>\n",
       "      <td>0.00000</td>\n",
       "      <td>0.00000</td>\n",
       "    </tr>\n",
       "    <tr>\n",
       "      <th>571</th>\n",
       "      <td>0.15095</td>\n",
       "      <td>0.50289</td>\n",
       "      <td>-0.52679</td>\n",
       "      <td>0.31917</td>\n",
       "      <td>-0.55665</td>\n",
       "      <td>-0.49742</td>\n",
       "      <td>3.93350</td>\n",
       "      <td>0.66590</td>\n",
       "      <td>0.00000</td>\n",
       "      <td>0.00000</td>\n",
       "      <td>0.00000</td>\n",
       "      <td>0.00000</td>\n",
       "      <td>0.00000</td>\n",
       "      <td>0.00000</td>\n",
       "      <td>0.00000</td>\n",
       "      <td>0.00000</td>\n",
       "      <td>0.00000</td>\n",
       "      <td>0.00000</td>\n",
       "      <td>0.00000</td>\n",
       "    </tr>\n",
       "    <tr>\n",
       "      <th>572</th>\n",
       "      <td>1.12177</td>\n",
       "      <td>0.21123</td>\n",
       "      <td>-0.52679</td>\n",
       "      <td>1.22834</td>\n",
       "      <td>0.24452</td>\n",
       "      <td>-0.32721</td>\n",
       "      <td>0.74446</td>\n",
       "      <td>0.53583</td>\n",
       "      <td>0.00000</td>\n",
       "      <td>0.00000</td>\n",
       "      <td>0.00000</td>\n",
       "      <td>0.00000</td>\n",
       "      <td>0.00000</td>\n",
       "      <td>0.00000</td>\n",
       "      <td>0.00000</td>\n",
       "      <td>0.00000</td>\n",
       "      <td>0.00000</td>\n",
       "      <td>0.00000</td>\n",
       "      <td>0.00000</td>\n",
       "    </tr>\n",
       "    <tr>\n",
       "      <th>573</th>\n",
       "      <td>0.36476</td>\n",
       "      <td>0.66756</td>\n",
       "      <td>0.24627</td>\n",
       "      <td>0.47979</td>\n",
       "      <td>0.43055</td>\n",
       "      <td>0.02462</td>\n",
       "      <td>1.07331</td>\n",
       "      <td>0.93882</td>\n",
       "      <td>0.00000</td>\n",
       "      <td>0.00000</td>\n",
       "      <td>0.00000</td>\n",
       "      <td>0.00000</td>\n",
       "      <td>0.00000</td>\n",
       "      <td>0.00000</td>\n",
       "      <td>0.00000</td>\n",
       "      <td>0.00000</td>\n",
       "      <td>0.00000</td>\n",
       "      <td>0.00000</td>\n",
       "      <td>0.00000</td>\n",
       "    </tr>\n",
       "  </tbody>\n",
       "</table>\n",
       "<p>574 rows × 19 columns</p>\n",
       "</div>"
      ],
      "text/plain": [
       "      자기자본비율    총자산규모   차입금의존도  총자본순이익률   총자본회전율  자기자본회전율   총자산증가율  자기자본증가율  \\\n",
       "0   -0.77460 -0.24614  0.92598 -0.50484 -0.03551  1.11846 -0.59481 -1.28567   \n",
       "1   -0.08178 -0.79757 -0.50285 -1.10719 -0.13324 -0.09302 -1.62140  1.39094   \n",
       "2   -0.70696 -0.76567 -0.50577 -0.03969 -0.38869  0.31241 -0.35079 -1.48479   \n",
       "3   -0.77194 -0.46613  0.27699  0.04218  0.72315  2.50246 -0.61789 -1.50383   \n",
       "4   -0.20688 -1.22188 -0.29052 -0.49314 -0.31155 -0.16127 -1.97999 -1.25449   \n",
       "..       ...      ...      ...      ...      ...      ...      ...      ...   \n",
       "569  0.05229 -0.33240 -0.27579 -0.22423 -0.80493 -0.64706 -0.88461 -0.91890   \n",
       "570  1.15176  0.92737 -0.52679  1.22834  0.62556 -0.19105  0.97375  0.63224   \n",
       "571  0.15095  0.50289 -0.52679  0.31917 -0.55665 -0.49742  3.93350  0.66590   \n",
       "572  1.12177  0.21123 -0.52679  1.22834  0.24452 -0.32721  0.74446  0.53583   \n",
       "573  0.36476  0.66756  0.24627  0.47979  0.43055  0.02462  1.07331  0.93882   \n",
       "\n",
       "     감사의견코드      광업  교육 서비스업  도매 및 소매업  사업시설 관리, 사업 지원 및 임대 서비스업  \\\n",
       "0   0.00000 0.00000  0.00000   0.00000                   0.00000   \n",
       "1   0.00000 0.00000  0.00000   0.00000                   0.00000   \n",
       "2   0.00000 0.00000  0.00000   1.00000                   0.00000   \n",
       "3   0.00000 0.00000  0.00000   0.00000                   0.00000   \n",
       "4   0.00000 0.00000  0.00000   0.00000                   0.00000   \n",
       "..      ...     ...      ...       ...                       ...   \n",
       "569 0.00000 0.00000  0.00000   0.00000                   0.00000   \n",
       "570 0.00000 0.00000  0.00000   0.00000                   0.00000   \n",
       "571 0.00000 0.00000  0.00000   0.00000                   0.00000   \n",
       "572 0.00000 0.00000  0.00000   0.00000                   0.00000   \n",
       "573 0.00000 0.00000  0.00000   0.00000                   0.00000   \n",
       "\n",
       "     수도, 하수 및 폐기물 처리, 원료 재생업  예술, 스포츠 및 여가관련 서비스업  전기, 가스, 증기 및 공기조절 공급업  \\\n",
       "0                    0.00000              0.00000                0.00000   \n",
       "1                    0.00000              0.00000                0.00000   \n",
       "2                    0.00000              0.00000                0.00000   \n",
       "3                    0.00000              0.00000                0.00000   \n",
       "4                    0.00000              0.00000                0.00000   \n",
       "..                       ...                  ...                    ...   \n",
       "569                  0.00000              0.00000                0.00000   \n",
       "570                  0.00000              0.00000                0.00000   \n",
       "571                  0.00000              0.00000                0.00000   \n",
       "572                  0.00000              0.00000                0.00000   \n",
       "573                  0.00000              0.00000                0.00000   \n",
       "\n",
       "     전문, 과학 및 기술 서비스업   정보통신업      제조업  \n",
       "0             0.00000 1.00000 -1.00000  \n",
       "1             0.00000 1.00000 -1.00000  \n",
       "2             0.00000 0.00000 -1.00000  \n",
       "3             0.00000 0.00000  0.00000  \n",
       "4             0.00000 1.00000 -1.00000  \n",
       "..                ...     ...      ...  \n",
       "569           0.00000 0.00000  0.00000  \n",
       "570           0.00000 0.00000  0.00000  \n",
       "571           0.00000 0.00000  0.00000  \n",
       "572           0.00000 0.00000  0.00000  \n",
       "573           0.00000 0.00000  0.00000  \n",
       "\n",
       "[574 rows x 19 columns]"
      ]
     },
     "execution_count": 8,
     "metadata": {},
     "output_type": "execute_result"
    }
   ],
   "source": [
    "X_train, X_test, y_train, y_test = data(df)\n",
    "X_train"
   ]
  },
  {
   "cell_type": "code",
   "execution_count": 9,
   "metadata": {},
   "outputs": [
    {
     "name": "stdout",
     "output_type": "stream",
     "text": [
      "최적 파라미터\n",
      " {'C': 0.1, 'class_weight': 'balanced', 'penalty': 'l2', 'random_state': 121, 'solver': 'liblinear'}\n",
      "학습 데이터 정확도 :  0.8038870806721274\n",
      "\n",
      "예측 데이터 정확도\n",
      "accuracy score : 0.802\n",
      "precision score : 0.824\n",
      "recall score : 0.769\n",
      "f1 score : 0.795\n",
      "roc score : 0.802\n",
      "         Accuracy  Precision  Recall  F1 score  Auc_Score\n",
      "0.20000   0.69231    0.62681 0.95055   0.75546    0.69231\n",
      "0.30000   0.76648    0.70815 0.90659   0.79518    0.76648\n",
      "0.40000   0.79670    0.76733 0.85165   0.80729    0.79670\n",
      "0.50000   0.80220    0.82353 0.76923   0.79545    0.80220\n",
      "0.60000   0.78571    0.87143 0.67033   0.75776    0.78571\n",
      "0.70000   0.75824    0.91964 0.56593   0.70068    0.75824\n",
      "0.80000   0.69231    0.92683 0.41758   0.57576    0.69231\n",
      "0.90000   0.60714    0.97561 0.21978   0.35874    0.60714\n",
      "None\n"
     ]
    },
    {
     "data": {
      "image/png": "[encoded data removed]",
      "text/plain": [
       "<Figure size 432x288 with 2 Axes>"
      ]
     },
     "metadata": {
      "needs_background": "light"
     },
     "output_type": "display_data"
    }
   ],
   "source": [
    "logistic = Logistic(df)"
   ]
  },
  {
   "cell_type": "markdown",
   "metadata": {},
   "source": [
    "# 2. DecisionTree"
   ]
  },
  {
   "cell_type": "code",
   "execution_count": 10,
   "metadata": {},
   "outputs": [],
   "source": [
    "def DT(df):\n",
    "    X_train, X_test, y_train, y_test = data(df)\n",
    "\n",
    "    dt = DecisionTreeClassifier()\n",
    "    param_dt = { 'criterion' : ['gini','entropy','log_loss'],   # 기본적으로 gini가 사용, 엔트로피 : 균형적인 트리\n",
    "                    'splitter' : ['best', 'random'],\n",
    "                    'random_state' : [121],\n",
    "                    'max_depth' : [5, 6, 7],\n",
    "                    'min_samples_split' : [3, 4, 5],\n",
    "                    'class_weight' : ['balanced']}\n",
    "    \n",
    "    scaler = RobustScaler()\n",
    "    gridsearch = GridSearchCV(dt, param_grid = param_dt, cv = KFold(n_splits=5, shuffle = True, random_state=42), n_jobs=-1, scoring='f1', verbose=0)\n",
    "    gridsearch.fit(X_train, y_train)\n",
    "\n",
    "    print('최적 파라미터\\n', gridsearch.best_params_)\n",
    "    print('학습 데이터 정확도 : ', gridsearch.best_score_)\n",
    "\n",
    "    estimator = gridsearch.best_estimator_\n",
    "    pred = pd.DataFrame(estimator.predict(X_test))\n",
    "    # pred = estimator.predict(X_test)\n",
    "    print('\\n예측 데이터 정확도')\n",
    "    score(y_test, pred)\n",
    "    \n",
    "    pred_probability = pd.DataFrame(estimator.predict_proba(X_test))\n",
    "    prediction = pd.concat([pred_probability, pred], axis = 1)\n",
    "    prediction.columns = [\"Negative(0)\", \"Positive(1)\", \"y_pred\"]\n",
    "    pred_proba_1 = np.array(prediction[\"Positive(1)\"]).reshape(-1, 1)\n",
    " \n",
    "    print(get_f1_score(y_test, pred_proba_1))\n",
    "\n",
    "    return gridsearch.fit(X_train, y_train)\n"
   ]
  },
  {
   "cell_type": "code",
   "execution_count": 11,
   "metadata": {},
   "outputs": [],
   "source": [
    "def DT_vis(df, best_model):\n",
    "    export_graphviz(best_model.best_estimator_, out_file='트리확인후삭제.dot', class_names=[\"0\", \"1\"], feature_names= df.drop(['y'], axis=1).columns, impurity=True, filled=True)\n",
    "\n",
    "    with open('트리확인후삭제.dot', encoding='utf-8') as f:\n",
    "        dot_graph = f.read()\n",
    "    return graphviz.Source(dot_graph)"
   ]
  },
  {
   "cell_type": "code",
   "execution_count": 12,
   "metadata": {},
   "outputs": [
    {
     "name": "stdout",
     "output_type": "stream",
     "text": [
      "최적 파라미터\n",
      " {'class_weight': 'balanced', 'criterion': 'entropy', 'max_depth': 7, 'min_samples_split': 4, 'random_state': 121, 'splitter': 'best'}\n",
      "학습 데이터 정확도 :  0.7803327291666214\n",
      "\n",
      "예측 데이터 정확도\n",
      "accuracy score : 0.750\n",
      "precision score : 0.766\n",
      "recall score : 0.720\n",
      "f1 score : 0.742\n",
      "roc score : 0.750\n",
      "         Accuracy  Precision  Recall  F1 score  Auc_Score\n",
      "0.20000   0.74451    0.73298 0.76923   0.75067    0.74451\n",
      "0.30000   0.74451    0.73298 0.76923   0.75067    0.74451\n",
      "0.40000   0.74451    0.73298 0.76923   0.75067    0.74451\n",
      "0.50000   0.75000    0.76608 0.71978   0.74221    0.75000\n",
      "0.60000   0.75000    0.76608 0.71978   0.74221    0.75000\n",
      "0.70000   0.71703    0.78014 0.60440   0.68111    0.71703\n",
      "0.80000   0.70879    0.79688 0.56044   0.65806    0.70879\n",
      "0.90000   0.70879    0.79688 0.56044   0.65806    0.70879\n",
      "None\n"
     ]
    },
    {
     "data": {
      "image/png": "[encoded data removed]",
      "text/plain": [
       "<Figure size 432x288 with 2 Axes>"
      ]
     },
     "metadata": {
      "needs_background": "light"
     },
     "output_type": "display_data"
    }
   ],
   "source": [
    "df_tree = DT(df)"
   ]
  },
  {
   "cell_type": "markdown",
   "metadata": {},
   "source": [
    "# 3. SVM"
   ]
  },
  {
   "cell_type": "code",
   "execution_count": 13,
   "metadata": {},
   "outputs": [],
   "source": [
    "def SVM(df, kernel):\n",
    "    X_train, X_test, y_train, y_test = data(df)\n",
    "\n",
    "    svc = SVC(probability=True)\n",
    "    param_svc = {'C' : [0.01, 0.1, 1.0, 10.0],\n",
    "                    'kernel' : [kernel],\n",
    "                    'gamma' : [0.5, 0.1, 'scale'], # 1 / (n_features * X.var())\n",
    "                    'random_state' : [121],\n",
    "                    'class_weight' : ['balanced']}\n",
    "    \n",
    "    gridsearch = GridSearchCV(svc, param_grid = param_svc, cv=KFold(n_splits=5, shuffle = True, random_state=30), n_jobs=-1, scoring='f1', verbose=0)\n",
    "    gridsearch.fit(X_train, y_train)\n",
    "    print('최적 파라미터\\n', gridsearch.best_params_)\n",
    "    print('학습 데이터 정확도 : ', gridsearch.best_score_)\n",
    "\n",
    "    estimator = gridsearch.best_estimator_\n",
    "    pred = pd.DataFrame(estimator.predict(X_test))\n",
    "    \n",
    "    print('\\n예측 데이터 정확도')\n",
    "    score(y_test, pred)\n",
    "\n",
    "    return gridsearch.fit(X_train, y_train)"
   ]
  },
  {
   "cell_type": "code",
   "execution_count": 14,
   "metadata": {},
   "outputs": [
    {
     "name": "stdout",
     "output_type": "stream",
     "text": [
      "최적 파라미터\n",
      " {'C': 1.0, 'class_weight': 'balanced', 'gamma': 0.5, 'kernel': 'rbf', 'random_state': 121}\n",
      "학습 데이터 정확도 :  0.8166545452704591\n",
      "\n",
      "예측 데이터 정확도\n",
      "accuracy score : 0.797\n",
      "precision score : 0.784\n",
      "recall score : 0.819\n",
      "f1 score : 0.801\n",
      "roc score : 0.797\n"
     ]
    },
    {
     "data": {
      "image/png": "[encoded data removed]",
      "text/plain": [
       "<Figure size 432x288 with 2 Axes>"
      ]
     },
     "metadata": {
      "needs_background": "light"
     },
     "output_type": "display_data"
    }
   ],
   "source": [
    "svm = SVM(df, 'rbf')"
   ]
  },
  {
   "cell_type": "markdown",
   "metadata": {},
   "source": [
    "# 4. RandomForest"
   ]
  },
  {
   "cell_type": "code",
   "execution_count": 15,
   "metadata": {},
   "outputs": [],
   "source": [
    "def RF(df):\n",
    "    X_train, X_test, y_train, y_test = data(df)\n",
    "    rf = RandomForestClassifier()\n",
    "    \n",
    "    params_rf = {\n",
    "        'n_estimators':[400],\n",
    "        'max_depth' : [4], \n",
    "        'min_samples_leaf' : [4, 6],\n",
    "        'min_samples_split' : [ 12, 14, 16]\n",
    "    }\n",
    "\n",
    "    gridsearch = GridSearchCV(rf , param_grid=params_rf , cv=KFold(n_splits=5, shuffle = True, random_state=121), n_jobs=-1 )\n",
    "    gridsearch.fit(X_train, y_train)\n",
    "    warnings.filterwarnings('ignore')\n",
    "\n",
    "    \n",
    "    estimator = gridsearch.best_estimator_\n",
    "    pred = pd.DataFrame(estimator.predict(X_test))\n",
    "    print('최적 하이퍼 파라미터:\\n', gridsearch.best_params_)\n",
    "    print('최고 예측 정확도: {0:.4f}'.format(gridsearch.best_score_))\n",
    "    score(y_test, pred)\n",
    "    \n",
    "    # # feature_importance 보여주기\n",
    "    ftr_importances_values = estimator.feature_importances_\n",
    "    ftr_importances = pd.Series(ftr_importances_values,index=X_train.columns)\n",
    "    ftr_top20 = ftr_importances.sort_values(ascending=False)[:20]\n",
    "\n",
    "    plt.figure(figsize=(8,6))\n",
    "    plt.title('Feature importances')\n",
    "    sns.barplot(x=ftr_top20 , y = ftr_top20.index)\n",
    "    plt.show()\n",
    "\n",
    "\n",
    "    return gridsearch.fit(X_train, y_train)"
   ]
  },
  {
   "cell_type": "code",
   "execution_count": 16,
   "metadata": {},
   "outputs": [
    {
     "name": "stdout",
     "output_type": "stream",
     "text": [
      "최적 하이퍼 파라미터:\n",
      " {'max_depth': 4, 'min_samples_leaf': 4, 'min_samples_split': 16, 'n_estimators': 400}\n",
      "최고 예측 정확도: 0.8171\n",
      "accuracy score : 0.802\n",
      "precision score : 0.812\n",
      "recall score : 0.786\n",
      "f1 score : 0.799\n",
      "roc score : 0.802\n"
     ]
    },
    {
     "data": {
      "image/png": "[encoded data removed]",
      "text/plain": [
       "<Figure size 432x288 with 2 Axes>"
      ]
     },
     "metadata": {
      "needs_background": "light"
     },
     "output_type": "display_data"
    },
    {
     "data": {
      "image/png": "[encoded data removed]",
      "text/plain": [
       "<Figure size 576x432 with 1 Axes>"
      ]
     },
     "metadata": {
      "needs_background": "light"
     },
     "output_type": "display_data"
    }
   ],
   "source": [
    "rf = RF(df)"
   ]
  },
  {
   "cell_type": "markdown",
   "metadata": {},
   "source": [
    "# 5. LightGBM"
   ]
  },
  {
   "cell_type": "markdown",
   "metadata": {},
   "source": [
    ".rename(columns = lambda x:re.sub(',', '', x))"
   ]
  },
  {
   "cell_type": "code",
   "execution_count": 44,
   "metadata": {},
   "outputs": [],
   "source": [
    "def LGBM(df):\n",
    "    import re\n",
    "    X_train, X_test, y_train, y_test = data(df.rename(columns = lambda x:re.sub(',', '', x)))\n",
    "    lgbm = LGBMClassifier()\n",
    "    \n",
    "    params = {\n",
    "    'n_estimators':[200, 300, 400],\n",
    "        'max_depth' : [4, 5, 6, 7, 8], \n",
    "    'min_data_in_leaf' : [8, 10, 12, 14, 16]\n",
    "    }\n",
    "    \n",
    "    # 조기 중단 추가\n",
    "    evals = [(X_train, y_train)]\n",
    "    gridsearch = GridSearchCV(lgbm , param_grid=params , cv=KFold(n_splits=5, shuffle = True, random_state=42), n_jobs=-1 )\n",
    "    gridsearch.fit(X_train , y_train,early_stopping_rounds=100, eval_metric=\"logloss\", eval_set=evals, verbose=0)\n",
    "\n",
    "\n",
    "    estimator = gridsearch.best_estimator_\n",
    "    pred = pd.DataFrame(estimator.predict(X_test))\n",
    "    print('최적 하이퍼 파라미터:\\n', gridsearch.best_params_)\n",
    "    print('최고 예측 정확도: {0:.4f}'.format(gridsearch.best_score_))\n",
    "    score(y_test, pred)\n",
    "    \n",
    "    # feature_importance 보여주기\n",
    "    ftr_importances_values = estimator.feature_importances_\n",
    "    ftr_importances = pd.DataFrame({'Value':ftr_importances_values,'Feature':X_train.columns})\n",
    "\n",
    "    plt.figure(figsize=(8,6))\n",
    "    sns.barplot(x=\"Value\", y=\"Feature\", data=ftr_importances.sort_values(by=\"Value\",ascending=False)[:20])\n",
    "    plt.title('LightGBM Features')\n",
    "    plt.show()\n",
    "    return gridsearch.fit(X_train , y_train,early_stopping_rounds=100, eval_metric=\"logloss\", eval_set=evals, verbose=0)"
   ]
  },
  {
   "cell_type": "code",
   "execution_count": 45,
   "metadata": {},
   "outputs": [
    {
     "name": "stdout",
     "output_type": "stream",
     "text": [
      "[LightGBM] [Warning] min_data_in_leaf is set=14, min_child_samples=20 will be ignored. Current value: min_data_in_leaf=14\n",
      "최적 하이퍼 파라미터:\n",
      " {'max_depth': 7, 'min_data_in_leaf': 14, 'n_estimators': 200}\n",
      "최고 예측 정확도: 0.8032\n",
      "accuracy score : 0.783\n",
      "precision score : 0.798\n",
      "recall score : 0.758\n",
      "f1 score : 0.777\n",
      "roc score : 0.783\n"
     ]
    },
    {
     "data": {
      "image/png": "[encoded data removed]",
      "text/plain": [
       "<Figure size 432x288 with 2 Axes>"
      ]
     },
     "metadata": {
      "needs_background": "light"
     },
     "output_type": "display_data"
    },
    {
     "data": {
      "image/png": "[encoded data removed]",
      "text/plain": [
       "<Figure size 576x432 with 1 Axes>"
      ]
     },
     "metadata": {
      "needs_background": "light"
     },
     "output_type": "display_data"
    },
    {
     "name": "stdout",
     "output_type": "stream",
     "text": [
      "[LightGBM] [Warning] min_data_in_leaf is set=14, min_child_samples=20 will be ignored. Current value: min_data_in_leaf=14\n"
     ]
    }
   ],
   "source": [
    "lgbm = LGBM(df)"
   ]
  },
  {
   "cell_type": "markdown",
   "metadata": {},
   "source": [
    "# 6. XGB"
   ]
  },
  {
   "cell_type": "code",
   "execution_count": 19,
   "metadata": {},
   "outputs": [],
   "source": [
    "def XGB(df):\n",
    "    X_train, X_test, y_train, y_test = data(df)\n",
    "\n",
    "    xgb = XGBClassifier()\n",
    "    param_xgb={'booster' :['gbtree'],\n",
    "               'silent' : [1],\n",
    "               'learning_rate' : [0.01],    # 나중에 한 번 더 확인\n",
    "               'n_estimators' : [400],\n",
    "               'min_child_weight' : [3],  ###\n",
    "               'gamma' : [1.0],    ###\n",
    "               'max_depth' : [5],     ###\n",
    "               'objective':['binary:logistic'],\n",
    "               'colsample_bytree' : [0.8],\n",
    "               'colsample_bylevel' : [0.6],\n",
    "               'random_state' : [121],\n",
    "               'scale_pos_weight' : [ len(df[df['y']==0])/len(df[df['y']==1]) ]\n",
    "                }\n",
    "\n",
    "    gridsearch = GridSearchCV(xgb, param_grid = param_xgb, cv=KFold(n_splits=5, shuffle = True, random_state=42), n_jobs=-1, scoring='f1', verbose=0)\n",
    "    gridsearch.fit(X_train, y_train)\n",
    "    \n",
    "    print('최적 파라미터\\n', gridsearch.best_params_)\n",
    "    print('학습 데이터 정확도 : ', gridsearch.best_score_)\n",
    "\n",
    "    estimator = gridsearch.best_estimator_\n",
    "    pred = pd.DataFrame(estimator.predict(X_test))\n",
    "    # pred = estimator.predict(X_test)\n",
    "    print('\\n예측 데이터 정확도')\n",
    "    score(y_test, pred)\n",
    "    \n",
    "    pred_probability = pd.DataFrame(estimator.predict_proba(X_test))\n",
    "    prediction = pd.concat([pred_probability, pred], axis = 1)\n",
    "    prediction.columns = [\"Negative(0)\", \"Positive(1)\", \"y_pred\"]\n",
    "    pred_proba_1 = np.array(prediction[\"Positive(1)\"]).reshape(-1, 1)\n",
    " \n",
    "    print(get_f1_score(y_test, pred_proba_1))\n",
    "    return gridsearch.fit(X_train, y_train)"
   ]
  },
  {
   "cell_type": "code",
   "execution_count": 20,
   "metadata": {},
   "outputs": [
    {
     "name": "stdout",
     "output_type": "stream",
     "text": [
      "[18:46:45] WARNING: C:/Users/Administrator/workspace/xgboost-win64_release_1.6.0/src/learner.cc:627: \n",
      "Parameters: { \"silent\" } might not be used.\n",
      "\n",
      "  This could be a false alarm, with some parameters getting used by language bindings but\n",
      "  then being mistakenly passed down to XGBoost core, or some parameter actually being used\n",
      "  but getting flagged wrongly here. Please open an issue if you find any such cases.\n",
      "\n",
      "\n",
      "최적 파라미터\n",
      " {'booster': 'gbtree', 'colsample_bylevel': 0.6, 'colsample_bytree': 0.8, 'gamma': 1.0, 'learning_rate': 0.01, 'max_depth': 5, 'min_child_weight': 3, 'n_estimators': 400, 'objective': 'binary:logistic', 'random_state': 121, 'scale_pos_weight': 1.0, 'silent': 1}\n",
      "학습 데이터 정확도 :  0.8279990374832596\n",
      "\n",
      "예측 데이터 정확도\n",
      "accuracy score : 0.810\n",
      "precision score : 0.830\n",
      "recall score : 0.780\n",
      "f1 score : 0.805\n",
      "roc score : 0.810\n",
      "         Accuracy  Precision  Recall  F1 score  Auc_Score\n",
      "0.20000   0.72253    0.66135 0.91209   0.76674    0.72253\n",
      "0.30000   0.78571    0.73853 0.88462   0.80500    0.78571\n",
      "0.40000   0.80495    0.79058 0.82967   0.80965    0.80495\n",
      "0.50000   0.81044    0.83041 0.78022   0.80453    0.81044\n",
      "0.60000   0.79670    0.85065 0.71978   0.77976    0.79670\n",
      "0.70000   0.77198    0.87786 0.63187   0.73482    0.77198\n",
      "0.80000   0.72802    0.90291 0.51099   0.65263    0.72802\n",
      "0.90000   0.64835    0.95000 0.31319   0.47107    0.64835\n",
      "None\n",
      "[18:46:47] WARNING: C:/Users/Administrator/workspace/xgboost-win64_release_1.6.0/src/learner.cc:627: \n",
      "Parameters: { \"silent\" } might not be used.\n",
      "\n",
      "  This could be a false alarm, with some parameters getting used by language bindings but\n",
      "  then being mistakenly passed down to XGBoost core, or some parameter actually being used\n",
      "  but getting flagged wrongly here. Please open an issue if you find any such cases.\n",
      "\n",
      "\n"
     ]
    },
    {
     "data": {
      "image/png": "[encoded data removed]",
      "text/plain": [
       "<Figure size 432x288 with 2 Axes>"
      ]
     },
     "metadata": {
      "needs_background": "light"
     },
     "output_type": "display_data"
    }
   ],
   "source": [
    "xgb = XGB(df)"
   ]
  },
  {
   "cell_type": "markdown",
   "metadata": {},
   "source": [
    "# 7. Voting"
   ]
  },
  {
   "cell_type": "code",
   "execution_count": 21,
   "metadata": {},
   "outputs": [],
   "source": [
    "def SV(df):\n",
    "    import re\n",
    "    X_train, X_test, y_train, y_test = data(df.rename(columns = lambda x:re.sub(',', '', x)))\n",
    "\n",
    "    estimators = [['lr', logistic.best_estimator_],\n",
    "                  ['rf', rf.best_estimator_],\n",
    "                  ['dt', df_tree.best_estimator_],\n",
    "                  ['svm', svm.best_estimator_],\n",
    "                  ['lgbm',lgbm.best_estimator_],\n",
    "                  ['xgb', xgb.best_estimator_]]  # 모델 집합\n",
    "    \n",
    "    SV = VotingClassifier(estimators, voting=\"soft\",n_jobs=-1)\n",
    "    SV.fit(X_train, y_train)\n",
    "    pred = pd.DataFrame(SV.predict(X_test))\n",
    "    \n",
    "    print('\\n예측 데이터 정확도')\n",
    "    score(y_test, pred)\n",
    "    \n",
    "    pred_probability = pd.DataFrame(SV.predict_proba(X_test))\n",
    "    prediction = pd.concat([pred_probability, pred], axis = 1)\n",
    "    prediction.columns = [\"Negative(0)\", \"Positive(1)\", \"y_pred\"]\n",
    "    pred_proba_1 = np.array(prediction[\"Positive(1)\"]).reshape(-1, 1)\n",
    " \n",
    "    print(get_f1_score(y_test, pred_proba_1))\n",
    "    return SV.fit(X_train, y_train)"
   ]
  },
  {
   "cell_type": "code",
   "execution_count": 22,
   "metadata": {},
   "outputs": [
    {
     "name": "stdout",
     "output_type": "stream",
     "text": [
      "\n",
      "예측 데이터 정확도\n",
      "accuracy score : 0.810\n",
      "precision score : 0.816\n",
      "recall score : 0.802\n",
      "f1 score : 0.809\n",
      "roc score : 0.810\n",
      "         Accuracy  Precision  Recall  F1 score  Auc_Score\n",
      "0.20000   0.70330    0.64567 0.90110   0.75229    0.70330\n",
      "0.30000   0.77198    0.72603 0.87363   0.79302    0.77198\n",
      "0.40000   0.81319    0.79082 0.85165   0.82011    0.81319\n",
      "0.50000   0.81044    0.81564 0.80220   0.80886    0.81044\n",
      "0.60000   0.79121    0.84416 0.71429   0.77381    0.79121\n",
      "0.70000   0.76099    0.85714 0.62637   0.72381    0.76099\n",
      "0.80000   0.73077    0.91176 0.51099   0.65493    0.73077\n",
      "0.90000   0.64286    0.96429 0.29670   0.45378    0.64286\n",
      "None\n"
     ]
    },
    {
     "data": {
      "image/png": "[encoded data removed]",
      "text/plain": [
       "<Figure size 432x288 with 2 Axes>"
      ]
     },
     "metadata": {
      "needs_background": "light"
     },
     "output_type": "display_data"
    }
   ],
   "source": [
    "sv = SV(df)"
   ]
  },
  {
   "cell_type": "markdown",
   "metadata": {},
   "source": [
    "# 8. Stacking Ensemble"
   ]
  },
  {
   "cell_type": "code",
   "execution_count": 23,
   "metadata": {},
   "outputs": [],
   "source": [
    "# 개별모델 내부에서 CV 적용해 Stacking하는 함수 구현\n",
    "def get_stacking_datasets(model,df,n_folds=5):\n",
    "\n",
    "    import re\n",
    "    X_train, X_test, y_train, y_test = data(df.rename(columns = lambda x:re.sub(',', '', x)))\n",
    "    \n",
    "    # 최종 메타 모델이 사용할 학습 데이터 반환을 위해서 넘파이 배열을 0으로 만들어서 초기화\n",
    "    train_fold_pred = np.zeros((X_train.shape[0], 1)) # 2차원으로\n",
    "    test_pred = np.zeros((X_test.shape[0], n_folds))\n",
    "    print(model.__class__.__name__, '모델 시작')\n",
    "    \n",
    "    for folder_counter, (train_idx, valid_idx) in enumerate(KFold(n_splits=n_folds, shuffle=True, random_state=42).split(X_train)):\n",
    "        # 개별 모델 내부에서 학습하고 1개의 fold로 예측할 데이터 셋 추출\n",
    "        print(f\" Fold 횟수 : {folder_counter+1}\")\n",
    "        X_train_ = X_train.iloc[train_idx]\n",
    "        y_train_ = y_train.iloc[train_idx]\n",
    "        X_test_ = X_train.iloc[valid_idx]\n",
    "        \n",
    "        # 개별 모델이 학습한 후 1개의 fold데이터셋으로 예측값 반환 후 최종 메타모델이 학습할 데이터셋에 첨가\n",
    "        model.fit(X_train_, y_train_)\n",
    "        train_fold_pred[valid_idx, :] = model.predict(X_test_).reshape(-1,1)\n",
    "        # 개별 모델이 원본 데이터셋의 검증 데이터셋을 기반으로 예측 결과값 반환 후 최종 메타모델이 검증할 데이터셋에 첨가\n",
    "        test_pred[:, folder_counter] = model.predict(X_test)\n",
    "    \n",
    "    # 개별모델안에서 테스트 데이터셋을 기반으로 예측한 결과값들 mean취해주고 2차원으로 바꾸어주기\n",
    "    test_pred_mean = np.mean(test_pred, axis=1).reshape(-1,1)\n",
    "    \n",
    "    return train_fold_pred, test_pred_mean"
   ]
  },
  {
   "cell_type": "code",
   "execution_count": 24,
   "metadata": {},
   "outputs": [],
   "source": [
    "def stacking(df):\n",
    "    \n",
    "    X_train, X_test, y_train, y_test = data(df)\n",
    "    \n",
    "    lo_train, lo_test = get_stacking_datasets(logistic.best_estimator_, df, 5)\n",
    "    rf_train, rf_test = get_stacking_datasets(rf.best_estimator_, df, 5)\n",
    "    dt_train, dt_test = get_stacking_datasets(df_tree.best_estimator_, df, 5)\n",
    "    svm_train, svm_test = get_stacking_datasets(svm.best_estimator_, df, 5)\n",
    "    xgb_train, xgb_test = get_stacking_datasets(xgb.best_estimator_, df, 5)\n",
    "    \n",
    "    new_X_train = np.concatenate((lo_train, rf_train, dt_train), axis = 1)\n",
    "    new_X_test = np.concatenate((lo_test, rf_test,dt_test), axis = 1)\n",
    "    \n",
    "    # meta learner\n",
    "    lgbm.best_estimator_.fit(new_X_train, y_train)\n",
    "    y_test = pd.DataFrame(y_test)\n",
    "    stack_pred = pd.DataFrame(lgbm.best_estimator_.predict(new_X_test))\n",
    "    print('\\n예측 데이터 정확도')\n",
    "    score(y_test, stack_pred)"
   ]
  },
  {
   "cell_type": "code",
   "execution_count": 31,
   "metadata": {},
   "outputs": [
    {
     "name": "stdout",
     "output_type": "stream",
     "text": [
      "LogisticRegression 모델 시작\n",
      " Fold 횟수 : 1\n",
      " Fold 횟수 : 2\n",
      " Fold 횟수 : 3\n",
      " Fold 횟수 : 4\n",
      " Fold 횟수 : 5\n",
      "RandomForestClassifier 모델 시작\n",
      " Fold 횟수 : 1\n",
      " Fold 횟수 : 2\n",
      " Fold 횟수 : 3\n",
      " Fold 횟수 : 4\n",
      " Fold 횟수 : 5\n",
      "DecisionTreeClassifier 모델 시작\n",
      " Fold 횟수 : 1\n",
      " Fold 횟수 : 2\n",
      " Fold 횟수 : 3\n",
      " Fold 횟수 : 4\n",
      " Fold 횟수 : 5\n",
      "SVC 모델 시작\n",
      " Fold 횟수 : 1\n",
      " Fold 횟수 : 2\n",
      " Fold 횟수 : 3\n",
      " Fold 횟수 : 4\n",
      " Fold 횟수 : 5\n",
      "XGBClassifier 모델 시작\n",
      " Fold 횟수 : 1\n",
      "[18:52:58] WARNING: C:/Users/Administrator/workspace/xgboost-win64_release_1.6.0/src/learner.cc:627: \n",
      "Parameters: { \"silent\" } might not be used.\n",
      "\n",
      "  This could be a false alarm, with some parameters getting used by language bindings but\n",
      "  then being mistakenly passed down to XGBoost core, or some parameter actually being used\n",
      "  but getting flagged wrongly here. Please open an issue if you find any such cases.\n",
      "\n",
      "\n",
      " Fold 횟수 : 2\n",
      "[18:52:58] WARNING: C:/Users/Administrator/workspace/xgboost-win64_release_1.6.0/src/learner.cc:627: \n",
      "Parameters: { \"silent\" } might not be used.\n",
      "\n",
      "  This could be a false alarm, with some parameters getting used by language bindings but\n",
      "  then being mistakenly passed down to XGBoost core, or some parameter actually being used\n",
      "  but getting flagged wrongly here. Please open an issue if you find any such cases.\n",
      "\n",
      "\n",
      " Fold 횟수 : 3\n",
      "[18:52:58] WARNING: C:/Users/Administrator/workspace/xgboost-win64_release_1.6.0/src/learner.cc:627: \n",
      "Parameters: { \"silent\" } might not be used.\n",
      "\n",
      "  This could be a false alarm, with some parameters getting used by language bindings but\n",
      "  then being mistakenly passed down to XGBoost core, or some parameter actually being used\n",
      "  but getting flagged wrongly here. Please open an issue if you find any such cases.\n",
      "\n",
      "\n",
      " Fold 횟수 : 4\n",
      "[18:52:59] WARNING: C:/Users/Administrator/workspace/xgboost-win64_release_1.6.0/src/learner.cc:627: \n",
      "Parameters: { \"silent\" } might not be used.\n",
      "\n",
      "  This could be a false alarm, with some parameters getting used by language bindings but\n",
      "  then being mistakenly passed down to XGBoost core, or some parameter actually being used\n",
      "  but getting flagged wrongly here. Please open an issue if you find any such cases.\n",
      "\n",
      "\n",
      " Fold 횟수 : 5\n",
      "[18:52:59] WARNING: C:/Users/Administrator/workspace/xgboost-win64_release_1.6.0/src/learner.cc:627: \n",
      "Parameters: { \"silent\" } might not be used.\n",
      "\n",
      "  This could be a false alarm, with some parameters getting used by language bindings but\n",
      "  then being mistakenly passed down to XGBoost core, or some parameter actually being used\n",
      "  but getting flagged wrongly here. Please open an issue if you find any such cases.\n",
      "\n",
      "\n",
      "[LightGBM] [Warning] min_data_in_leaf is set=14, min_child_samples=20 will be ignored. Current value: min_data_in_leaf=14\n",
      "\n",
      "예측 데이터 정확도\n",
      "accuracy score : 0.786\n",
      "precision score : 0.780\n",
      "recall score : 0.797\n",
      "f1 score : 0.788\n",
      "roc score : 0.786\n"
     ]
    },
    {
     "data": {
      "image/png": "[encoded data removed]",
      "text/plain": [
       "<Figure size 432x288 with 2 Axes>"
      ]
     },
     "metadata": {
      "needs_background": "light"
     },
     "output_type": "display_data"
    }
   ],
   "source": [
    "stk = stacking(df)"
   ]
  },
  {
   "cell_type": "markdown",
   "metadata": {},
   "source": [
    "# 9. DNN"
   ]
  },
  {
   "cell_type": "code",
   "execution_count": 26,
   "metadata": {},
   "outputs": [],
   "source": [
    "#F1-score\n",
    "from tensorflow.keras import backend as K\n",
    "def custom_f1(y_target, y_pred):    \n",
    "    def recall(y_target, y_pred):\n",
    "    \n",
    "        y_target_yn = K.round(K.clip(y_target, 0, 1)) # 실제값을 0(Negative) 또는 1(Positive)로 설정한다\n",
    "        y_pred_yn = K.round(K.clip(y_pred, 0, 1)) # 예측값을 0(Negative) 또는 1(Positive)로 설정한다\n",
    "\n",
    "        count_true_positive = K.sum(y_target_yn * y_pred_yn) \n",
    "        count_true_positive_false_negative = K.sum(y_target_yn)\n",
    "\n",
    "        # Recall =  (True Positive) / (True Positive + False Negative)\n",
    "        # K.epsilon()는 'divide by zero error' 예방차원에서 작은 수를 더한다\n",
    "        recall = count_true_positive / (count_true_positive_false_negative + K.epsilon())\n",
    "        return recall\n",
    "\n",
    "\n",
    "    def precision(y_target, y_pred):\n",
    "    \n",
    "        y_pred_yn = K.round(K.clip(y_pred, 0, 1)) # 예측값을 0(Negative) 또는 1(Positive)로 설정한다\n",
    "        y_target_yn = K.round(K.clip(y_target, 0, 1)) # 실제값을 0(Negative) 또는 1(Positive)로 설정한다\n",
    "\n",
    "        count_true_positive = K.sum(y_target_yn * y_pred_yn) \n",
    "        count_true_positive_false_positive = K.sum(y_pred_yn)\n",
    "\n",
    "        # Precision = (True Positive) / (True Positive + False Positive)\n",
    "        # K.epsilon()는 'divide by zero error' 예방차원에서 작은 수를 더한다\n",
    "        precision = count_true_positive / (count_true_positive_false_positive + K.epsilon())\n",
    "\n",
    "        # return a single tensor value\n",
    "        return precision\n",
    "\n",
    "    precision, recall = precision(y_target, y_pred), recall(y_target, y_pred)\n",
    "\n",
    "    # K.epsilon()는 'divide by zero error' 예방차원에서 작은 수를 더한다\n",
    "    return ( 2 * recall * precision) / (recall + precision+ K.epsilon())"
   ]
  },
  {
   "cell_type": "code",
   "execution_count": 27,
   "metadata": {},
   "outputs": [],
   "source": [
    "def build_classifier(optimizer, n_units, n_layers):\n",
    "    classifier = Sequential()\n",
    "    classifier.add(Dense(units = n_units, kernel_initializer = 'uniform', activation = 'relu', input_dim = 19)) # kernel_initializer는 default값\n",
    "    \n",
    "    for i in range(n_layers):\n",
    "        classifier.add(Dense(units = n_units, kernel_initializer = 'uniform', activation = 'relu'))\n",
    "        \n",
    "    classifier.add(Dense(units = 1, kernel_initializer = 'uniform', activation = 'sigmoid'))\n",
    "    classifier.compile(optimizer = optimizer, loss = 'binary_crossentropy', metrics = [custom_f1])\n",
    "    return classifier"
   ]
  },
  {
   "cell_type": "code",
   "execution_count": 28,
   "metadata": {},
   "outputs": [],
   "source": [
    "# DNN은 GridSearchcv 너무 오래걸리기 때문에 random search로 진행\n",
    "from sklearn.model_selection import RandomizedSearchCV\n",
    "def DNN(df):\n",
    "    X_train, X_test, y_train, y_test = data(df)\n",
    "\n",
    "    classifier = KerasClassifier(build_fn = build_classifier)\n",
    "    parameters = {\n",
    "        'batch_size': [10,20,40,80],\n",
    "        'epochs': [100,200],\n",
    "        'optimizer': ['adam', 'rmsprop'],\n",
    "        'n_units': [10, 20, 30],\n",
    "        'n_layers': [1,2,3]\n",
    "    }\n",
    "    \n",
    "    random_search = RandomizedSearchCV(classifier, param_distributions=parameters, cv=KFold(n_splits=5, shuffle = True, random_state=42), scoring = 'f1', n_jobs=-1, verbose = 1)\n",
    "    random_search = random_search.fit(X_train, y_train)\n",
    "    # print('최적 파라미터\\n', random_search.best_params_)\n",
    "    # print('학습 데이터 정확도 : ', random_search.best_score_)\n",
    "    \n",
    "    estimator = random_search.best_estimator_\n",
    "    pred = pd.DataFrame(estimator.predict(X_test))\n",
    "    \n",
    "    print('\\n예측 데이터 정확도')\n",
    "    score(y_test, pred)"
   ]
  },
  {
   "cell_type": "code",
   "execution_count": 32,
   "metadata": {},
   "outputs": [
    {
     "name": "stdout",
     "output_type": "stream",
     "text": [
      "Fitting 5 folds for each of 10 candidates, totalling 50 fits\n",
      "Epoch 1/100\n",
      "15/15 [==============================] - 0s 1ms/step - loss: 0.6932 - custom_f1: 0.0405\n",
      "Epoch 2/100\n",
      "15/15 [==============================] - 0s 1ms/step - loss: 0.6932 - custom_f1: 0.0000e+00\n",
      "Epoch 3/100\n",
      "15/15 [==============================] - 0s 1ms/step - loss: 0.6932 - custom_f1: 0.0000e+00\n",
      "Epoch 4/100\n",
      "15/15 [==============================] - 0s 1ms/step - loss: 0.6932 - custom_f1: 0.5184\n",
      "Epoch 5/100\n",
      "15/15 [==============================] - 0s 1ms/step - loss: 0.6932 - custom_f1: 0.6578\n",
      "Epoch 6/100\n",
      "15/15 [==============================] - 0s 1ms/step - loss: 0.6931 - custom_f1: 0.6651\n",
      "Epoch 7/100\n",
      "15/15 [==============================] - 0s 1ms/step - loss: 0.6932 - custom_f1: 0.3889\n",
      "Epoch 8/100\n",
      "15/15 [==============================] - 0s 1ms/step - loss: 0.6932 - custom_f1: 0.6124\n",
      "Epoch 9/100\n",
      "15/15 [==============================] - 0s 1ms/step - loss: 0.6932 - custom_f1: 0.6665\n",
      "Epoch 10/100\n",
      "15/15 [==============================] - 0s 1ms/step - loss: 0.6932 - custom_f1: 0.6640\n",
      "Epoch 11/100\n",
      "15/15 [==============================] - 0s 997us/step - loss: 0.6932 - custom_f1: 0.6604\n",
      "Epoch 12/100\n",
      "15/15 [==============================] - 0s 1ms/step - loss: 0.6931 - custom_f1: 0.6711\n",
      "Epoch 13/100\n",
      "15/15 [==============================] - 0s 1ms/step - loss: 0.6932 - custom_f1: 0.6647\n",
      "Epoch 14/100\n",
      "15/15 [==============================] - 0s 1ms/step - loss: 0.6932 - custom_f1: 0.6535\n",
      "Epoch 15/100\n",
      "15/15 [==============================] - 0s 1ms/step - loss: 0.6932 - custom_f1: 0.6613\n",
      "Epoch 16/100\n",
      "15/15 [==============================] - 0s 1ms/step - loss: 0.6932 - custom_f1: 0.6664\n",
      "Epoch 17/100\n",
      "15/15 [==============================] - 0s 1ms/step - loss: 0.6932 - custom_f1: 0.4381\n",
      "Epoch 18/100\n",
      "15/15 [==============================] - 0s 1ms/step - loss: 0.6932 - custom_f1: 0.0000e+00\n",
      "Epoch 19/100\n",
      "15/15 [==============================] - 0s 1ms/step - loss: 0.6932 - custom_f1: 0.2555\n",
      "Epoch 20/100\n",
      "15/15 [==============================] - 0s 1ms/step - loss: 0.6932 - custom_f1: 0.4555\n",
      "Epoch 21/100\n",
      "15/15 [==============================] - 0s 1ms/step - loss: 0.6932 - custom_f1: 0.0398\n",
      "Epoch 22/100\n",
      "15/15 [==============================] - 0s 1ms/step - loss: 0.6932 - custom_f1: 0.0000e+00\n",
      "Epoch 23/100\n",
      "15/15 [==============================] - 0s 1ms/step - loss: 0.6932 - custom_f1: 0.2422\n",
      "Epoch 24/100\n",
      "15/15 [==============================] - 0s 1ms/step - loss: 0.6932 - custom_f1: 0.0000e+00\n",
      "Epoch 25/100\n",
      "15/15 [==============================] - 0s 2ms/step - loss: 0.6932 - custom_f1: 0.0000e+00\n",
      "Epoch 26/100\n",
      "15/15 [==============================] - 0s 2ms/step - loss: 0.6932 - custom_f1: 0.0000e+00\n",
      "Epoch 27/100\n",
      "15/15 [==============================] - 0s 1ms/step - loss: 0.6931 - custom_f1: 0.0000e+00\n",
      "Epoch 28/100\n",
      "15/15 [==============================] - 0s 1ms/step - loss: 0.6932 - custom_f1: 0.0000e+00\n",
      "Epoch 29/100\n",
      "15/15 [==============================] - 0s 2ms/step - loss: 0.6932 - custom_f1: 0.0000e+00\n",
      "Epoch 30/100\n",
      "15/15 [==============================] - 0s 2ms/step - loss: 0.6932 - custom_f1: 0.5213\n",
      "Epoch 31/100\n",
      "15/15 [==============================] - 0s 2ms/step - loss: 0.6932 - custom_f1: 0.6589\n",
      "Epoch 32/100\n",
      "15/15 [==============================] - 0s 1ms/step - loss: 0.6932 - custom_f1: 0.4292\n",
      "Epoch 33/100\n",
      "15/15 [==============================] - 0s 1ms/step - loss: 0.6932 - custom_f1: 0.0288\n",
      "Epoch 34/100\n",
      "15/15 [==============================] - 0s 2ms/step - loss: 0.6932 - custom_f1: 0.5550\n",
      "Epoch 35/100\n",
      "15/15 [==============================] - 0s 2ms/step - loss: 0.6932 - custom_f1: 0.2133\n",
      "Epoch 36/100\n",
      "15/15 [==============================] - 0s 1ms/step - loss: 0.6932 - custom_f1: 0.0000e+00\n",
      "Epoch 37/100\n",
      "15/15 [==============================] - 0s 2ms/step - loss: 0.6932 - custom_f1: 0.0000e+00\n",
      "Epoch 38/100\n",
      "15/15 [==============================] - 0s 2ms/step - loss: 0.6932 - custom_f1: 0.0000e+00\n",
      "Epoch 39/100\n",
      "15/15 [==============================] - 0s 1ms/step - loss: 0.6932 - custom_f1: 0.0000e+00\n",
      "Epoch 40/100\n",
      "15/15 [==============================] - 0s 1ms/step - loss: 0.6932 - custom_f1: 0.0000e+00\n",
      "Epoch 41/100\n",
      "15/15 [==============================] - 0s 1ms/step - loss: 0.6932 - custom_f1: 0.0000e+00\n",
      "Epoch 42/100\n",
      "15/15 [==============================] - 0s 1ms/step - loss: 0.6932 - custom_f1: 0.0000e+00\n",
      "Epoch 43/100\n",
      "15/15 [==============================] - 0s 2ms/step - loss: 0.6932 - custom_f1: 0.0000e+00\n",
      "Epoch 44/100\n",
      "15/15 [==============================] - 0s 2ms/step - loss: 0.6932 - custom_f1: 0.0000e+00\n",
      "Epoch 45/100\n",
      "15/15 [==============================] - 0s 1ms/step - loss: 0.6932 - custom_f1: 0.0000e+00\n",
      "Epoch 46/100\n",
      "15/15 [==============================] - 0s 1ms/step - loss: 0.6932 - custom_f1: 0.0000e+00\n",
      "Epoch 47/100\n",
      "15/15 [==============================] - 0s 1ms/step - loss: 0.6932 - custom_f1: 0.0000e+00\n",
      "Epoch 48/100\n",
      "15/15 [==============================] - 0s 1ms/step - loss: 0.6932 - custom_f1: 0.0000e+00\n",
      "Epoch 49/100\n",
      "15/15 [==============================] - 0s 1ms/step - loss: 0.6932 - custom_f1: 0.0000e+00\n",
      "Epoch 50/100\n",
      "15/15 [==============================] - 0s 1ms/step - loss: 0.6932 - custom_f1: 0.0000e+00\n",
      "Epoch 51/100\n",
      "15/15 [==============================] - 0s 1ms/step - loss: 0.6932 - custom_f1: 0.0000e+00\n",
      "Epoch 52/100\n",
      "15/15 [==============================] - 0s 1ms/step - loss: 0.6932 - custom_f1: 0.0000e+00\n",
      "Epoch 53/100\n",
      "15/15 [==============================] - 0s 925us/step - loss: 0.6932 - custom_f1: 0.0000e+00\n",
      "Epoch 54/100\n",
      "15/15 [==============================] - 0s 881us/step - loss: 0.6932 - custom_f1: 0.0000e+00\n",
      "Epoch 55/100\n",
      "15/15 [==============================] - 0s 783us/step - loss: 0.6932 - custom_f1: 0.0000e+00\n",
      "Epoch 56/100\n",
      "15/15 [==============================] - 0s 712us/step - loss: 0.6932 - custom_f1: 0.0000e+00\n",
      "Epoch 57/100\n",
      "15/15 [==============================] - 0s 736us/step - loss: 0.6932 - custom_f1: 0.0000e+00\n",
      "Epoch 58/100\n",
      "15/15 [==============================] - 0s 785us/step - loss: 0.6932 - custom_f1: 0.0000e+00\n",
      "Epoch 59/100\n",
      "15/15 [==============================] - 0s 736us/step - loss: 0.6932 - custom_f1: 0.0000e+00\n",
      "Epoch 60/100\n",
      "15/15 [==============================] - 0s 716us/step - loss: 0.6932 - custom_f1: 0.0000e+00\n",
      "Epoch 61/100\n",
      "15/15 [==============================] - 0s 783us/step - loss: 0.6932 - custom_f1: 0.0000e+00\n",
      "Epoch 62/100\n",
      "15/15 [==============================] - 0s 784us/step - loss: 0.6932 - custom_f1: 0.0000e+00\n",
      "Epoch 63/100\n",
      "15/15 [==============================] - 0s 806us/step - loss: 0.6932 - custom_f1: 0.0000e+00\n",
      "Epoch 64/100\n",
      "15/15 [==============================] - 0s 829us/step - loss: 0.6932 - custom_f1: 0.0000e+00\n",
      "Epoch 65/100\n",
      "15/15 [==============================] - 0s 811us/step - loss: 0.6932 - custom_f1: 0.0000e+00\n",
      "Epoch 66/100\n",
      "15/15 [==============================] - 0s 798us/step - loss: 0.6932 - custom_f1: 0.0000e+00\n",
      "Epoch 67/100\n",
      "15/15 [==============================] - 0s 859us/step - loss: 0.6932 - custom_f1: 0.0000e+00\n",
      "Epoch 68/100\n",
      "15/15 [==============================] - 0s 2ms/step - loss: 0.6932 - custom_f1: 0.0000e+00\n",
      "Epoch 69/100\n",
      "15/15 [==============================] - 0s 1ms/step - loss: 0.6932 - custom_f1: 0.0000e+00\n",
      "Epoch 70/100\n",
      "15/15 [==============================] - 0s 1ms/step - loss: 0.6932 - custom_f1: 0.0000e+00\n",
      "Epoch 71/100\n",
      "15/15 [==============================] - 0s 1ms/step - loss: 0.6932 - custom_f1: 0.0000e+00\n",
      "Epoch 72/100\n",
      "15/15 [==============================] - 0s 1ms/step - loss: 0.6932 - custom_f1: 0.0000e+00\n",
      "Epoch 73/100\n",
      "15/15 [==============================] - 0s 997us/step - loss: 0.6932 - custom_f1: 0.0000e+00\n",
      "Epoch 74/100\n",
      "15/15 [==============================] - 0s 925us/step - loss: 0.6932 - custom_f1: 0.0000e+00\n",
      "Epoch 75/100\n",
      "15/15 [==============================] - 0s 859us/step - loss: 0.6932 - custom_f1: 0.0000e+00\n",
      "Epoch 76/100\n",
      "15/15 [==============================] - 0s 890us/step - loss: 0.6932 - custom_f1: 0.0000e+00\n",
      "Epoch 77/100\n",
      "15/15 [==============================] - 0s 907us/step - loss: 0.6932 - custom_f1: 0.0000e+00\n",
      "Epoch 78/100\n",
      "15/15 [==============================] - 0s 942us/step - loss: 0.6932 - custom_f1: 0.0000e+00\n",
      "Epoch 79/100\n",
      "15/15 [==============================] - 0s 1ms/step - loss: 0.6932 - custom_f1: 0.0000e+00\n",
      "Epoch 80/100\n",
      "15/15 [==============================] - 0s 1ms/step - loss: 0.6932 - custom_f1: 0.0000e+00\n",
      "Epoch 81/100\n",
      "15/15 [==============================] - 0s 931us/step - loss: 0.6932 - custom_f1: 0.0000e+00\n",
      "Epoch 82/100\n",
      "15/15 [==============================] - 0s 930us/step - loss: 0.6932 - custom_f1: 0.0000e+00\n",
      "Epoch 83/100\n",
      "15/15 [==============================] - 0s 997us/step - loss: 0.6932 - custom_f1: 0.0000e+00\n",
      "Epoch 84/100\n",
      "15/15 [==============================] - 0s 920us/step - loss: 0.6932 - custom_f1: 0.0000e+00\n",
      "Epoch 85/100\n",
      "15/15 [==============================] - 0s 966us/step - loss: 0.6932 - custom_f1: 0.0000e+00\n",
      "Epoch 86/100\n",
      "15/15 [==============================] - 0s 925us/step - loss: 0.6932 - custom_f1: 0.0000e+00\n",
      "Epoch 87/100\n",
      "15/15 [==============================] - 0s 1ms/step - loss: 0.6932 - custom_f1: 0.0000e+00\n",
      "Epoch 88/100\n",
      "15/15 [==============================] - 0s 1ms/step - loss: 0.6932 - custom_f1: 0.0000e+00\n",
      "Epoch 89/100\n",
      "15/15 [==============================] - 0s 1ms/step - loss: 0.6932 - custom_f1: 0.0000e+00\n",
      "Epoch 90/100\n",
      "15/15 [==============================] - 0s 997us/step - loss: 0.6932 - custom_f1: 0.0000e+00\n",
      "Epoch 91/100\n",
      "15/15 [==============================] - 0s 950us/step - loss: 0.6932 - custom_f1: 0.0000e+00\n",
      "Epoch 92/100\n",
      "15/15 [==============================] - 0s 925us/step - loss: 0.6932 - custom_f1: 0.0000e+00\n",
      "Epoch 93/100\n",
      "15/15 [==============================] - 0s 855us/step - loss: 0.6932 - custom_f1: 0.0000e+00\n",
      "Epoch 94/100\n",
      "15/15 [==============================] - 0s 854us/step - loss: 0.6932 - custom_f1: 0.0000e+00\n",
      "Epoch 95/100\n",
      "15/15 [==============================] - 0s 997us/step - loss: 0.6932 - custom_f1: 0.0000e+00\n",
      "Epoch 96/100\n",
      "15/15 [==============================] - 0s 926us/step - loss: 0.6932 - custom_f1: 0.0000e+00\n",
      "Epoch 97/100\n",
      "15/15 [==============================] - 0s 925us/step - loss: 0.6932 - custom_f1: 0.0000e+00\n",
      "Epoch 98/100\n",
      "15/15 [==============================] - 0s 1ms/step - loss: 0.6932 - custom_f1: 0.0000e+00\n",
      "Epoch 99/100\n",
      "15/15 [==============================] - 0s 1ms/step - loss: 0.6932 - custom_f1: 0.0000e+00\n",
      "Epoch 100/100\n",
      "15/15 [==============================] - 0s 969us/step - loss: 0.6932 - custom_f1: 0.0000e+00\n",
      "\n",
      "예측 데이터 정확도\n",
      "accuracy score : 0.500\n",
      "precision score : 0.000\n",
      "recall score : 0.000\n",
      "f1 score : 0.000\n",
      "roc score : 0.500\n"
     ]
    },
    {
     "data": {
      "image/png": "[encoded data removed]",
      "text/plain": [
       "<Figure size 432x288 with 2 Axes>"
      ]
     },
     "metadata": {
      "needs_background": "light"
     },
     "output_type": "display_data"
    }
   ],
   "source": [
    "dnn = DNN(df)"
   ]
  },
  {
   "cell_type": "markdown",
   "metadata": {},
   "source": [
    "# 10. Raw data에 적합한 모델 적용"
   ]
  },
  {
   "cell_type": "code",
   "execution_count": 37,
   "metadata": {},
   "outputs": [],
   "source": [
    "df_raw = pd.read_csv('./data/df_final_raw.csv', index_col=0, encoding='utf-8')\n",
    "\n",
    "X = df_raw.drop(['y','회사명','거래소코드','회계년도'], axis=1)\n",
    "X = X[['자기자본비율', '총자산규모', '총자본회전율', '총자본순이익률', '자기자본증가율', '자기자본회전율', '차입금의존도',\n",
    "       '총자산증가율','광업', '교육 서비스업', '감사의견코드',\n",
    "       '도매 및 소매업', '사업시설 관리, 사업 지원 및 임대 서비스업', '수도, 하수 및 폐기물 처리, 원료 재생업',\n",
    "       '예술, 스포츠 및 여가관련 서비스업', '전기, 가스, 증기 및 공기조절 공급업', '전문, 과학 및 기술 서비스업',\n",
    "       '정보통신업', '제조업']]\n",
    "y = df_raw[['y']]"
   ]
  },
  {
   "cell_type": "code",
   "execution_count": 59,
   "metadata": {},
   "outputs": [
    {
     "name": "stdout",
     "output_type": "stream",
     "text": [
      "\n",
      "lr\n",
      "accuracy score : 0.838\n",
      "precision score : 0.117\n",
      "recall score : 0.409\n",
      "f1 score : 0.182\n",
      "roc score : 0.634\n"
     ]
    },
    {
     "data": {
      "image/png": "[encoded data removed]",
      "text/plain": [
       "<Figure size 432x288 with 2 Axes>"
      ]
     },
     "metadata": {
      "needs_background": "light"
     },
     "output_type": "display_data"
    }
   ],
   "source": [
    "print('\\nlr')\n",
    "lr_pred = logistic.predict(X)\n",
    "score(y,lr_pred)"
   ]
  },
  {
   "cell_type": "code",
   "execution_count": 54,
   "metadata": {},
   "outputs": [
    {
     "name": "stdout",
     "output_type": "stream",
     "text": [
      "\n",
      "sv\n",
      "accuracy score : 0.646\n",
      "precision score : 0.094\n",
      "recall score : 0.812\n",
      "f1 score : 0.168\n",
      "roc score : 0.725\n"
     ]
    },
    {
     "data": {
      "image/png": "[encoded data removed]",
      "text/plain": [
       "<Figure size 432x288 with 2 Axes>"
      ]
     },
     "metadata": {
      "needs_background": "light"
     },
     "output_type": "display_data"
    }
   ],
   "source": [
    "print('\\nsv')\n",
    "sv_pred = sv.predict(X)\n",
    "score(y,sv_pred)"
   ]
  },
  {
   "cell_type": "markdown",
   "metadata": {},
   "source": [
    "## 10-2. 실제 값과 예측값 합치기"
   ]
  },
  {
   "cell_type": "code",
   "execution_count": 47,
   "metadata": {},
   "outputs": [],
   "source": [
    "# 1) 살제 df\n",
    "df_raw_실제 = df_raw.drop(['자기자본비율', '총자산규모', '총자본회전율', '총자본순이익률', '자기자본증가율', '자기자본회전율', '차입금의존도',\n",
    "       '총자산증가율','광업', '교육 서비스업', '감사의견코드','회사명',\n",
    "       '도매 및 소매업', '사업시설 관리, 사업 지원 및 임대 서비스업', '수도, 하수 및 폐기물 처리, 원료 재생업',\n",
    "       '예술, 스포츠 및 여가관련 서비스업', '전기, 가스, 증기 및 공기조절 공급업', '전문, 과학 및 기술 서비스업',\n",
    "       '정보통신업', '제조업'], axis=1,)"
   ]
  },
  {
   "cell_type": "code",
   "execution_count": 49,
   "metadata": {},
   "outputs": [
    {
     "data": {
      "text/html": [
       "<div>\n",
       "<style scoped>\n",
       "    .dataframe tbody tr th:only-of-type {\n",
       "        vertical-align: middle;\n",
       "    }\n",
       "\n",
       "    .dataframe tbody tr th {\n",
       "        vertical-align: top;\n",
       "    }\n",
       "\n",
       "    .dataframe thead th {\n",
       "        text-align: right;\n",
       "    }\n",
       "</style>\n",
       "<table border=\"1\" class=\"dataframe\">\n",
       "  <thead>\n",
       "    <tr style=\"text-align: right;\">\n",
       "      <th></th>\n",
       "      <th>거래소코드</th>\n",
       "      <th>회계년도</th>\n",
       "      <th>y</th>\n",
       "      <th>예측</th>\n",
       "    </tr>\n",
       "  </thead>\n",
       "  <tbody>\n",
       "    <tr>\n",
       "      <th>0</th>\n",
       "      <td>58820</td>\n",
       "      <td>2011</td>\n",
       "      <td>0.00000</td>\n",
       "      <td>0</td>\n",
       "    </tr>\n",
       "    <tr>\n",
       "      <th>1</th>\n",
       "      <td>58820</td>\n",
       "      <td>2012</td>\n",
       "      <td>0.00000</td>\n",
       "      <td>1</td>\n",
       "    </tr>\n",
       "    <tr>\n",
       "      <th>2</th>\n",
       "      <td>58820</td>\n",
       "      <td>2013</td>\n",
       "      <td>0.00000</td>\n",
       "      <td>0</td>\n",
       "    </tr>\n",
       "    <tr>\n",
       "      <th>3</th>\n",
       "      <td>58820</td>\n",
       "      <td>2014</td>\n",
       "      <td>0.00000</td>\n",
       "      <td>0</td>\n",
       "    </tr>\n",
       "    <tr>\n",
       "      <th>4</th>\n",
       "      <td>58820</td>\n",
       "      <td>2015</td>\n",
       "      <td>0.00000</td>\n",
       "      <td>0</td>\n",
       "    </tr>\n",
       "    <tr>\n",
       "      <th>...</th>\n",
       "      <td>...</td>\n",
       "      <td>...</td>\n",
       "      <td>...</td>\n",
       "      <td>...</td>\n",
       "    </tr>\n",
       "    <tr>\n",
       "      <th>10654</th>\n",
       "      <td>24060</td>\n",
       "      <td>2016</td>\n",
       "      <td>0.00000</td>\n",
       "      <td>0</td>\n",
       "    </tr>\n",
       "    <tr>\n",
       "      <th>10655</th>\n",
       "      <td>24060</td>\n",
       "      <td>2017</td>\n",
       "      <td>0.00000</td>\n",
       "      <td>0</td>\n",
       "    </tr>\n",
       "    <tr>\n",
       "      <th>10656</th>\n",
       "      <td>24060</td>\n",
       "      <td>2018</td>\n",
       "      <td>0.00000</td>\n",
       "      <td>0</td>\n",
       "    </tr>\n",
       "    <tr>\n",
       "      <th>10657</th>\n",
       "      <td>24060</td>\n",
       "      <td>2019</td>\n",
       "      <td>0.00000</td>\n",
       "      <td>0</td>\n",
       "    </tr>\n",
       "    <tr>\n",
       "      <th>10658</th>\n",
       "      <td>24060</td>\n",
       "      <td>2020</td>\n",
       "      <td>0.00000</td>\n",
       "      <td>0</td>\n",
       "    </tr>\n",
       "  </tbody>\n",
       "</table>\n",
       "<p>10659 rows × 4 columns</p>\n",
       "</div>"
      ],
      "text/plain": [
       "       거래소코드  회계년도       y  예측\n",
       "0      58820  2011 0.00000   0\n",
       "1      58820  2012 0.00000   1\n",
       "2      58820  2013 0.00000   0\n",
       "3      58820  2014 0.00000   0\n",
       "4      58820  2015 0.00000   0\n",
       "...      ...   ...     ...  ..\n",
       "10654  24060  2016 0.00000   0\n",
       "10655  24060  2017 0.00000   0\n",
       "10656  24060  2018 0.00000   0\n",
       "10657  24060  2019 0.00000   0\n",
       "10658  24060  2020 0.00000   0\n",
       "\n",
       "[10659 rows x 4 columns]"
      ]
     },
     "execution_count": 49,
     "metadata": {},
     "output_type": "execute_result"
    }
   ],
   "source": [
    "# 2) 예측 값 합치기\n",
    "예측 = pd.Series(xgb_pred)\n",
    "df_실제예측 = pd.concat([df_raw_실제, 예측], axis=1)\n",
    "df_실제예측.rename(columns={0:'예측'},inplace=True)\n",
    "df_실제예측"
   ]
  },
  {
   "cell_type": "code",
   "execution_count": 50,
   "metadata": {},
   "outputs": [],
   "source": [
    "df_실제예측.to_csv('./data/실제_예측_xgb.csv', encoding='utf-8-sig')"
   ]
  },
  {
   "cell_type": "code",
   "execution_count": null,
   "metadata": {},
   "outputs": [],
   "source": []
  }
 ],
 "metadata": {
  "kernelspec": {
   "display_name": "Python 3.10.4 64-bit",
   "language": "python",
   "name": "python3"
  },
  "language_info": {
   "codemirror_mode": {
    "name": "ipython",
    "version": 3
   },
   "file_extension": ".py",
   "mimetype": "text/x-python",
   "name": "python",
   "nbconvert_exporter": "python",
   "pygments_lexer": "ipython3",
   "version": "3.10.4"
  },
  "orig_nbformat": 4,
  "vscode": {
   "interpreter": {
    "hash": "c7df6bf223f7176d7550708f63d913b2afa49efdbb82907fa2478d15fdb8b293"
   }
  }
 },
 "nbformat": 4,
 "nbformat_minor": 2
}
