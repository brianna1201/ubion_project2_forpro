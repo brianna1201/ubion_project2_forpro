{
 "cells": [
  {
   "cell_type": "code",
   "execution_count": null,
   "metadata": {},
   "outputs": [],
   "source": [
    "# 기본 setting\n",
    "import numpy as np\n",
    "import pandas as pd\n",
    "import matplotlib.pyplot as plt\n",
    "import seaborn as sns\n",
    "from matplotlib import font_manager, rc\n",
    "font_path = \"C:/Windows/Fonts/malgun.ttf\"\n",
    "font = font_manager.FontProperties(fname=font_path).get_name()\n",
    "rc('font', family=font)\n",
    "import warnings\n",
    "warnings.filterwarnings(action = 'ignore')\n",
    "pd.options.display.float_format = '{:.5f}'.format\n",
    "\n",
    "# Model\n",
    "from sklearn.linear_model import LogisticRegression\n",
    "from sklearn.tree import DecisionTreeClassifier\n",
    "from sklearn.tree import export_graphviz\n",
    "import graphviz\n",
    "from sklearn.svm import SVC\n",
    "from sklearn.ensemble import VotingClassifier\n",
    "from sklearn.neighbors import KNeighborsClassifier\n",
    "from xgboost import XGBClassifier\n",
    "from lightgbm import plot_importance\n",
    "from sklearn.ensemble import RandomForestClassifier\n",
    "from lightgbm import LGBMClassifier\n",
    "from keras.wrappers.scikit_learn import KerasClassifier\n",
    "from keras.models import Sequential\n",
    "from keras.layers import Dense,Dropout\n",
    "from keras.callbacks import Callback\n",
    "from seqeval.metrics import f1_score\n",
    "from imblearn.over_sampling import SMOTENC\n",
    "\n",
    "from sklearn.preprocessing import StandardScaler, RobustScaler, QuantileTransformer, MinMaxScaler\n",
    "from sklearn.model_selection import KFold , GridSearchCV , train_test_split\n",
    "from sklearn.metrics import f1_score, accuracy_score, recall_score, precision_score ,roc_auc_score, roc_curve,confusion_matrix\n",
    "from sklearn.preprocessing import Binarizer\n"
   ]
  },
  {
   "cell_type": "markdown",
   "metadata": {},
   "source": [
    "# 1. EDA\n",
    "1. 결측치 확인\n",
    "2. 무한대 확인\n",
    "3. boxplot → 이상치 처리 → winsorizing"
   ]
  },
  {
   "cell_type": "code",
   "execution_count": null,
   "metadata": {},
   "outputs": [],
   "source": [
    "import pandas as pd\n",
    "import numpy as np"
   ]
  },
  {
   "cell_type": "code",
   "execution_count": null,
   "metadata": {},
   "outputs": [],
   "source": [
    "df_final = pd.read_csv('./data/df_over.csv',index_col=0)\n",
    "df_final['거래소코드'] = df_final['거래소코드'].astype('str').str.zfill(6)\n",
    "df_final['회계년도'] = pd.to_datetime(df_final['회계년도'],format='%Y')\n",
    "df_final['회계년도'] = df_final['회계년도'].dt.year\n",
    "df_final"
   ]
  },
  {
   "cell_type": "markdown",
   "metadata": {},
   "source": [
    "## 1-1. 결측치 확인"
   ]
  },
  {
   "cell_type": "code",
   "execution_count": null,
   "metadata": {},
   "outputs": [],
   "source": [
    "df_final.isna().sum()"
   ]
  },
  {
   "cell_type": "markdown",
   "metadata": {},
   "source": [
    "## 1-2. 무한대 확인"
   ]
  },
  {
   "cell_type": "code",
   "execution_count": null,
   "metadata": {},
   "outputs": [],
   "source": [
    "np.isinf(abs(df_final.iloc[:,6:38])).sum()"
   ]
  },
  {
   "cell_type": "markdown",
   "metadata": {},
   "source": [
    "## 1-3. boxplot 이상치 처리"
   ]
  },
  {
   "cell_type": "code",
   "execution_count": null,
   "metadata": {},
   "outputs": [],
   "source": [
    "# 이상치 확인을 위한 boxplot 그리기 전 초기작업\n",
    "import seaborn as sns #heatmap 만들기 위한 라이브러리\n",
    "import matplotlib.pyplot as plt\n",
    "import warnings\n",
    "import numpy as np\n",
    "import matplotlib\n",
    "\n",
    "%matplotlib inline\n",
    "plt.style.use('seaborn')\n",
    "plt.rcParams['figure.figsize'] = [30, 40]\n",
    "plt.rcParams['figure.dpi'] = 300\n",
    "warnings.simplefilter(action='ignore', category=FutureWarning)"
   ]
  },
  {
   "cell_type": "code",
   "execution_count": null,
   "metadata": {},
   "outputs": [],
   "source": [
    "import numpy as np\n",
    "import matplotlib.pyplot as plt\n",
    "%matplotlib inline\n",
    "\n",
    "plt.rcParams['axes.unicode_minus'] = False\n",
    "plt.rcParams[\"font.family\"] = \"Malgun Gothic\"\n",
    "\n",
    "ncols = 8\n",
    "nrows = 4\n",
    "\n",
    "fig, axs = plt.subplots(nrows, ncols, constrained_layout=True)\n",
    "\n",
    "fig.set_size_inches((30, 40))\n",
    "\n",
    "for col, ax in zip(df_final.columns[6:38], axs.T.ravel()):\n",
    "    df_final[[col]].boxplot(ax=ax)\n",
    "    \n",
    "plt.show()"
   ]
  },
  {
   "cell_type": "markdown",
   "metadata": {},
   "source": [
    "이상치 조정\n",
    "- 너무 극단적인 이상치에 대해서는 winsorising 진행\n",
    "- winsorize시 분포의 95% 외의 값은 max와 min 값으로 대체"
   ]
  },
  {
   "cell_type": "code",
   "execution_count": null,
   "metadata": {},
   "outputs": [],
   "source": [
    "df_final_1 = df_final.iloc[:,6:38]"
   ]
  },
  {
   "cell_type": "code",
   "execution_count": null,
   "metadata": {},
   "outputs": [],
   "source": [
    "# boxplot에서 보이는 이상치 처리 -> 5% winsorizing 활용\n",
    "from scipy.stats.mstats import winsorize\n",
    "for i in range(len(df_final_1.columns)):\n",
    "  df_final_1.iloc[:,i]= winsorize(df_final_1.iloc[:,i], limits=[0.025, 0.025])"
   ]
  },
  {
   "cell_type": "code",
   "execution_count": null,
   "metadata": {},
   "outputs": [],
   "source": [
    "import numpy as np\n",
    "import matplotlib.pyplot as plt\n",
    "%matplotlib inline\n",
    "\n",
    "plt.rcParams['axes.unicode_minus'] = False\n",
    "plt.rcParams[\"font.family\"] = \"Malgun Gothic\"\n",
    "\n",
    "ncols = 8\n",
    "nrows = 4\n",
    "\n",
    "fig, axs = plt.subplots(nrows, ncols, constrained_layout=True)\n",
    "\n",
    "fig.set_size_inches((30, 40))\n",
    "\n",
    "for col, ax in zip(df_final_1.columns[6:38], axs.T.ravel()):\n",
    "    df_final_1[[col]].boxplot(ax=ax)\n",
    "    \n",
    "plt.show()"
   ]
  },
  {
   "cell_type": "markdown",
   "metadata": {},
   "source": [
    "# 2. 변수 선택 및 변수 세분화"
   ]
  },
  {
   "cell_type": "code",
   "execution_count": null,
   "metadata": {},
   "outputs": [],
   "source": [
    "# 1) 독립변수, 종속변수 나누기\n",
    "x = df_final_1.iloc[:,6:38]\n",
    "x"
   ]
  },
  {
   "cell_type": "markdown",
   "metadata": {},
   "source": [
    "## 2-1. StandardScaler"
   ]
  },
  {
   "cell_type": "code",
   "execution_count": null,
   "metadata": {},
   "outputs": [],
   "source": [
    "# 2) standard scale로 변화를 확인해보고자 원본 독립변수들을 스케일링 진행\n",
    "from sklearn.preprocessing import StandardScaler\n",
    "\n",
    "scale = StandardScaler()\n",
    "x_scaled = scale.fit_transform(x)\n",
    "x_scaled_df = pd.DataFrame(x_scaled, columns = x.columns)\n",
    "x_scaled_df.head()"
   ]
  },
  {
   "cell_type": "markdown",
   "metadata": {},
   "source": [
    "### 2-1-1. 히트맵을 이용한 다중공선성확인"
   ]
  },
  {
   "cell_type": "code",
   "execution_count": null,
   "metadata": {},
   "outputs": [],
   "source": [
    "# 이상치 확인을 위한 boxplot 그리기 전 초기작업\n",
    "import seaborn as sns #heatmap 만들기 위한 라이브러리\n",
    "import matplotlib.pyplot as plt\n",
    "import warnings\n",
    "import numpy as np\n",
    "import matplotlib\n",
    "from matplotlib import rc\n",
    "\n",
    "%matplotlib inline\n",
    "plt.style.use('seaborn')\n",
    "plt.rcParams['figure.dpi'] = 300\n",
    "#rc('font', family='AppleGothic') # Mac Os\n",
    "rc('font', family='NanumGothic') # Windows Os\n",
    "plt.rcParams['axes.unicode_minus'] = False\n",
    "warnings.simplefilter(action='ignore', category=FutureWarning)"
   ]
  },
  {
   "cell_type": "code",
   "execution_count": null,
   "metadata": {},
   "outputs": [],
   "source": [
    "# 3) 상관행렬 시각화\n",
    "mask_ut=np.triu(np.ones(x_scaled_df.corr().shape)).astype(bool)  # 배열 행렬에 위쪽 삼각형 반환 -> True\n",
    "plt.figure(figsize=(30,30))\n",
    "sns.heatmap(x_scaled_df.corr(method='pearson'), annot = True, cmap = 'RdYlBu_r', cbar_kws={\"shrink\": .5}, \n",
    "              annot_kws={\"size\": 10}, linewidths=.5, mask=mask_ut)\n",
    "plt.show()"
   ]
  },
  {
   "cell_type": "markdown",
   "metadata": {},
   "source": [
    "### 2-1-2. VIF를 이용한 다중공선성 확인"
   ]
  },
  {
   "cell_type": "code",
   "execution_count": null,
   "metadata": {},
   "outputs": [],
   "source": [
    "def vif(data):\n",
    "    import pandas as pd\n",
    "    from statsmodels.stats.outliers_influence import variance_inflation_factor\n",
    "\n",
    "    # VIF 출력을 위한 데이터 프레임 형성\n",
    "    vif = pd.DataFrame()\n",
    "\n",
    "    # VIF 값과 각 Feature 이름에 대해 설정\n",
    "    vif[\"VIF Factor\"] = [variance_inflation_factor(data.values, i) for i in range(len(data.columns))]\n",
    "    vif[\"features\"] = data.columns \n",
    "\n",
    "    # VIF 값이 높은 순으로 정렬\n",
    "    vif = vif.sort_values(by=\"VIF Factor\", ascending=False)\n",
    "    vif = vif.reset_index().drop(columns='index')\n",
    "    \n",
    "    return vif"
   ]
  },
  {
   "cell_type": "code",
   "execution_count": null,
   "metadata": {},
   "outputs": [],
   "source": [
    "vif(x_scaled_df)"
   ]
  },
  {
   "cell_type": "code",
   "execution_count": null,
   "metadata": {},
   "outputs": [],
   "source": [
    "# 총자본순이익률\n",
    "x1_sd = x_scaled_df.drop('총자본순이익률',axis = 1)\n",
    "# vif 확인\n",
    "vif(x1_sd)"
   ]
  },
  {
   "cell_type": "code",
   "execution_count": null,
   "metadata": {},
   "outputs": [],
   "source": [
    "# 매출액규모\n",
    "x2_sd = x1_sd.drop('매출액규모',axis = 1)\n",
    "# vif 확인\n",
    "vif(x2_sd)"
   ]
  },
  {
   "cell_type": "code",
   "execution_count": null,
   "metadata": {},
   "outputs": [],
   "source": [
    "# 자기자본회전율\n",
    "x3_sd = x2_sd.drop('자기자본회전율',axis = 1)\n",
    "# vif 확인\n",
    "vif(x3_sd)"
   ]
  },
  {
   "cell_type": "code",
   "execution_count": null,
   "metadata": {},
   "outputs": [],
   "source": [
    "# 자기자본비율\n",
    "x4_sd = x3_sd.drop('자기자본비율',axis = 1)\n",
    "# vif 확인\n",
    "df_x4_sd = vif(x4_sd)\n",
    "df_x4_sd"
   ]
  },
  {
   "cell_type": "code",
   "execution_count": null,
   "metadata": {},
   "outputs": [],
   "source": [
    "# 자본금세전순이익률\n",
    "x5_sd = x4_sd.drop('자본금세전순이익률',axis = 1)\n",
    "# vif 확인\n",
    "df_x5_sd = vif(x5_sd)\n",
    "df_x5_sd"
   ]
  },
  {
   "cell_type": "code",
   "execution_count": null,
   "metadata": {},
   "outputs": [],
   "source": [
    "# 3) 다중 공선성이 없는 변수들만 모은 데이터 프레임\n",
    "df_x5_sd = df_x5_sd.reset_index(drop=True)['features']\n",
    "df_x5_sd[df_x5_sd.index.max()+1] = 'y'\n",
    "df_final_x5_sd = df_final[df_x5_sd]\n",
    "df_final_x5_sd"
   ]
  },
  {
   "cell_type": "markdown",
   "metadata": {},
   "source": [
    "### 2-1-3. 로지스틱 회귀 전 정규성 검정, 독립성 검정, 등분산성 검정"
   ]
  },
  {
   "cell_type": "markdown",
   "metadata": {},
   "source": [
    "### 정규성 검정\n",
    "- 표본이 30 넘어가서 중심극한정리에 따라 정규성 가정할 수 있지만\n",
    "- shapiro-wilk test로 정규성 검정\n",
    "> - H0 : 표본의 모집단이 정규분포를 따른다\n",
    "> - H1 : 표본의 모집단이 정규분포를 따르지 않는다."
   ]
  },
  {
   "cell_type": "code",
   "execution_count": null,
   "metadata": {},
   "outputs": [],
   "source": [
    "from scipy.stats import shapiro, normaltest, anderson, kstest\n",
    "\n",
    "def normal_test(test_name,x):\n",
    "    normal = []\n",
    "    notnormal = []\n",
    "    if test_name == 'shapiro':\n",
    "        for var in x.columns :\n",
    "            stat, p  = shapiro(x[var].values)\n",
    "            alpha = 0.05\n",
    "            if p > alpha :\n",
    "                normal.append(var)\n",
    "            else :\n",
    "                notnormal.append(var)\n",
    "    elif test_name == 'normaltest':\n",
    "        for var in x.columns :\n",
    "            stat, p  = normaltest(x[var].values)\n",
    "            alpha = 0.05\n",
    "            if p > alpha :\n",
    "                normal.append(var)\n",
    "            else :\n",
    "                notnormal.append(var)\n",
    "    elif test_name == 'anderson':\n",
    "        for var in x.columns :\n",
    "            result  = anderson(x[var].values)\n",
    "            normality = 0\n",
    "            for i in range(len(result.critical_values)):\n",
    "                sl, cv = result.significance_level[i], result.critical_values[i]\n",
    "                if result.statistic < result.critical_values[i]:\n",
    "                    normality +=1\n",
    "                else :\n",
    "                    normality +=0\n",
    "            if normality > 2.5 :\n",
    "                normal.append(var)\n",
    "            else :\n",
    "                notnormal.append(var)\n",
    "    elif test_name == 'kstest':\n",
    "        for var in x.columns :\n",
    "            stat,p  = kstest(x[var].values, \"norm\")\n",
    "            alpha = 0.05\n",
    "            if p > alpha :\n",
    "                normal.append(var)\n",
    "            else :\n",
    "                notnormal.append(var)\n",
    "    else:\n",
    "        pass\n",
    "    return pd.DataFrame(normal, columns = ['normal']),pd.DataFrame(notnormal, columns = ['notnormal'])"
   ]
  },
  {
   "cell_type": "code",
   "execution_count": null,
   "metadata": {},
   "outputs": [],
   "source": [
    "# 1-1) shapiro\n",
    "## normal\n",
    "## 귀무가설을 기각하지 못했다 -> 정규분포를 따른다\n",
    "## notnormal\n",
    "## 귀무가설을 기각 대립가설 채택 -> data 분포가 정규분포를 따르지 않는다.\n",
    "normal_s,notnormal_s = normal_test('shapiro',x5_sd)\n",
    "normal_s"
   ]
  },
  {
   "cell_type": "code",
   "execution_count": null,
   "metadata": {},
   "outputs": [],
   "source": [
    "normal_a,notnormal_a = normal_test('anderson',x5_sd)\n",
    "normal_a"
   ]
  },
  {
   "cell_type": "code",
   "execution_count": null,
   "metadata": {},
   "outputs": [],
   "source": [
    "normal_ks,notnormal_ks = normal_test('kstest',x5_sd)\n",
    "normal_ks"
   ]
  },
  {
   "cell_type": "markdown",
   "metadata": {},
   "source": [
    "### 독립성 검정\n",
    "- 자료 수집이 무선표집(random sampling)되었다면 만족한다고 봄"
   ]
  },
  {
   "cell_type": "markdown",
   "metadata": {},
   "source": [
    "### 등분산성 검정\n",
    "- H0 : 모집단의 표준편차가 같다(등분산)\n",
    "- H1 : 모집단의 표준편차가 다르다(이분산)"
   ]
  },
  {
   "cell_type": "code",
   "execution_count": null,
   "metadata": {},
   "outputs": [],
   "source": [
    "# H가 1인 경우 이분산성\n",
    "from scipy.stats import bartlett\n",
    "def bartlett_test(col, good, bad, p_value = 0.05, H = 1):\n",
    "    list= []\n",
    "    for i in col:\n",
    "        T, p_val =bartlett(good[i], bad[i]) \n",
    "        list.append([i, p_val])\n",
    "\n",
    "    list = pd.DataFrame(list, columns = ['변수', 'p_value'])\n",
    "    if H == 1:\n",
    "        a = list[(list['p_value'] < p_value)][['변수', 'p_value']].sort_values('p_value')\n",
    "        return a\n",
    "    else:\n",
    "        a = list[(list['p_value'] >= p_value)][['변수', 'p_value']].sort_values('p_value')\n",
    "        return a"
   ]
  },
  {
   "cell_type": "code",
   "execution_count": null,
   "metadata": {},
   "outputs": [],
   "source": [
    "# 이분산성 변수\n",
    "x_hetero_sd = bartlett_test(x5_sd.columns, df_final_x5_sd[df_final_x5_sd['y']==0], df_final_x5_sd[df_final_x5_sd['y']==1], H = 1)\n",
    "x_hetero_sd"
   ]
  },
  {
   "cell_type": "code",
   "execution_count": null,
   "metadata": {},
   "outputs": [],
   "source": [
    "# 등분산성 변수\n",
    "x_homo_sd =bartlett_test(x5_sd.columns, df_final_x5_sd[df_final_x5_sd['y']==0], df_final_x5_sd[df_final_x5_sd['y']==1], H = 0)\n",
    "x_homo_sd"
   ]
  },
  {
   "cell_type": "markdown",
   "metadata": {},
   "source": [
    "### 2-1-4. T-test(등분산성,이분산성 변수가 있다는 가정 하에)"
   ]
  },
  {
   "cell_type": "code",
   "execution_count": null,
   "metadata": {},
   "outputs": [],
   "source": [
    "# 1) t_test\n",
    "import scipy.stats as stats\n",
    "def t_test(col, col_h0, col_h1, good, bad, p_value = 0.05):\n",
    "    list= []\n",
    "    for i in col:\n",
    "        if (col_h0['변수']==i).any():\n",
    "            t_stat, p_val = stats.ttest_ind(good[i], bad[i], equal_var=True, alternative='two-sided')\n",
    "            list.append([i, p_val])\n",
    "        elif (col_h1['변수']==i).any():\n",
    "            t_stat, p_val = stats.ttest_ind(good[i], bad[i], equal_var=False, alternative='two-sided')\n",
    "            list.append([i, p_val])\n",
    "\n",
    "    list = pd.DataFrame(list, columns = ['변수', 'p_value'])\n",
    "    a = list[(list['p_value'] < p_value)][['변수', 'p_value']].sort_values('p_value')\n",
    "    return a"
   ]
  },
  {
   "cell_type": "code",
   "execution_count": null,
   "metadata": {},
   "outputs": [],
   "source": [
    "# 2) t_test 결과 p_value < 0.05보다 작은 유의한 변수 가져오기\n",
    "x_ttest_sd = t_test(x5_sd.columns, x_homo_sd, x_hetero_sd, df_final_x5_sd[df_final_x5_sd['y']==0], df_final_x5_sd[df_final_x5_sd['y']==1], p_value=0.05)\n",
    "x_ttest_sd"
   ]
  },
  {
   "cell_type": "code",
   "execution_count": null,
   "metadata": {},
   "outputs": [],
   "source": [
    "# 3) t test 유의한 변수들만 모은 데이터 프레임\n",
    "x_ttest_sd = x_ttest_sd.reset_index(drop=True)['변수']\n",
    "x_ttest_sd[x_ttest_sd.index.max()+1] = 'y'\n",
    "df_final_ttest_sd = df_final[x_ttest_sd]\n",
    "df_final_ttest_sd"
   ]
  },
  {
   "cell_type": "markdown",
   "metadata": {},
   "source": [
    "### 2-1-5. Lasso"
   ]
  },
  {
   "cell_type": "code",
   "execution_count": null,
   "metadata": {},
   "outputs": [],
   "source": [
    "from sklearn.linear_model import LogisticRegression\n",
    "from sklearn.feature_selection import SelectFromModel\n",
    "\n",
    "lasso = SelectFromModel(LogisticRegression(C=1, penalty='l1',solver='liblinear'))\n",
    "lasso.fit(x5_sd, df_final_x5_sd['y'])\n",
    "lasso_support = lasso.get_support()\n",
    "lr_feature_sd = x5_sd.loc[:,lasso_support].columns.tolist()\n",
    "print(str(len(lr_feature_sd)), 'selected features')"
   ]
  },
  {
   "cell_type": "code",
   "execution_count": null,
   "metadata": {},
   "outputs": [],
   "source": [
    "# lasso 선택된 변수들만 모은 데이터 프레임\n",
    "lr_feature_sd.append('y')\n",
    "df_final_lasso_sd = df_final[lr_feature_sd]\n",
    "df_final_lasso_sd"
   ]
  },
  {
   "cell_type": "code",
   "execution_count": null,
   "metadata": {},
   "outputs": [],
   "source": [
    "lr_feature_sd"
   ]
  },
  {
   "cell_type": "markdown",
   "metadata": {},
   "source": [
    "### 2-1-6. Stepwise"
   ]
  },
  {
   "cell_type": "code",
   "execution_count": null,
   "metadata": {},
   "outputs": [],
   "source": [
    "def stepwise_feature_selection(feature, target, variables):\n",
    "    import statsmodels.api as sm\n",
    "    import matplotlib.pyplot as plt\n",
    "    import warnings\n",
    "    import pandas as pd\n",
    "    warnings.filterwarnings(\"ignore\")\n",
    "    \n",
    "    y = target ## 반응 변수\n",
    "\n",
    "    selected_variables = [] ## 선택된 변수들\n",
    "    sl_enter = 0.05\n",
    "    sl_remove = 0.05\n",
    "    \n",
    "    sv_per_step = [] ## 각 스텝별로 선택된 변수들\n",
    "    r_squared = [] ## 각 스텝별 수정된 결정계수\n",
    "    steps = [] ## 스텝\n",
    "    step = 0\n",
    "    while len(variables) > 0:\n",
    "        remainder = list(set(variables) - set(selected_variables))\n",
    "        pval = pd.Series(index=remainder) ## 변수의 p-value\n",
    "        ## 기존에 포함된 변수와 새로운 변수 하나씩 돌아가면서\n",
    "        ## 선형 모형을 적합한다.\n",
    "        for col in remainder: \n",
    "            X = feature[selected_variables+[col]]\n",
    "            model = sm.Logit(y,X).fit(disp=0)\n",
    "            pval[col] = model.pvalues[col]\n",
    "    \n",
    "        min_pval = pval.min()\n",
    "        if min_pval < sl_enter: ## 최소 p-value 값이 기준 값보다 작으면 포함\n",
    "            selected_variables.append(pval.idxmin())\n",
    "            ## 선택된 변수들에대해서\n",
    "            ## 어떤 변수를 제거할지 고른다.\n",
    "            while len(selected_variables) > 0:\n",
    "                selected_X = feature[selected_variables]\n",
    "                selected_pval = sm.Logit(y,selected_X).fit(disp=0).pvalues[:]\n",
    "                max_pval = selected_pval.max()\n",
    "                if max_pval >= sl_remove: ## 최대 p-value값이 기준값보다 크거나 같으면 제외\n",
    "                    remove_variable = selected_pval.idxmax()\n",
    "                    selected_variables.remove(remove_variable)\n",
    "                else:\n",
    "                    break\n",
    "            \n",
    "            step += 1\n",
    "            steps.append(step)\n",
    "            presudo_r_squared = sm.Logit(y,feature[selected_variables]).fit(disp=0).prsquared\n",
    "            r_squared.append(presudo_r_squared)\n",
    "            sv_per_step.append(selected_variables.copy())\n",
    "        else:\n",
    "            break\n",
    "\n",
    "    \n",
    "    # 시각화\n",
    "    fig = plt.figure(figsize=(40,40))\n",
    "    plt.xticks(steps,[f'step {s}\\n'+'\\n'.join(sv_per_step[i]) for i,s in enumerate(steps)])\n",
    "    plt.plot(steps,r_squared, marker='o')\n",
    "    plt.ylabel('pseudo R Squared')\n",
    "    plt.grid(True)\n",
    "    plt.show()\n",
    "\n",
    "    return selected_variables\n",
    "    \n",
    "selected_variables = stepwise_feature_selection(x5_sd, df_final_x5_sd['y'],x5_sd.columns.tolist())"
   ]
  },
  {
   "cell_type": "markdown",
   "metadata": {},
   "source": [
    "### 2-1-7. Step8\n",
    "'자기자본순이익률','금융비용대비매출액','총자산증가율','자기자본증가율','총자본투자효율','부채비율','차입금의존도','총자산규모'"
   ]
  },
  {
   "cell_type": "code",
   "execution_count": null,
   "metadata": {},
   "outputs": [],
   "source": [
    "# select된 변수 들고오기\n",
    "select_sd = ['자기자본순이익률','금융비용대비매출액','총자산증가율','자기자본증가율','총자본투자효율','부채비율','차입금의존도','총자산규모']\n",
    "select_sd.append('y')\n",
    "df_select_sd = df_final[select_sd]\n",
    "df_select_sd"
   ]
  },
  {
   "cell_type": "code",
   "execution_count": null,
   "metadata": {},
   "outputs": [],
   "source": [
    "# 상관행렬 시각화\n",
    "mask_ut=np.triu(np.ones(df_select_sd.drop('y',axis=1).corr().shape)).astype(bool)  # 배열 행렬에 위쪽 삼각형 반환 -> True\n",
    "plt.figure(figsize=(30,30))\n",
    "sns.heatmap(df_select_sd.drop('y',axis=1).corr(method='pearson'), annot = True, cmap = 'RdYlBu_r', cbar_kws={\"shrink\": .5}, \n",
    "              annot_kws={\"size\": 10}, linewidths=.5, mask=mask_ut)\n",
    "plt.show()"
   ]
  },
  {
   "cell_type": "code",
   "execution_count": null,
   "metadata": {},
   "outputs": [],
   "source": [
    "df_final_x6_sd = pd.concat([df_select_sd, df_final[['감사의견코드','산업분류','회계년도']]],axis=1)\n",
    "df_final_x6_sd"
   ]
  },
  {
   "cell_type": "code",
   "execution_count": null,
   "metadata": {},
   "outputs": [],
   "source": [
    "df_final_x6_sd.to_csv('./data/df_final_x6_sd.csv')"
   ]
  },
  {
   "cell_type": "markdown",
   "metadata": {},
   "source": [
    "## 2-2. RobustScaler"
   ]
  },
  {
   "cell_type": "code",
   "execution_count": null,
   "metadata": {},
   "outputs": [],
   "source": [
    "from sklearn.preprocessing import RobustScaler\n",
    "\n",
    "scaler = RobustScaler()\n",
    "x_robust_df = scaler.fit_transform(x)\n",
    "x_robust_df = pd.DataFrame(x_robust_df, columns = x.columns)\n",
    "x_robust_df.head()"
   ]
  },
  {
   "cell_type": "markdown",
   "metadata": {},
   "source": [
    "### 2-2-1. 히트맵을 이용한 다중공선성확인"
   ]
  },
  {
   "cell_type": "code",
   "execution_count": null,
   "metadata": {},
   "outputs": [],
   "source": [
    "# 3. robust 상관행렬 시각화\n",
    "mask_ut=np.triu(np.ones(x_robust_df.corr().shape)).astype(bool)  # 배열 행렬에 위쪽 삼각형 반환 -> True\n",
    "plt.figure(figsize=(30,30))\n",
    "sns.heatmap(x_robust_df.corr(method='pearson'), annot = True, cmap = 'RdYlBu_r', cbar_kws={\"shrink\": .5}, \n",
    "              annot_kws={\"size\": 10}, linewidths=.5, mask=mask_ut)\n",
    "plt.show()"
   ]
  },
  {
   "cell_type": "markdown",
   "metadata": {},
   "source": [
    "### 2-2-2. VIF를 이용한 다중공선성 확인"
   ]
  },
  {
   "cell_type": "code",
   "execution_count": null,
   "metadata": {},
   "outputs": [],
   "source": [
    "vif(x_robust_df)"
   ]
  },
  {
   "cell_type": "code",
   "execution_count": null,
   "metadata": {},
   "outputs": [],
   "source": [
    "# 총자본순이익률\n",
    "x1_rb = x_robust_df.drop('총자본순이익률',axis = 1)\n",
    "# vif 확인\n",
    "vif(x1_rb)"
   ]
  },
  {
   "cell_type": "code",
   "execution_count": null,
   "metadata": {},
   "outputs": [],
   "source": [
    "# 매출액규모\n",
    "x2_rb = x1_rb.drop('매출액규모',axis = 1)\n",
    "# vif 확인\n",
    "vif(x2_rb)"
   ]
  },
  {
   "cell_type": "code",
   "execution_count": null,
   "metadata": {},
   "outputs": [],
   "source": [
    "# 자기자본회전율\n",
    "x3_rb = x2_rb.drop('자기자본회전율',axis = 1)\n",
    "# vif 확인\n",
    "vif(x3_rb)"
   ]
  },
  {
   "cell_type": "code",
   "execution_count": null,
   "metadata": {},
   "outputs": [],
   "source": [
    "# 자기자본비율\n",
    "x4_rb = x3_rb.drop('자기자본비율',axis = 1)\n",
    "# vif 확인\n",
    "vif(x4_rb)\n",
    "# df_x3_rb = vif(x3_rb)\n",
    "# df_x3_rb"
   ]
  },
  {
   "cell_type": "code",
   "execution_count": null,
   "metadata": {},
   "outputs": [],
   "source": [
    "# 자본금세전순이익률\n",
    "x5_rb = x4_rb.drop('자본금세전순이익률',axis = 1)\n",
    "# vif 확인\n",
    "vif(x5_rb)"
   ]
  },
  {
   "cell_type": "code",
   "execution_count": null,
   "metadata": {},
   "outputs": [],
   "source": [
    "# 매출액세전순이익률\n",
    "x6_rb = x5_rb.drop('매출액세전순이익률',axis = 1)\n",
    "# vif 확인\n",
    "df_x6_rb = vif(x6_rb)\n",
    "df_x6_rb"
   ]
  },
  {
   "cell_type": "code",
   "execution_count": null,
   "metadata": {},
   "outputs": [],
   "source": [
    "# 3) 다중 공선성이 없는 변수들만 모은 데이터 프레임\n",
    "df_x6_rb = df_x6_rb.reset_index(drop=True)['features']\n",
    "df_x6_rb[df_x6_rb.index.max()+1] = 'y'\n",
    "df_final_x6_rb = df_final[df_x6_rb]\n",
    "df_final_x6_rb"
   ]
  },
  {
   "cell_type": "code",
   "execution_count": null,
   "metadata": {},
   "outputs": [],
   "source": [
    "# 상관행렬 시각화\n",
    "mask_ut=np.triu(np.ones(x6_rb.corr().shape)).astype(bool)  # 배열 행렬에 위쪽 삼각형 반환 -> True\n",
    "plt.figure(figsize=(30,30))\n",
    "sns.heatmap(x6_rb.corr(method='pearson'), annot = True, cmap = 'RdYlBu_r', cbar_kws={\"shrink\": .5}, \n",
    "              annot_kws={\"size\": 10}, linewidths=.5, mask=mask_ut)\n",
    "plt.show()"
   ]
  },
  {
   "cell_type": "markdown",
   "metadata": {},
   "source": [
    "### 2-2-3. 로지스틱 회귀 전 정규성 검정, 독립성 검정, 등분산성 검정"
   ]
  },
  {
   "cell_type": "code",
   "execution_count": null,
   "metadata": {},
   "outputs": [],
   "source": [
    "normal_s,notnormal_s = normal_test('shapiro',x6_rb)\n",
    "normal_s"
   ]
  },
  {
   "cell_type": "code",
   "execution_count": null,
   "metadata": {},
   "outputs": [],
   "source": [
    "normal_a,notnormal_a = normal_test('anderson',x6_rb)\n",
    "normal_a"
   ]
  },
  {
   "cell_type": "code",
   "execution_count": null,
   "metadata": {},
   "outputs": [],
   "source": [
    "normal_ks,notnormal_ks = normal_test('kstest',x6_rb)\n",
    "normal_ks"
   ]
  },
  {
   "cell_type": "code",
   "execution_count": null,
   "metadata": {},
   "outputs": [],
   "source": [
    "# 이분산성 변수\n",
    "x_hetero_rb = bartlett_test(x6_rb.columns, df_final_x6_rb[df_final_x6_rb['y']==0], df_final_x6_rb[df_final_x6_rb['y']==1], H = 1)\n",
    "x_hetero_rb"
   ]
  },
  {
   "cell_type": "code",
   "execution_count": null,
   "metadata": {},
   "outputs": [],
   "source": [
    "# 등분산성 변수\n",
    "x_homo_rb =bartlett_test(x6_rb.columns, df_final_x6_rb[df_final_x6_rb['y']==0], df_final_x6_rb[df_final_x6_rb['y']==1], H = 0)\n",
    "x_homo_rb"
   ]
  },
  {
   "cell_type": "markdown",
   "metadata": {},
   "source": [
    "### 2-2-4. T-test(등분산성,이분산성 변수가 있다는 가정 하에)"
   ]
  },
  {
   "cell_type": "code",
   "execution_count": null,
   "metadata": {},
   "outputs": [],
   "source": [
    "# 2) t_test 결과 p_value < 0.05보다 작은 유의한 변수 가져오기\n",
    "x_ttest_rb = t_test(x6_rb.columns, x_homo_rb, x_hetero_rb, df_final_x6_rb[df_final_x6_rb['y']==0], df_final_x6_rb[df_final_x6_rb['y']==1], p_value=0.05)\n",
    "x_ttest_rb"
   ]
  },
  {
   "cell_type": "code",
   "execution_count": null,
   "metadata": {},
   "outputs": [],
   "source": [
    "# 3) t test 유의한 변수들만 모은 데이터 프레임\n",
    "x_ttest_rb = x_ttest_rb.reset_index(drop=True)['변수']\n",
    "x_ttest_rb[x_ttest_rb.index.max()+1] = 'y'\n",
    "df_final_ttest_rb = df_final[x_ttest_rb]\n",
    "df_final_ttest_rb"
   ]
  },
  {
   "cell_type": "markdown",
   "metadata": {},
   "source": [
    "### 2-2-5. Lasso"
   ]
  },
  {
   "cell_type": "code",
   "execution_count": null,
   "metadata": {},
   "outputs": [],
   "source": [
    "lasso = SelectFromModel(LogisticRegression(C=1, penalty='l1',solver='liblinear'))\n",
    "lasso.fit(x6_rb, df_final_x6_rb['y'])\n",
    "lasso_support = lasso.get_support()\n",
    "lr_feature_rb = x6_rb.loc[:,lasso_support].columns.tolist()\n",
    "print(str(len(lr_feature_rb)), 'selected features')"
   ]
  },
  {
   "cell_type": "code",
   "execution_count": null,
   "metadata": {},
   "outputs": [],
   "source": [
    "# lasso 선택된 변수들만 모은 데이터 프레임\n",
    "lr_feature_rb.append('y')\n",
    "df_final_lasso_rb = df_final[lr_feature_rb]\n",
    "df_final_lasso_rb"
   ]
  },
  {
   "cell_type": "code",
   "execution_count": null,
   "metadata": {},
   "outputs": [],
   "source": [
    "lr_feature_rb"
   ]
  },
  {
   "cell_type": "markdown",
   "metadata": {},
   "source": [
    "### 2-2-6. Stepwise"
   ]
  },
  {
   "cell_type": "code",
   "execution_count": null,
   "metadata": {},
   "outputs": [],
   "source": [
    "def stepwise_feature_selection(feature, target, variables):\n",
    "    import statsmodels.api as sm\n",
    "    import matplotlib.pyplot as plt\n",
    "    import warnings\n",
    "    import pandas as pd\n",
    "    warnings.filterwarnings(\"ignore\")\n",
    "    \n",
    "    y = target ## 반응 변수\n",
    "\n",
    "    selected_variables = [] ## 선택된 변수들\n",
    "    sl_enter = 0.05\n",
    "    sl_remove = 0.05\n",
    "    \n",
    "    sv_per_step = [] ## 각 스텝별로 선택된 변수들\n",
    "    r_squared = [] ## 각 스텝별 수정된 결정계수\n",
    "    steps = [] ## 스텝\n",
    "    step = 0\n",
    "    while len(variables) > 0:\n",
    "        remainder = list(set(variables) - set(selected_variables))\n",
    "        pval = pd.Series(index=remainder) ## 변수의 p-value\n",
    "        ## 기존에 포함된 변수와 새로운 변수 하나씩 돌아가면서\n",
    "        ## 선형 모형을 적합한다.\n",
    "        for col in remainder: \n",
    "            X = feature[selected_variables+[col]]\n",
    "            model = sm.Logit(y,X).fit(disp=0)\n",
    "            pval[col] = model.pvalues[col]\n",
    "    \n",
    "        min_pval = pval.min()\n",
    "        if min_pval < sl_enter: ## 최소 p-value 값이 기준 값보다 작으면 포함\n",
    "            selected_variables.append(pval.idxmin())\n",
    "            ## 선택된 변수들에대해서\n",
    "            ## 어떤 변수를 제거할지 고른다.\n",
    "            while len(selected_variables) > 0:\n",
    "                selected_X = feature[selected_variables]\n",
    "                selected_pval = sm.Logit(y,selected_X).fit(disp=0).pvalues[:]\n",
    "                max_pval = selected_pval.max()\n",
    "                if max_pval >= sl_remove: ## 최대 p-value값이 기준값보다 크거나 같으면 제외\n",
    "                    remove_variable = selected_pval.idxmax()\n",
    "                    selected_variables.remove(remove_variable)\n",
    "                else:\n",
    "                    break\n",
    "            \n",
    "            step += 1\n",
    "            steps.append(step)\n",
    "            presudo_r_squared = sm.Logit(y,feature[selected_variables]).fit(disp=0).prsquared\n",
    "            r_squared.append(presudo_r_squared)\n",
    "            sv_per_step.append(selected_variables.copy())\n",
    "        else:\n",
    "            break\n",
    "\n",
    "    \n",
    "    # 시각화\n",
    "    fig = plt.figure(figsize=(40,40))\n",
    "    plt.xticks(steps,[f'step {s}\\n'+'\\n'.join(sv_per_step[i]) for i,s in enumerate(steps)])\n",
    "    plt.plot(steps,r_squared, marker='o')\n",
    "    plt.ylabel('pseudo R Squared')\n",
    "    plt.grid(True)\n",
    "    plt.show()\n",
    "\n",
    "    return selected_variables\n",
    "    \n",
    "selected_variables = stepwise_feature_selection(x6_rb, df_final_x6_rb['y'],x6_rb.columns.tolist())"
   ]
  },
  {
   "cell_type": "markdown",
   "metadata": {},
   "source": [
    "### 2-2-7. Step10\n",
    "'유동비율','비유동자산회전율','금융비용대비매출액','매출원가율','매출채권회전율','총자산규모','이자보상배율','유형고정자산회전율','재고자산회전율','차입금의존도'"
   ]
  },
  {
   "cell_type": "code",
   "execution_count": null,
   "metadata": {},
   "outputs": [],
   "source": [
    "# select된 변수 들고오기\n",
    "select_rb = ['유동비율','비유동자산회전율','금융비용대비매출액','매출원가율','매출채권회전율','총자산규모','이자보상배율','유형고정자산회전율','재고자산회전율','차입금의존도']\n",
    "select_rb.append('y')\n",
    "df_select_rb = df_final[select_rb]\n",
    "df_select_rb"
   ]
  },
  {
   "cell_type": "code",
   "execution_count": null,
   "metadata": {},
   "outputs": [],
   "source": [
    "# 상관행렬 시각화\n",
    "mask_ut=np.triu(np.ones(df_select_rb.drop('y',axis=1).corr().shape)).astype(bool)  # 배열 행렬에 위쪽 삼각형 반환 -> True\n",
    "plt.figure(figsize=(30,30))\n",
    "sns.heatmap(df_select_rb.drop('y',axis=1).corr(method='pearson'), annot = True, cmap = 'RdYlBu_r', cbar_kws={\"shrink\": .5}, \n",
    "              annot_kws={\"size\": 10}, linewidths=.5, mask=mask_ut)\n",
    "plt.show()"
   ]
  },
  {
   "cell_type": "code",
   "execution_count": null,
   "metadata": {},
   "outputs": [],
   "source": [
    "df_final_x7_rb = pd.concat([df_select_rb, df_final[['감사의견코드','산업분류','회계년도']]],axis=1)\n",
    "df_final_x7_rb"
   ]
  },
  {
   "cell_type": "code",
   "execution_count": null,
   "metadata": {},
   "outputs": [],
   "source": [
    "df_final_x7_rb.to_csv('./data/df_final_x7_rb.csv')"
   ]
  },
  {
   "cell_type": "markdown",
   "metadata": {},
   "source": [
    "## 2-3. MinMaxScaler"
   ]
  },
  {
   "cell_type": "code",
   "execution_count": null,
   "metadata": {},
   "outputs": [],
   "source": [
    "from sklearn.preprocessing import MinMaxScaler\n",
    "\n",
    "scaler = MinMaxScaler()\n",
    "x_minmax_df = scaler.fit_transform(x)\n",
    "x_minmax_df = pd.DataFrame(x_minmax_df, columns = x.columns)\n",
    "x_minmax_df.head()"
   ]
  },
  {
   "cell_type": "markdown",
   "metadata": {},
   "source": [
    "### 2-3-1. 히트맵을 이용한 다중공선성확인"
   ]
  },
  {
   "cell_type": "code",
   "execution_count": null,
   "metadata": {},
   "outputs": [],
   "source": [
    "# 3. standard 상관행렬 시각화\n",
    "mask_ut=np.triu(np.ones(x_minmax_df.corr().shape)).astype(bool)  # 배열 행렬에 위쪽 삼각형 반환 -> True\n",
    "plt.figure(figsize=(30,30))\n",
    "sns.heatmap(x_minmax_df.corr(method='pearson'), annot = True, cmap = 'RdYlBu_r', cbar_kws={\"shrink\": .5}, \n",
    "              annot_kws={\"size\": 10}, linewidths=.5, mask=mask_ut)\n",
    "plt.show()"
   ]
  },
  {
   "cell_type": "markdown",
   "metadata": {},
   "source": [
    "### 2-3-2. VIF를 이용한 다중공선성 확인"
   ]
  },
  {
   "cell_type": "code",
   "execution_count": null,
   "metadata": {},
   "outputs": [],
   "source": [
    "vif(x_minmax_df)"
   ]
  },
  {
   "cell_type": "code",
   "execution_count": null,
   "metadata": {},
   "outputs": [],
   "source": [
    "# 부가가치율\n",
    "x1_mm = x_minmax_df.drop('부가가치율',axis = 1)\n",
    "# vif 확인\n",
    "vif(x1_mm)"
   ]
  },
  {
   "cell_type": "code",
   "execution_count": null,
   "metadata": {},
   "outputs": [],
   "source": [
    "# 현금흐름\n",
    "x2_mm = x1_mm.drop('현금흐름',axis = 1)\n",
    "# vif 확인\n",
    "vif(x2_mm)"
   ]
  },
  {
   "cell_type": "code",
   "execution_count": null,
   "metadata": {},
   "outputs": [],
   "source": [
    "# 노동소득분배율\n",
    "x3_mm = x2_mm.drop('노동소득분배율',axis = 1)\n",
    "# vif 확인\n",
    "vif(x3_mm)"
   ]
  },
  {
   "cell_type": "code",
   "execution_count": null,
   "metadata": {},
   "outputs": [],
   "source": [
    "# 순이익증가율\n",
    "x4_mm = x3_mm.drop('순이익증가율',axis = 1)\n",
    "# vif 확인\n",
    "vif(x4_mm)"
   ]
  },
  {
   "cell_type": "code",
   "execution_count": null,
   "metadata": {},
   "outputs": [],
   "source": [
    "# 총자본순이익률\n",
    "x5_mm = x4_mm.drop('총자본순이익률',axis = 1)\n",
    "# vif 확인\n",
    "vif(x5_mm)"
   ]
  },
  {
   "cell_type": "code",
   "execution_count": null,
   "metadata": {},
   "outputs": [],
   "source": [
    "# 총자본투자효율\n",
    "x6_mm = x5_mm.drop('총자본투자효율',axis = 1)\n",
    "# vif 확인\n",
    "vif(x6_mm)"
   ]
  },
  {
   "cell_type": "code",
   "execution_count": null,
   "metadata": {},
   "outputs": [],
   "source": [
    "# 매출액규모\n",
    "x7_mm = x6_mm.drop('매출액규모',axis = 1)\n",
    "# vif 확인\n",
    "vif(x7_mm)"
   ]
  },
  {
   "cell_type": "code",
   "execution_count": null,
   "metadata": {},
   "outputs": [],
   "source": [
    "# 매출액세전순이익률\n",
    "x8_mm = x7_mm.drop('매출액세전순이익률',axis = 1)\n",
    "# vif 확인\n",
    "vif(x8_mm)"
   ]
  },
  {
   "cell_type": "code",
   "execution_count": null,
   "metadata": {},
   "outputs": [],
   "source": [
    "# 자기자본증가율\n",
    "x9_mm = x8_mm.drop('자기자본증가율',axis = 1)\n",
    "# vif 확인\n",
    "vif(x9_mm)"
   ]
  },
  {
   "cell_type": "code",
   "execution_count": null,
   "metadata": {},
   "outputs": [],
   "source": [
    "# 자기자본순이익률\n",
    "x10_mm = x9_mm.drop('자기자본순이익률',axis = 1)\n",
    "# vif 확인\n",
    "vif(x10_mm)"
   ]
  },
  {
   "cell_type": "code",
   "execution_count": null,
   "metadata": {},
   "outputs": [],
   "source": [
    "# 매출액영업이익률\n",
    "x11_mm = x10_mm.drop('매출액영업이익률',axis = 1)\n",
    "# vif 확인\n",
    "vif(x11_mm)"
   ]
  },
  {
   "cell_type": "code",
   "execution_count": null,
   "metadata": {},
   "outputs": [],
   "source": [
    "# 총자본회전율\n",
    "x12_mm = x11_mm.drop('총자본회전율',axis = 1)\n",
    "# vif 확인\n",
    "vif(x12_mm)"
   ]
  },
  {
   "cell_type": "code",
   "execution_count": null,
   "metadata": {},
   "outputs": [],
   "source": [
    "# 자기자본비율\n",
    "x13_mm = x12_mm.drop('자기자본비율',axis = 1)\n",
    "# vif 확인\n",
    "vif(x13_mm)"
   ]
  },
  {
   "cell_type": "code",
   "execution_count": null,
   "metadata": {},
   "outputs": [],
   "source": [
    "# 자본금세전순이익률\n",
    "x14_mm = x13_mm.drop('자본금세전순이익률',axis = 1)\n",
    "# vif 확인\n",
    "vif(x14_mm)"
   ]
  },
  {
   "cell_type": "code",
   "execution_count": null,
   "metadata": {},
   "outputs": [],
   "source": [
    "# 자기자본회전율\n",
    "x15_mm = x14_mm.drop('자기자본회전율',axis = 1)\n",
    "# vif 확인\n",
    "df_x15_mm = vif(x15_mm)\n",
    "df_x15_mm"
   ]
  },
  {
   "cell_type": "code",
   "execution_count": null,
   "metadata": {},
   "outputs": [],
   "source": [
    "# 3) 다중 공선성이 없는 변수들만 모은 데이터 프레임\n",
    "df_x15_mm = df_x15_mm.reset_index(drop=True)['features']\n",
    "df_x15_mm[df_x15_mm.index.max()+1] = 'y'\n",
    "df_final_x15_mm = df_final[df_x15_mm]\n",
    "df_final_x15_mm"
   ]
  },
  {
   "cell_type": "code",
   "execution_count": null,
   "metadata": {},
   "outputs": [],
   "source": [
    "# 상관행렬 시각화\n",
    "mask_ut=np.triu(np.ones(x15_mm.corr().shape)).astype(bool)  # 배열 행렬에 위쪽 삼각형 반환 -> True\n",
    "plt.figure(figsize=(30,30))\n",
    "sns.heatmap(x15_mm.corr(method='pearson'), annot = True, cmap = 'RdYlBu_r', cbar_kws={\"shrink\": .5}, \n",
    "              annot_kws={\"size\": 10}, linewidths=.5, mask=mask_ut)\n",
    "plt.show()"
   ]
  },
  {
   "cell_type": "markdown",
   "metadata": {},
   "source": [
    "### 2-3-3. 로지스틱 회귀 전 정규성 검정, 독립성 검정, 등분산성 검정"
   ]
  },
  {
   "cell_type": "code",
   "execution_count": null,
   "metadata": {},
   "outputs": [],
   "source": [
    "normal_s,notnormal_s = normal_test('shapiro',x15_mm)\n",
    "normal_s"
   ]
  },
  {
   "cell_type": "code",
   "execution_count": null,
   "metadata": {},
   "outputs": [],
   "source": [
    "normal_a,notnormal_a = normal_test('anderson',x15_mm)\n",
    "normal_a"
   ]
  },
  {
   "cell_type": "code",
   "execution_count": null,
   "metadata": {},
   "outputs": [],
   "source": [
    "normal_ks,notnormal_ks = normal_test('kstest',x15_mm)\n",
    "normal_ks"
   ]
  },
  {
   "cell_type": "code",
   "execution_count": null,
   "metadata": {},
   "outputs": [],
   "source": [
    "# 이분산성 변수\n",
    "x_hetero_mm = bartlett_test(x15_mm.columns, df_final_x15_mm[df_final_x15_mm['y']==0], df_final_x15_mm[df_final_x15_mm['y']==1], H = 1)\n",
    "x_hetero_mm"
   ]
  },
  {
   "cell_type": "code",
   "execution_count": null,
   "metadata": {},
   "outputs": [],
   "source": [
    "# 등분산성 변수\n",
    "x_homo_mm =bartlett_test(x15_mm.columns, df_final_x15_mm[df_final_x15_mm['y']==0], df_final_x15_mm[df_final_x15_mm['y']==1], H = 0)\n",
    "x_homo_mm"
   ]
  },
  {
   "cell_type": "markdown",
   "metadata": {},
   "source": [
    "### 2-3-4. T-test(등분산성,이분산성 변수가 있다는 가정 하에)"
   ]
  },
  {
   "cell_type": "code",
   "execution_count": null,
   "metadata": {},
   "outputs": [],
   "source": [
    "# 2) t_test 결과 p_value < 0.05보다 작은 유의한 변수 가져오기\n",
    "x_ttest_mm = t_test(x15_mm.columns, x_homo_mm, x_hetero_mm, df_final_x15_mm[df_final_x15_mm['y']==0], df_final_x15_mm[df_final_x15_mm['y']==1], p_value=0.05)\n",
    "x_ttest_mm"
   ]
  },
  {
   "cell_type": "code",
   "execution_count": null,
   "metadata": {},
   "outputs": [],
   "source": [
    "# 3) t test 유의한 변수들만 모은 데이터 프레임\n",
    "x_ttest_mm = x_ttest_mm.reset_index(drop=True)['변수']\n",
    "x_ttest_mm[x_ttest_mm.index.max()+1] = 'y'\n",
    "df_final_ttest_mm = df_final[x_ttest_mm]\n",
    "df_final_ttest_mm"
   ]
  },
  {
   "cell_type": "markdown",
   "metadata": {},
   "source": [
    "### 2-3-5. Lasso"
   ]
  },
  {
   "cell_type": "code",
   "execution_count": null,
   "metadata": {},
   "outputs": [],
   "source": [
    "lasso = SelectFromModel(LogisticRegression(C=1, penalty='l1',solver='liblinear'))\n",
    "lasso.fit(x15_mm, df_final_x15_mm['y'])\n",
    "lasso_support = lasso.get_support()\n",
    "lr_feature_mm = x15_mm.loc[:,lasso_support].columns.tolist()\n",
    "print(str(len(lr_feature_mm)), 'selected features')"
   ]
  },
  {
   "cell_type": "code",
   "execution_count": null,
   "metadata": {},
   "outputs": [],
   "source": [
    "# lasso 선택된 변수들만 모은 데이터 프레임\n",
    "lr_feature_mm.append('y')\n",
    "df_final_lasso_mm = df_final[lr_feature_mm]\n",
    "df_final_lasso_mm"
   ]
  },
  {
   "cell_type": "code",
   "execution_count": null,
   "metadata": {},
   "outputs": [],
   "source": [
    "lr_feature_mm"
   ]
  },
  {
   "cell_type": "markdown",
   "metadata": {},
   "source": [
    "### 2-3-6. Stepwise"
   ]
  },
  {
   "cell_type": "code",
   "execution_count": null,
   "metadata": {},
   "outputs": [],
   "source": [
    "def stepwise_feature_selection(feature, target, variables):\n",
    "    import statsmodels.api as sm\n",
    "    import matplotlib.pyplot as plt\n",
    "    import warnings\n",
    "    import pandas as pd\n",
    "    warnings.filterwarnings(\"ignore\")\n",
    "    \n",
    "    y = target ## 반응 변수\n",
    "\n",
    "    selected_variables = [] ## 선택된 변수들\n",
    "    sl_enter = 0.05\n",
    "    sl_remove = 0.05\n",
    "    \n",
    "    sv_per_step = [] ## 각 스텝별로 선택된 변수들\n",
    "    r_squared = [] ## 각 스텝별 수정된 결정계수\n",
    "    steps = [] ## 스텝\n",
    "    step = 0\n",
    "    while len(variables) > 0:\n",
    "        remainder = list(set(variables) - set(selected_variables))\n",
    "        pval = pd.Series(index=remainder) ## 변수의 p-value\n",
    "        ## 기존에 포함된 변수와 새로운 변수 하나씩 돌아가면서\n",
    "        ## 선형 모형을 적합한다.\n",
    "        for col in remainder: \n",
    "            X = feature[selected_variables+[col]]\n",
    "            model = sm.Logit(y,X).fit(disp=0)\n",
    "            pval[col] = model.pvalues[col]\n",
    "    \n",
    "        min_pval = pval.min()\n",
    "        if min_pval < sl_enter: ## 최소 p-value 값이 기준 값보다 작으면 포함\n",
    "            selected_variables.append(pval.idxmin())\n",
    "            ## 선택된 변수들에대해서\n",
    "            ## 어떤 변수를 제거할지 고른다.\n",
    "            while len(selected_variables) > 0:\n",
    "                selected_X = feature[selected_variables]\n",
    "                selected_pval = sm.Logit(y,selected_X).fit(disp=0).pvalues[:]\n",
    "                max_pval = selected_pval.max()\n",
    "                if max_pval >= sl_remove: ## 최대 p-value값이 기준값보다 크거나 같으면 제외\n",
    "                    remove_variable = selected_pval.idxmax()\n",
    "                    selected_variables.remove(remove_variable)\n",
    "                else:\n",
    "                    break\n",
    "            \n",
    "            step += 1\n",
    "            steps.append(step)\n",
    "            presudo_r_squared = sm.Logit(y,feature[selected_variables]).fit(disp=0).prsquared\n",
    "            r_squared.append(presudo_r_squared)\n",
    "            sv_per_step.append(selected_variables.copy())\n",
    "        else:\n",
    "            break\n",
    "\n",
    "    \n",
    "    # 시각화\n",
    "    fig = plt.figure(figsize=(40,40))\n",
    "    plt.xticks(steps,[f'step {s}\\n'+'\\n'.join(sv_per_step[i]) for i,s in enumerate(steps)])\n",
    "    plt.plot(steps,r_squared, marker='o')\n",
    "    plt.ylabel('pseudo R Squared')\n",
    "    plt.grid(True)\n",
    "    plt.show()\n",
    "\n",
    "    return selected_variables\n",
    "    \n",
    "selected_variables = stepwise_feature_selection(x15_mm, df_final_x15_mm['y'],x15_mm.columns.tolist())"
   ]
  },
  {
   "cell_type": "markdown",
   "metadata": {},
   "source": [
    "### 2-3-7. Step7\n",
    "'유동비율','총자산증가율','총자산규모','금융비용대비매출액','운전자산회전율','부채비율','차입금의존도'"
   ]
  },
  {
   "cell_type": "code",
   "execution_count": null,
   "metadata": {},
   "outputs": [],
   "source": [
    "# select된 변수 들고오기\n",
    "select_mm = ['유동비율','총자산증가율','총자산규모','금융비용대비매출액','운전자산회전율','부채비율','차입금의존도']\n",
    "select_mm.append('y')\n",
    "df_select_mm = df_final[select_mm]\n",
    "df_select_mm"
   ]
  },
  {
   "cell_type": "code",
   "execution_count": null,
   "metadata": {},
   "outputs": [],
   "source": [
    "# 상관행렬 시각화\n",
    "mask_ut=np.triu(np.ones(df_select_mm.drop('y',axis=1).corr().shape)).astype(bool)  # 배열 행렬에 위쪽 삼각형 반환 -> True\n",
    "plt.figure(figsize=(30,30))\n",
    "sns.heatmap(df_select_mm.drop('y',axis=1).corr(method='pearson'), annot = True, cmap = 'RdYlBu_r', cbar_kws={\"shrink\": .5}, \n",
    "              annot_kws={\"size\": 10}, linewidths=.5, mask=mask_ut)\n",
    "plt.show()"
   ]
  },
  {
   "cell_type": "code",
   "execution_count": null,
   "metadata": {},
   "outputs": [],
   "source": [
    "df_final_x13_mm = pd.concat([df_select_mm, df_final[['감사의견코드','산업분류','회계년도']]],axis=1)\n",
    "df_final_x13_mm"
   ]
  },
  {
   "cell_type": "code",
   "execution_count": null,
   "metadata": {},
   "outputs": [],
   "source": [
    "df_final_x13_mm.to_csv('./data/df_final_x13_mm.csv')"
   ]
  },
  {
   "cell_type": "markdown",
   "metadata": {},
   "source": [
    "## 2-4. LogScaler"
   ]
  },
  {
   "cell_type": "code",
   "execution_count": null,
   "metadata": {},
   "outputs": [],
   "source": [
    "df_final_log = x.copy()"
   ]
  },
  {
   "cell_type": "code",
   "execution_count": null,
   "metadata": {},
   "outputs": [],
   "source": [
    "# 1) log scale 만들기\n",
    "skew_feats = df_final_log.drop(['총자산규모','매출액규모'],axis=1).columns\n",
    "# 기존 값 : np.log1p(df_final_log.loc[:,skew_feats])\n",
    "# 2) BOX-COX 변환 : 절대값자연로그에 원래 부호를 붙임(마이너스인 경우도 사용이 가능하다.)\n",
    "df_final_log.loc[:,skew_feats] = (np.sign(df_final_log.loc[:,skew_feats]))*(np.log1p(np.abs(df_final_log.loc[:,skew_feats])))"
   ]
  },
  {
   "cell_type": "code",
   "execution_count": null,
   "metadata": {},
   "outputs": [],
   "source": [
    "df_final_log.loc[:,skew_feats]"
   ]
  },
  {
   "cell_type": "code",
   "execution_count": null,
   "metadata": {},
   "outputs": [],
   "source": [
    "# 3) histogram 그리기\n",
    "n = 0\n",
    "f, grid = plt.subplots(8, 4, figsize=(20, 50))\n",
    "for row in grid:\n",
    "    for ax in row:\n",
    "        col = df_final_log.columns[n]\n",
    "        ax.hist(df_final_log[col], bins=max(df_final_log[col].nunique()//20, 10))\n",
    "        ax.set_title(col)\n",
    "        n += 1"
   ]
  },
  {
   "cell_type": "markdown",
   "metadata": {},
   "source": [
    "### 2-4-1. 히트맵을 이용한 다중공선성 확인"
   ]
  },
  {
   "cell_type": "code",
   "execution_count": null,
   "metadata": {},
   "outputs": [],
   "source": [
    "# 3. standard 상관행렬 시각화\n",
    "mask_ut=np.triu(np.ones(df_final_log.corr().shape)).astype(bool)  # 배열 행렬에 위쪽 삼각형 반환 -> True\n",
    "plt.figure(figsize=(30,30))\n",
    "sns.heatmap(df_final_log.corr(method='pearson'), annot = True, cmap = 'RdYlBu_r', cbar_kws={\"shrink\": .5}, \n",
    "              annot_kws={\"size\": 10}, linewidths=.5, mask=mask_ut)\n",
    "plt.show()"
   ]
  },
  {
   "cell_type": "markdown",
   "metadata": {},
   "source": [
    "### 2-4-2. VIF를 이용한 다중공선성 확인"
   ]
  },
  {
   "cell_type": "code",
   "execution_count": null,
   "metadata": {},
   "outputs": [],
   "source": [
    "vif(df_final_log)"
   ]
  },
  {
   "cell_type": "code",
   "execution_count": null,
   "metadata": {},
   "outputs": [],
   "source": [
    "# 총자산규모\n",
    "x1_log = df_final_log.drop('총자산규모',axis = 1)\n",
    "# vif 확인\n",
    "vif(x1_log)"
   ]
  },
  {
   "cell_type": "code",
   "execution_count": null,
   "metadata": {},
   "outputs": [],
   "source": [
    "# 총자본회전율\n",
    "x2_log = x1_log.drop('총자본회전율',axis = 1)\n",
    "# vif 확인\n",
    "vif(x2_log)"
   ]
  },
  {
   "cell_type": "code",
   "execution_count": null,
   "metadata": {},
   "outputs": [],
   "source": [
    "# 매출액규모\n",
    "x3_log = x2_log.drop('매출액규모',axis = 1)\n",
    "# vif 확인\n",
    "vif(x3_log)"
   ]
  },
  {
   "cell_type": "code",
   "execution_count": null,
   "metadata": {},
   "outputs": [],
   "source": [
    "# 당좌비율\n",
    "x4_log = x3_log.drop('당좌비율',axis = 1)\n",
    "# vif 확인\n",
    "vif(x4_log)"
   ]
  },
  {
   "cell_type": "code",
   "execution_count": null,
   "metadata": {},
   "outputs": [],
   "source": [
    "# 자기자본회전율\n",
    "x5_log = x4_log.drop('자기자본회전율',axis = 1)\n",
    "# vif 확인\n",
    "vif(x5_log)"
   ]
  },
  {
   "cell_type": "code",
   "execution_count": null,
   "metadata": {},
   "outputs": [],
   "source": [
    "# 자기자본비율\n",
    "x6_log = x5_log.drop('자기자본비율',axis = 1)\n",
    "# vif 확인\n",
    "vif(x6_log)"
   ]
  },
  {
   "cell_type": "code",
   "execution_count": null,
   "metadata": {},
   "outputs": [],
   "source": [
    "# 비유동자산회전율\n",
    "x7_log = x6_log.drop('비유동자산회전율',axis = 1)\n",
    "# vif 확인\n",
    "vif(x7_log)"
   ]
  },
  {
   "cell_type": "code",
   "execution_count": null,
   "metadata": {},
   "outputs": [],
   "source": [
    "# 총자본순이익률\n",
    "x8_log = x7_log.drop('총자본순이익률',axis = 1)\n",
    "# vif 확인\n",
    "vif(x8_log)"
   ]
  },
  {
   "cell_type": "code",
   "execution_count": null,
   "metadata": {},
   "outputs": [],
   "source": [
    "# 매출채권회전율\n",
    "x9_log = x8_log.drop('매출채권회전율',axis = 1)\n",
    "# vif 확인\n",
    "vif(x9_log)"
   ]
  },
  {
   "cell_type": "code",
   "execution_count": null,
   "metadata": {},
   "outputs": [],
   "source": [
    "# 부채비율\n",
    "x10_log = x9_log.drop('부채비율',axis = 1)\n",
    "# vif 확인\n",
    "vif(x10_log)"
   ]
  },
  {
   "cell_type": "code",
   "execution_count": null,
   "metadata": {},
   "outputs": [],
   "source": [
    "# 총자본투자효율\n",
    "x11_log = x10_log.drop('총자본투자효율',axis = 1)\n",
    "# vif 확인\n",
    "vif(x11_log)"
   ]
  },
  {
   "cell_type": "code",
   "execution_count": null,
   "metadata": {},
   "outputs": [],
   "source": [
    "# 유동비율\n",
    "x12_log = x11_log.drop('유동비율',axis = 1)\n",
    "# vif 확인\n",
    "vif(x12_log)"
   ]
  },
  {
   "cell_type": "code",
   "execution_count": null,
   "metadata": {},
   "outputs": [],
   "source": [
    "# 자본금세전순이익률\n",
    "x13_log = x12_log.drop('자본금세전순이익률',axis = 1)\n",
    "# vif 확인\n",
    "vif(x13_log)"
   ]
  },
  {
   "cell_type": "code",
   "execution_count": null,
   "metadata": {},
   "outputs": [],
   "source": [
    "# 매출액세전순이익률\n",
    "x14_log = x13_log.drop('매출액세전순이익률',axis = 1)\n",
    "# vif 확인\n",
    "vif(x14_log)"
   ]
  },
  {
   "cell_type": "code",
   "execution_count": null,
   "metadata": {},
   "outputs": [],
   "source": [
    "# 매출원가율\n",
    "x15_log = x14_log.drop('매출원가율',axis = 1)\n",
    "# vif 확인\n",
    "vif(x15_log)"
   ]
  },
  {
   "cell_type": "code",
   "execution_count": null,
   "metadata": {},
   "outputs": [],
   "source": [
    "# 부가가치율\n",
    "x16_log = x15_log.drop('부가가치율',axis = 1)\n",
    "# vif 확인\n",
    "vif(x16_log)\n",
    "# df_x16_log = vif(x16_log)\n",
    "# df_x16_log"
   ]
  },
  {
   "cell_type": "code",
   "execution_count": null,
   "metadata": {},
   "outputs": [],
   "source": [
    "# 유형고정자산회전율\n",
    "x17_log = x16_log.drop('유형고정자산회전율',axis = 1)\n",
    "# vif 확인\n",
    "df_x17_log = vif(x17_log)\n",
    "df_x17_log"
   ]
  },
  {
   "cell_type": "code",
   "execution_count": null,
   "metadata": {},
   "outputs": [],
   "source": [
    "# 3) 다중 공선성이 없는 변수들만 모은 데이터 프레임\n",
    "df_x17_log = df_x17_log.reset_index(drop=True)['features']\n",
    "df_x17_log[df_x17_log.index.max()+1] = 'y'\n",
    "df_final_x17_log = df_final[df_x17_log]\n",
    "df_final_x17_log"
   ]
  },
  {
   "cell_type": "markdown",
   "metadata": {},
   "source": [
    "### 2-4-3. 로지스틱 회귀 전 정규성 검정, 독립성 검정, 등분산성 검정"
   ]
  },
  {
   "cell_type": "code",
   "execution_count": null,
   "metadata": {},
   "outputs": [],
   "source": [
    "normal_s,notnormal_s = normal_test('shapiro',x17_log)\n",
    "normal_s"
   ]
  },
  {
   "cell_type": "code",
   "execution_count": null,
   "metadata": {},
   "outputs": [],
   "source": [
    "normal_a,notnormal_a = normal_test('anderson',x17_log)\n",
    "normal_a"
   ]
  },
  {
   "cell_type": "code",
   "execution_count": null,
   "metadata": {},
   "outputs": [],
   "source": [
    "normal_ks,notnormal_ks = normal_test('kstest',x17_log)\n",
    "normal_ks"
   ]
  },
  {
   "cell_type": "code",
   "execution_count": null,
   "metadata": {},
   "outputs": [],
   "source": [
    "# 이분산성 변수\n",
    "x_hetero_log = bartlett_test(x17_log.columns, df_final_x17_log[df_final_x17_log['y']==0], df_final_x17_log[df_final_x17_log['y']==1], H = 1)\n",
    "x_hetero_log"
   ]
  },
  {
   "cell_type": "code",
   "execution_count": null,
   "metadata": {},
   "outputs": [],
   "source": [
    "# 등분산성 변수\n",
    "x_homo_log =bartlett_test(x17_log.columns, df_final_x17_log[df_final_x17_log['y']==0], df_final_x17_log[df_final_x17_log['y']==1], H = 0)\n",
    "x_homo_log"
   ]
  },
  {
   "cell_type": "markdown",
   "metadata": {},
   "source": [
    "### 2-4-4. T-test(등분산성,이분산성 변수가 있다는 가정 하에)"
   ]
  },
  {
   "cell_type": "code",
   "execution_count": null,
   "metadata": {},
   "outputs": [],
   "source": [
    "# 2) t_test 결과 p_value < 0.05보다 작은 유의한 변수 가져오기\n",
    "x_ttest_log = t_test(x17_log.columns, x_homo_log, x_hetero_log, df_final_x17_log[df_final_x17_log['y']==0], df_final_x17_log[df_final_x17_log['y']==1], p_value=0.05)\n",
    "x_ttest_log"
   ]
  },
  {
   "cell_type": "code",
   "execution_count": null,
   "metadata": {},
   "outputs": [],
   "source": [
    "# 3) t test 유의한 변수들만 모은 데이터 프레임\n",
    "x_ttest_log = x_ttest_log.reset_index(drop=True)['변수']\n",
    "x_ttest_log[x_ttest_log.index.max()+1] = 'y'\n",
    "df_final_ttest_log = df_final[x_ttest_log]\n",
    "df_final_ttest_log"
   ]
  },
  {
   "cell_type": "markdown",
   "metadata": {},
   "source": [
    "### 2-4-5. Lasso"
   ]
  },
  {
   "cell_type": "code",
   "execution_count": null,
   "metadata": {},
   "outputs": [],
   "source": [
    "from sklearn.linear_model import LogisticRegression\n",
    "from sklearn.feature_selection import SelectFromModel\n",
    "lasso = SelectFromModel(LogisticRegression(C=1, penalty='l1',solver='liblinear'))\n",
    "lasso.fit(x17_log, df_final_x17_log['y'])\n",
    "lasso_support = lasso.get_support()\n",
    "lr_feature_log = x17_log.loc[:,lasso_support].columns.tolist()\n",
    "print(str(len(lr_feature_log)), 'selected features')"
   ]
  },
  {
   "cell_type": "code",
   "execution_count": null,
   "metadata": {},
   "outputs": [],
   "source": [
    "# lasso 선택된 변수들만 모은 데이터 프레임\n",
    "lr_feature_log.append('y')\n",
    "df_final_lasso_log = df_final[lr_feature_log]\n",
    "df_final_lasso_log"
   ]
  },
  {
   "cell_type": "code",
   "execution_count": null,
   "metadata": {},
   "outputs": [],
   "source": [
    "lr_feature_log"
   ]
  },
  {
   "cell_type": "markdown",
   "metadata": {},
   "source": [
    "### 2-4-6. Stepwise"
   ]
  },
  {
   "cell_type": "code",
   "execution_count": null,
   "metadata": {},
   "outputs": [],
   "source": [
    "def stepwise_feature_selection(feature, target, variables):\n",
    "    import statsmodels.api as sm\n",
    "    import matplotlib.pyplot as plt\n",
    "    import warnings\n",
    "    import pandas as pd\n",
    "    warnings.filterwarnings(\"ignore\")\n",
    "    \n",
    "    y = target ## 반응 변수\n",
    "\n",
    "    selected_variables = [] ## 선택된 변수들\n",
    "    sl_enter = 0.05\n",
    "    sl_remove = 0.05\n",
    "    \n",
    "    sv_per_step = [] ## 각 스텝별로 선택된 변수들\n",
    "    r_squared = [] ## 각 스텝별 수정된 결정계수\n",
    "    steps = [] ## 스텝\n",
    "    step = 0\n",
    "    while len(variables) > 0:\n",
    "        remainder = list(set(variables) - set(selected_variables))\n",
    "        pval = pd.Series(index=remainder) ## 변수의 p-value\n",
    "        ## 기존에 포함된 변수와 새로운 변수 하나씩 돌아가면서\n",
    "        ## 선형 모형을 적합한다.\n",
    "        for col in remainder: \n",
    "            X = feature[selected_variables+[col]]\n",
    "            model = sm.Logit(y,X).fit(disp=0)\n",
    "            pval[col] = model.pvalues[col]\n",
    "    \n",
    "        min_pval = pval.min()\n",
    "        if min_pval < sl_enter: ## 최소 p-value 값이 기준 값보다 작으면 포함\n",
    "            selected_variables.append(pval.idxmin())\n",
    "            ## 선택된 변수들에대해서\n",
    "            ## 어떤 변수를 제거할지 고른다.\n",
    "            while len(selected_variables) > 0:\n",
    "                selected_X = feature[selected_variables]\n",
    "                selected_pval = sm.Logit(y,selected_X).fit(disp=0).pvalues[:]\n",
    "                max_pval = selected_pval.max()\n",
    "                if max_pval >= sl_remove: ## 최대 p-value값이 기준값보다 크거나 같으면 제외\n",
    "                    remove_variable = selected_pval.idxmax()\n",
    "                    selected_variables.remove(remove_variable)\n",
    "                else:\n",
    "                    break\n",
    "            \n",
    "            step += 1\n",
    "            steps.append(step)\n",
    "            presudo_r_squared = sm.Logit(y,feature[selected_variables]).fit(disp=0).prsquared\n",
    "            r_squared.append(presudo_r_squared)\n",
    "            sv_per_step.append(selected_variables.copy())\n",
    "        else:\n",
    "            break\n",
    "\n",
    "    \n",
    "    # 시각화\n",
    "    fig = plt.figure(figsize=(40,40))\n",
    "    plt.xticks(steps,[f'step {s}\\n'+'\\n'.join(sv_per_step[i]) for i,s in enumerate(steps)])\n",
    "    plt.plot(steps,r_squared, marker='o')\n",
    "    plt.ylabel('pseudo R Squared')\n",
    "    plt.grid(True)\n",
    "    plt.show()\n",
    "\n",
    "    return selected_variables\n",
    "    \n",
    "selected_variables = stepwise_feature_selection(x17_log, df_final_x17_log['y'],x17_log.columns.tolist())"
   ]
  },
  {
   "cell_type": "markdown",
   "metadata": {},
   "source": [
    "### 2-4-7. Step8\n",
    "'부채상환계수','재고자산회전율','총자산증가율','운전자산회전율','차입금의존도','순이익증가율','자기자본순이익률','노동소득분배율'"
   ]
  },
  {
   "cell_type": "code",
   "execution_count": null,
   "metadata": {},
   "outputs": [],
   "source": [
    "# select된 변수 들고오기\n",
    "select_log = ['부채상환계수','재고자산회전율','총자산증가율','운전자산회전율','차입금의존도','순이익증가율','자기자본순이익률','노동소득분배율']\n",
    "select_log.append('y')\n",
    "df_select_log = df_final[select_log]\n",
    "df_select_log"
   ]
  },
  {
   "cell_type": "code",
   "execution_count": null,
   "metadata": {},
   "outputs": [],
   "source": [
    "# 상관행렬 시각화\n",
    "mask_ut=np.triu(np.ones(df_select_log.drop('y',axis=1).corr().shape)).astype(bool)  # 배열 행렬에 위쪽 삼각형 반환 -> True\n",
    "plt.figure(figsize=(30,30))\n",
    "sns.heatmap(df_select_log.drop('y',axis=1).corr(method='pearson'), annot = True, cmap = 'RdYlBu_r', cbar_kws={\"shrink\": .5}, \n",
    "              annot_kws={\"size\": 10}, linewidths=.5, mask=mask_ut)\n",
    "plt.show()"
   ]
  },
  {
   "cell_type": "code",
   "execution_count": null,
   "metadata": {},
   "outputs": [],
   "source": [
    "df_final_x17_log = pd.concat([df_select_log, df_final[['감사의견코드','산업분류','회계년도']]],axis=1)\n",
    "df_final_x17_log"
   ]
  },
  {
   "cell_type": "code",
   "execution_count": null,
   "metadata": {},
   "outputs": [],
   "source": [
    "df_final_x17_log.to_csv('./data/df_final_x17_log.csv')"
   ]
  },
  {
   "cell_type": "markdown",
   "metadata": {},
   "source": [
    "# 3. 기업 기준/ 연도 기준 logistic 성능 비교"
   ]
  },
  {
   "cell_type": "code",
   "execution_count": 1,
   "metadata": {},
   "outputs": [],
   "source": [
    "# 기본 setting\n",
    "import numpy as np\n",
    "import pandas as pd\n",
    "import matplotlib.pyplot as plt\n",
    "import seaborn as sns\n",
    "from matplotlib import font_manager, rc\n",
    "font_path = \"C:/Windows/Fonts/malgun.ttf\"\n",
    "font = font_manager.FontProperties(fname=font_path).get_name()\n",
    "rc('font', family=font)\n",
    "import warnings\n",
    "warnings.filterwarnings(action = 'ignore')\n",
    "pd.options.display.float_format = '{:.5f}'.format\n",
    "\n",
    "# Model\n",
    "from sklearn.linear_model import LogisticRegression\n",
    "from sklearn.tree import DecisionTreeClassifier\n",
    "from sklearn.tree import export_graphviz\n",
    "import graphviz\n",
    "from sklearn.svm import SVC\n",
    "from sklearn.ensemble import VotingClassifier\n",
    "from sklearn.neighbors import KNeighborsClassifier\n",
    "from xgboost import XGBClassifier\n",
    "from lightgbm import plot_importance\n",
    "from sklearn.ensemble import RandomForestClassifier\n",
    "from lightgbm import LGBMClassifier\n",
    "from keras.wrappers.scikit_learn import KerasClassifier\n",
    "from keras.models import Sequential\n",
    "from keras.layers import Dense,Dropout\n",
    "from imblearn.over_sampling import SMOTENC\n",
    "\n",
    "from sklearn.preprocessing import OneHotEncoder,LabelEncoder\n",
    "from sklearn.preprocessing import StandardScaler, RobustScaler, QuantileTransformer, MinMaxScaler\n",
    "from sklearn.model_selection import KFold , GridSearchCV , train_test_split\n",
    "from sklearn.metrics import f1_score, accuracy_score, recall_score, precision_score ,roc_auc_score, roc_curve,confusion_matrix\n",
    "from sklearn.preprocessing import Binarizer"
   ]
  },
  {
   "cell_type": "markdown",
   "metadata": {},
   "source": [
    "## 3-1. 모델 돌리기 전 함수 만들기"
   ]
  },
  {
   "cell_type": "markdown",
   "metadata": {},
   "source": [
    "### 3-1-1. 기업 기준 train_test_split 8:2"
   ]
  },
  {
   "cell_type": "code",
   "execution_count": 2,
   "metadata": {},
   "outputs": [],
   "source": [
    "import pandas as pd\n",
    "import numpy as np"
   ]
  },
  {
   "cell_type": "code",
   "execution_count": 130,
   "metadata": {},
   "outputs": [
    {
     "data": {
      "text/html": [
       "<div>\n",
       "<style scoped>\n",
       "    .dataframe tbody tr th:only-of-type {\n",
       "        vertical-align: middle;\n",
       "    }\n",
       "\n",
       "    .dataframe tbody tr th {\n",
       "        vertical-align: top;\n",
       "    }\n",
       "\n",
       "    .dataframe thead th {\n",
       "        text-align: right;\n",
       "    }\n",
       "</style>\n",
       "<table border=\"1\" class=\"dataframe\">\n",
       "  <thead>\n",
       "    <tr style=\"text-align: right;\">\n",
       "      <th></th>\n",
       "      <th>회사명</th>\n",
       "      <th>거래소코드</th>\n",
       "      <th>회계년도</th>\n",
       "      <th>산업분류</th>\n",
       "      <th>감사의견코드</th>\n",
       "      <th>y</th>\n",
       "      <th>자기자본비율</th>\n",
       "      <th>부채비율</th>\n",
       "      <th>유동비율</th>\n",
       "      <th>당좌비율</th>\n",
       "      <th>...</th>\n",
       "      <th>운전자산회전율</th>\n",
       "      <th>총자산증가율</th>\n",
       "      <th>유형자산증가율</th>\n",
       "      <th>매출액증가율</th>\n",
       "      <th>순이익증가율</th>\n",
       "      <th>자기자본증가율</th>\n",
       "      <th>총자본투자효율</th>\n",
       "      <th>부가가치율</th>\n",
       "      <th>노동소득분배율</th>\n",
       "      <th>현금흐름</th>\n",
       "    </tr>\n",
       "  </thead>\n",
       "  <tbody>\n",
       "    <tr>\n",
       "      <th>0</th>\n",
       "      <td>(주)CMG제약</td>\n",
       "      <td>058820</td>\n",
       "      <td>2011</td>\n",
       "      <td>제조업</td>\n",
       "      <td>1</td>\n",
       "      <td>0.00000</td>\n",
       "      <td>75.62749</td>\n",
       "      <td>47.26749</td>\n",
       "      <td>230.99635</td>\n",
       "      <td>77.28779</td>\n",
       "      <td>...</td>\n",
       "      <td>146.66914</td>\n",
       "      <td>25.66922</td>\n",
       "      <td>9.44116</td>\n",
       "      <td>53.83186</td>\n",
       "      <td>831.58011</td>\n",
       "      <td>158.83360</td>\n",
       "      <td>12.63467</td>\n",
       "      <td>27.23903</td>\n",
       "      <td>56.20416</td>\n",
       "      <td>-3.37997</td>\n",
       "    </tr>\n",
       "    <tr>\n",
       "      <th>1</th>\n",
       "      <td>(주)CMG제약</td>\n",
       "      <td>058820</td>\n",
       "      <td>2012</td>\n",
       "      <td>제조업</td>\n",
       "      <td>1</td>\n",
       "      <td>0.00000</td>\n",
       "      <td>41.79746</td>\n",
       "      <td>190.41433</td>\n",
       "      <td>424.28694</td>\n",
       "      <td>92.83109</td>\n",
       "      <td>...</td>\n",
       "      <td>47.92797</td>\n",
       "      <td>54.40705</td>\n",
       "      <td>-3.00451</td>\n",
       "      <td>0.74770</td>\n",
       "      <td>-687.67762</td>\n",
       "      <td>-21.70104</td>\n",
       "      <td>-5.11308</td>\n",
       "      <td>-15.50104</td>\n",
       "      <td>-0.00000</td>\n",
       "      <td>-11.28443</td>\n",
       "    </tr>\n",
       "    <tr>\n",
       "      <th>2</th>\n",
       "      <td>(주)CMG제약</td>\n",
       "      <td>058820</td>\n",
       "      <td>2013</td>\n",
       "      <td>제조업</td>\n",
       "      <td>1</td>\n",
       "      <td>0.00000</td>\n",
       "      <td>95.59773</td>\n",
       "      <td>16.32119</td>\n",
       "      <td>633.69602</td>\n",
       "      <td>88.09871</td>\n",
       "      <td>...</td>\n",
       "      <td>44.25704</td>\n",
       "      <td>25.22627</td>\n",
       "      <td>11.19392</td>\n",
       "      <td>22.78041</td>\n",
       "      <td>720.96779</td>\n",
       "      <td>212.64729</td>\n",
       "      <td>6.85240</td>\n",
       "      <td>23.12858</td>\n",
       "      <td>58.08721</td>\n",
       "      <td>-7.42957</td>\n",
       "    </tr>\n",
       "    <tr>\n",
       "      <th>3</th>\n",
       "      <td>(주)CMG제약</td>\n",
       "      <td>058820</td>\n",
       "      <td>2014</td>\n",
       "      <td>제조업</td>\n",
       "      <td>1</td>\n",
       "      <td>0.00000</td>\n",
       "      <td>85.91485</td>\n",
       "      <td>17.05338</td>\n",
       "      <td>422.69187</td>\n",
       "      <td>83.27042</td>\n",
       "      <td>...</td>\n",
       "      <td>77.52048</td>\n",
       "      <td>1.13891</td>\n",
       "      <td>76.94049</td>\n",
       "      <td>11.87046</td>\n",
       "      <td>-50.81320</td>\n",
       "      <td>0.50627</td>\n",
       "      <td>5.25856</td>\n",
       "      <td>17.74315</td>\n",
       "      <td>76.62273</td>\n",
       "      <td>0.18906</td>\n",
       "    </tr>\n",
       "    <tr>\n",
       "      <th>4</th>\n",
       "      <td>(주)CMG제약</td>\n",
       "      <td>058820</td>\n",
       "      <td>2015</td>\n",
       "      <td>제조업</td>\n",
       "      <td>1</td>\n",
       "      <td>0.00000</td>\n",
       "      <td>86.33468</td>\n",
       "      <td>16.44248</td>\n",
       "      <td>358.93927</td>\n",
       "      <td>81.39065</td>\n",
       "      <td>...</td>\n",
       "      <td>100.56523</td>\n",
       "      <td>1.06613</td>\n",
       "      <td>-6.08394</td>\n",
       "      <td>15.52010</td>\n",
       "      <td>-369.91131</td>\n",
       "      <td>1.59636</td>\n",
       "      <td>4.99393</td>\n",
       "      <td>14.74719</td>\n",
       "      <td>85.08907</td>\n",
       "      <td>2.76669</td>\n",
       "    </tr>\n",
       "    <tr>\n",
       "      <th>...</th>\n",
       "      <td>...</td>\n",
       "      <td>...</td>\n",
       "      <td>...</td>\n",
       "      <td>...</td>\n",
       "      <td>...</td>\n",
       "      <td>...</td>\n",
       "      <td>...</td>\n",
       "      <td>...</td>\n",
       "      <td>...</td>\n",
       "      <td>...</td>\n",
       "      <td>...</td>\n",
       "      <td>...</td>\n",
       "      <td>...</td>\n",
       "      <td>...</td>\n",
       "      <td>...</td>\n",
       "      <td>...</td>\n",
       "      <td>...</td>\n",
       "      <td>...</td>\n",
       "      <td>...</td>\n",
       "      <td>...</td>\n",
       "      <td>...</td>\n",
       "    </tr>\n",
       "    <tr>\n",
       "      <th>10654</th>\n",
       "      <td>흥구석유(주)</td>\n",
       "      <td>024060</td>\n",
       "      <td>2016</td>\n",
       "      <td>도매 및 소매업</td>\n",
       "      <td>1</td>\n",
       "      <td>0.00000</td>\n",
       "      <td>88.15917</td>\n",
       "      <td>14.97938</td>\n",
       "      <td>512.17096</td>\n",
       "      <td>85.34895</td>\n",
       "      <td>...</td>\n",
       "      <td>902.26309</td>\n",
       "      <td>2.76753</td>\n",
       "      <td>-5.88494</td>\n",
       "      <td>-10.44421</td>\n",
       "      <td>-39.41557</td>\n",
       "      <td>1.10231</td>\n",
       "      <td>0.81332</td>\n",
       "      <td>0.60275</td>\n",
       "      <td>0.00000</td>\n",
       "      <td>0.83877</td>\n",
       "    </tr>\n",
       "    <tr>\n",
       "      <th>10655</th>\n",
       "      <td>흥구석유(주)</td>\n",
       "      <td>024060</td>\n",
       "      <td>2017</td>\n",
       "      <td>도매 및 소매업</td>\n",
       "      <td>1</td>\n",
       "      <td>0.00000</td>\n",
       "      <td>87.21896</td>\n",
       "      <td>14.94747</td>\n",
       "      <td>170.53091</td>\n",
       "      <td>83.77533</td>\n",
       "      <td>...</td>\n",
       "      <td>1850.60804</td>\n",
       "      <td>0.51328</td>\n",
       "      <td>-0.31466</td>\n",
       "      <td>9.57926</td>\n",
       "      <td>-21.85009</td>\n",
       "      <td>0.54119</td>\n",
       "      <td>0.24311</td>\n",
       "      <td>0.16709</td>\n",
       "      <td>0.00000</td>\n",
       "      <td>1.69081</td>\n",
       "    </tr>\n",
       "    <tr>\n",
       "      <th>10656</th>\n",
       "      <td>흥구석유(주)</td>\n",
       "      <td>024060</td>\n",
       "      <td>2018</td>\n",
       "      <td>도매 및 소매업</td>\n",
       "      <td>1</td>\n",
       "      <td>0.00000</td>\n",
       "      <td>88.57968</td>\n",
       "      <td>11.37669</td>\n",
       "      <td>190.72729</td>\n",
       "      <td>75.54444</td>\n",
       "      <td>...</td>\n",
       "      <td>2062.24257</td>\n",
       "      <td>-2.65019</td>\n",
       "      <td>-0.11878</td>\n",
       "      <td>8.59591</td>\n",
       "      <td>-7.19164</td>\n",
       "      <td>0.47088</td>\n",
       "      <td>0.06570</td>\n",
       "      <td>0.04114</td>\n",
       "      <td>0.00000</td>\n",
       "      <td>-0.41901</td>\n",
       "    </tr>\n",
       "    <tr>\n",
       "      <th>10657</th>\n",
       "      <td>흥구석유(주)</td>\n",
       "      <td>024060</td>\n",
       "      <td>2019</td>\n",
       "      <td>도매 및 소매업</td>\n",
       "      <td>1</td>\n",
       "      <td>0.00000</td>\n",
       "      <td>95.36694</td>\n",
       "      <td>8.62898</td>\n",
       "      <td>448.80343</td>\n",
       "      <td>89.98449</td>\n",
       "      <td>...</td>\n",
       "      <td>648.08224</td>\n",
       "      <td>7.46055</td>\n",
       "      <td>-7.72428</td>\n",
       "      <td>-11.78601</td>\n",
       "      <td>654.09380</td>\n",
       "      <td>10.17871</td>\n",
       "      <td>0.58948</td>\n",
       "      <td>0.42817</td>\n",
       "      <td>0.00000</td>\n",
       "      <td>1.62528</td>\n",
       "    </tr>\n",
       "    <tr>\n",
       "      <th>10658</th>\n",
       "      <td>흥구석유(주)</td>\n",
       "      <td>024060</td>\n",
       "      <td>2020</td>\n",
       "      <td>도매 및 소매업</td>\n",
       "      <td>1</td>\n",
       "      <td>0.00000</td>\n",
       "      <td>92.25733</td>\n",
       "      <td>7.39871</td>\n",
       "      <td>721.84242</td>\n",
       "      <td>92.55348</td>\n",
       "      <td>...</td>\n",
       "      <td>389.87553</td>\n",
       "      <td>-1.81698</td>\n",
       "      <td>-13.46825</td>\n",
       "      <td>-23.31561</td>\n",
       "      <td>-88.95471</td>\n",
       "      <td>-0.69228</td>\n",
       "      <td>-0.35678</td>\n",
       "      <td>-0.34691</td>\n",
       "      <td>-0.00000</td>\n",
       "      <td>4.87172</td>\n",
       "    </tr>\n",
       "  </tbody>\n",
       "</table>\n",
       "<p>10659 rows × 38 columns</p>\n",
       "</div>"
      ],
      "text/plain": [
       "            회사명   거래소코드  회계년도      산업분류  감사의견코드       y   자기자본비율      부채비율  \\\n",
       "0      (주)CMG제약  058820  2011       제조업       1 0.00000 75.62749  47.26749   \n",
       "1      (주)CMG제약  058820  2012       제조업       1 0.00000 41.79746 190.41433   \n",
       "2      (주)CMG제약  058820  2013       제조업       1 0.00000 95.59773  16.32119   \n",
       "3      (주)CMG제약  058820  2014       제조업       1 0.00000 85.91485  17.05338   \n",
       "4      (주)CMG제약  058820  2015       제조업       1 0.00000 86.33468  16.44248   \n",
       "...         ...     ...   ...       ...     ...     ...      ...       ...   \n",
       "10654   흥구석유(주)  024060  2016  도매 및 소매업       1 0.00000 88.15917  14.97938   \n",
       "10655   흥구석유(주)  024060  2017  도매 및 소매업       1 0.00000 87.21896  14.94747   \n",
       "10656   흥구석유(주)  024060  2018  도매 및 소매업       1 0.00000 88.57968  11.37669   \n",
       "10657   흥구석유(주)  024060  2019  도매 및 소매업       1 0.00000 95.36694   8.62898   \n",
       "10658   흥구석유(주)  024060  2020  도매 및 소매업       1 0.00000 92.25733   7.39871   \n",
       "\n",
       "           유동비율     당좌비율  ...    운전자산회전율   총자산증가율   유형자산증가율    매출액증가율  \\\n",
       "0     230.99635 77.28779  ...  146.66914 25.66922   9.44116  53.83186   \n",
       "1     424.28694 92.83109  ...   47.92797 54.40705  -3.00451   0.74770   \n",
       "2     633.69602 88.09871  ...   44.25704 25.22627  11.19392  22.78041   \n",
       "3     422.69187 83.27042  ...   77.52048  1.13891  76.94049  11.87046   \n",
       "4     358.93927 81.39065  ...  100.56523  1.06613  -6.08394  15.52010   \n",
       "...         ...      ...  ...        ...      ...       ...       ...   \n",
       "10654 512.17096 85.34895  ...  902.26309  2.76753  -5.88494 -10.44421   \n",
       "10655 170.53091 83.77533  ... 1850.60804  0.51328  -0.31466   9.57926   \n",
       "10656 190.72729 75.54444  ... 2062.24257 -2.65019  -0.11878   8.59591   \n",
       "10657 448.80343 89.98449  ...  648.08224  7.46055  -7.72428 -11.78601   \n",
       "10658 721.84242 92.55348  ...  389.87553 -1.81698 -13.46825 -23.31561   \n",
       "\n",
       "          순이익증가율   자기자본증가율  총자본투자효율     부가가치율  노동소득분배율      현금흐름  \n",
       "0      831.58011 158.83360 12.63467  27.23903 56.20416  -3.37997  \n",
       "1     -687.67762 -21.70104 -5.11308 -15.50104 -0.00000 -11.28443  \n",
       "2      720.96779 212.64729  6.85240  23.12858 58.08721  -7.42957  \n",
       "3      -50.81320   0.50627  5.25856  17.74315 76.62273   0.18906  \n",
       "4     -369.91131   1.59636  4.99393  14.74719 85.08907   2.76669  \n",
       "...          ...       ...      ...       ...      ...       ...  \n",
       "10654  -39.41557   1.10231  0.81332   0.60275  0.00000   0.83877  \n",
       "10655  -21.85009   0.54119  0.24311   0.16709  0.00000   1.69081  \n",
       "10656   -7.19164   0.47088  0.06570   0.04114  0.00000  -0.41901  \n",
       "10657  654.09380  10.17871  0.58948   0.42817  0.00000   1.62528  \n",
       "10658  -88.95471  -0.69228 -0.35678  -0.34691 -0.00000   4.87172  \n",
       "\n",
       "[10659 rows x 38 columns]"
      ]
     },
     "execution_count": 130,
     "metadata": {},
     "output_type": "execute_result"
    }
   ],
   "source": [
    "df_final = pd.read_csv('./data/df_over.csv',index_col=0)\n",
    "df_final['거래소코드'] = df_final['거래소코드'].astype('str').str.zfill(6)\n",
    "df_final['회계년도'] = pd.to_datetime(df_final['회계년도'],format='%Y')\n",
    "df_final['회계년도'] = df_final['회계년도'].dt.year\n",
    "df_final"
   ]
  },
  {
   "cell_type": "code",
   "execution_count": 132,
   "metadata": {},
   "outputs": [],
   "source": [
    "df_final_1 = df_final.iloc[:,6:38]"
   ]
  },
  {
   "cell_type": "code",
   "execution_count": 133,
   "metadata": {},
   "outputs": [],
   "source": [
    "# 1) boxplot에서 보이는 이상치 처리 -> 5% winsorizing 활용\n",
    "from scipy.stats.mstats import winsorize\n",
    "for i in range(len(df_final_1.columns)):\n",
    "  df_final_1.iloc[:,i]= winsorize(df_final_1.iloc[:,i], limits=[0.025, 0.025])"
   ]
  },
  {
   "cell_type": "code",
   "execution_count": 134,
   "metadata": {},
   "outputs": [
    {
     "data": {
      "text/html": [
       "<div>\n",
       "<style scoped>\n",
       "    .dataframe tbody tr th:only-of-type {\n",
       "        vertical-align: middle;\n",
       "    }\n",
       "\n",
       "    .dataframe tbody tr th {\n",
       "        vertical-align: top;\n",
       "    }\n",
       "\n",
       "    .dataframe thead th {\n",
       "        text-align: right;\n",
       "    }\n",
       "</style>\n",
       "<table border=\"1\" class=\"dataframe\">\n",
       "  <thead>\n",
       "    <tr style=\"text-align: right;\">\n",
       "      <th></th>\n",
       "      <th>회사명</th>\n",
       "      <th>거래소코드</th>\n",
       "      <th>회계년도</th>\n",
       "      <th>산업분류</th>\n",
       "      <th>감사의견코드</th>\n",
       "      <th>y</th>\n",
       "      <th>자기자본비율</th>\n",
       "      <th>부채비율</th>\n",
       "      <th>유동비율</th>\n",
       "      <th>당좌비율</th>\n",
       "      <th>...</th>\n",
       "      <th>운전자산회전율</th>\n",
       "      <th>총자산증가율</th>\n",
       "      <th>유형자산증가율</th>\n",
       "      <th>매출액증가율</th>\n",
       "      <th>순이익증가율</th>\n",
       "      <th>자기자본증가율</th>\n",
       "      <th>총자본투자효율</th>\n",
       "      <th>부가가치율</th>\n",
       "      <th>노동소득분배율</th>\n",
       "      <th>현금흐름</th>\n",
       "    </tr>\n",
       "  </thead>\n",
       "  <tbody>\n",
       "    <tr>\n",
       "      <th>0</th>\n",
       "      <td>(주)CMG제약</td>\n",
       "      <td>058820</td>\n",
       "      <td>2011</td>\n",
       "      <td>제조업</td>\n",
       "      <td>1</td>\n",
       "      <td>0.00000</td>\n",
       "      <td>75.62749</td>\n",
       "      <td>47.26749</td>\n",
       "      <td>230.99635</td>\n",
       "      <td>77.28779</td>\n",
       "      <td>...</td>\n",
       "      <td>146.66914</td>\n",
       "      <td>25.66922</td>\n",
       "      <td>9.44116</td>\n",
       "      <td>53.83186</td>\n",
       "      <td>831.58011</td>\n",
       "      <td>118.89191</td>\n",
       "      <td>12.63467</td>\n",
       "      <td>27.23903</td>\n",
       "      <td>56.20416</td>\n",
       "      <td>-3.37997</td>\n",
       "    </tr>\n",
       "    <tr>\n",
       "      <th>1</th>\n",
       "      <td>(주)CMG제약</td>\n",
       "      <td>058820</td>\n",
       "      <td>2012</td>\n",
       "      <td>제조업</td>\n",
       "      <td>1</td>\n",
       "      <td>0.00000</td>\n",
       "      <td>41.79746</td>\n",
       "      <td>190.41433</td>\n",
       "      <td>424.28694</td>\n",
       "      <td>92.83109</td>\n",
       "      <td>...</td>\n",
       "      <td>47.92797</td>\n",
       "      <td>54.40705</td>\n",
       "      <td>-3.00451</td>\n",
       "      <td>0.74770</td>\n",
       "      <td>-687.67762</td>\n",
       "      <td>-21.70104</td>\n",
       "      <td>-5.11308</td>\n",
       "      <td>-15.50104</td>\n",
       "      <td>-0.00000</td>\n",
       "      <td>-11.28443</td>\n",
       "    </tr>\n",
       "    <tr>\n",
       "      <th>2</th>\n",
       "      <td>(주)CMG제약</td>\n",
       "      <td>058820</td>\n",
       "      <td>2013</td>\n",
       "      <td>제조업</td>\n",
       "      <td>1</td>\n",
       "      <td>0.00000</td>\n",
       "      <td>95.59773</td>\n",
       "      <td>16.32119</td>\n",
       "      <td>633.69602</td>\n",
       "      <td>88.09871</td>\n",
       "      <td>...</td>\n",
       "      <td>44.25704</td>\n",
       "      <td>25.22627</td>\n",
       "      <td>11.19392</td>\n",
       "      <td>22.78041</td>\n",
       "      <td>720.96779</td>\n",
       "      <td>118.89191</td>\n",
       "      <td>6.85240</td>\n",
       "      <td>23.12858</td>\n",
       "      <td>58.08721</td>\n",
       "      <td>-7.42957</td>\n",
       "    </tr>\n",
       "    <tr>\n",
       "      <th>3</th>\n",
       "      <td>(주)CMG제약</td>\n",
       "      <td>058820</td>\n",
       "      <td>2014</td>\n",
       "      <td>제조업</td>\n",
       "      <td>1</td>\n",
       "      <td>0.00000</td>\n",
       "      <td>85.91485</td>\n",
       "      <td>17.05338</td>\n",
       "      <td>422.69187</td>\n",
       "      <td>83.27042</td>\n",
       "      <td>...</td>\n",
       "      <td>77.52048</td>\n",
       "      <td>1.13891</td>\n",
       "      <td>76.94049</td>\n",
       "      <td>11.87046</td>\n",
       "      <td>-50.81320</td>\n",
       "      <td>0.50627</td>\n",
       "      <td>5.25856</td>\n",
       "      <td>17.74315</td>\n",
       "      <td>76.62273</td>\n",
       "      <td>0.18906</td>\n",
       "    </tr>\n",
       "    <tr>\n",
       "      <th>4</th>\n",
       "      <td>(주)CMG제약</td>\n",
       "      <td>058820</td>\n",
       "      <td>2015</td>\n",
       "      <td>제조업</td>\n",
       "      <td>1</td>\n",
       "      <td>0.00000</td>\n",
       "      <td>86.33468</td>\n",
       "      <td>16.44248</td>\n",
       "      <td>358.93927</td>\n",
       "      <td>81.39065</td>\n",
       "      <td>...</td>\n",
       "      <td>100.56523</td>\n",
       "      <td>1.06613</td>\n",
       "      <td>-6.08394</td>\n",
       "      <td>15.52010</td>\n",
       "      <td>-369.91131</td>\n",
       "      <td>1.59636</td>\n",
       "      <td>4.99393</td>\n",
       "      <td>14.74719</td>\n",
       "      <td>85.08907</td>\n",
       "      <td>2.76669</td>\n",
       "    </tr>\n",
       "    <tr>\n",
       "      <th>...</th>\n",
       "      <td>...</td>\n",
       "      <td>...</td>\n",
       "      <td>...</td>\n",
       "      <td>...</td>\n",
       "      <td>...</td>\n",
       "      <td>...</td>\n",
       "      <td>...</td>\n",
       "      <td>...</td>\n",
       "      <td>...</td>\n",
       "      <td>...</td>\n",
       "      <td>...</td>\n",
       "      <td>...</td>\n",
       "      <td>...</td>\n",
       "      <td>...</td>\n",
       "      <td>...</td>\n",
       "      <td>...</td>\n",
       "      <td>...</td>\n",
       "      <td>...</td>\n",
       "      <td>...</td>\n",
       "      <td>...</td>\n",
       "      <td>...</td>\n",
       "    </tr>\n",
       "    <tr>\n",
       "      <th>10654</th>\n",
       "      <td>흥구석유(주)</td>\n",
       "      <td>024060</td>\n",
       "      <td>2016</td>\n",
       "      <td>도매 및 소매업</td>\n",
       "      <td>1</td>\n",
       "      <td>0.00000</td>\n",
       "      <td>88.15917</td>\n",
       "      <td>14.97938</td>\n",
       "      <td>512.17096</td>\n",
       "      <td>85.34895</td>\n",
       "      <td>...</td>\n",
       "      <td>902.26309</td>\n",
       "      <td>2.76753</td>\n",
       "      <td>-5.88494</td>\n",
       "      <td>-10.44421</td>\n",
       "      <td>-39.41557</td>\n",
       "      <td>1.10231</td>\n",
       "      <td>0.81332</td>\n",
       "      <td>0.60275</td>\n",
       "      <td>0.00000</td>\n",
       "      <td>0.83877</td>\n",
       "    </tr>\n",
       "    <tr>\n",
       "      <th>10655</th>\n",
       "      <td>흥구석유(주)</td>\n",
       "      <td>024060</td>\n",
       "      <td>2017</td>\n",
       "      <td>도매 및 소매업</td>\n",
       "      <td>1</td>\n",
       "      <td>0.00000</td>\n",
       "      <td>87.21896</td>\n",
       "      <td>14.94747</td>\n",
       "      <td>170.53091</td>\n",
       "      <td>83.77533</td>\n",
       "      <td>...</td>\n",
       "      <td>1850.60804</td>\n",
       "      <td>0.51328</td>\n",
       "      <td>-0.31466</td>\n",
       "      <td>9.57926</td>\n",
       "      <td>-21.85009</td>\n",
       "      <td>0.54119</td>\n",
       "      <td>0.24311</td>\n",
       "      <td>0.16709</td>\n",
       "      <td>0.00000</td>\n",
       "      <td>1.69081</td>\n",
       "    </tr>\n",
       "    <tr>\n",
       "      <th>10656</th>\n",
       "      <td>흥구석유(주)</td>\n",
       "      <td>024060</td>\n",
       "      <td>2018</td>\n",
       "      <td>도매 및 소매업</td>\n",
       "      <td>1</td>\n",
       "      <td>0.00000</td>\n",
       "      <td>88.57968</td>\n",
       "      <td>11.37669</td>\n",
       "      <td>190.72729</td>\n",
       "      <td>75.54444</td>\n",
       "      <td>...</td>\n",
       "      <td>2062.24257</td>\n",
       "      <td>-2.65019</td>\n",
       "      <td>-0.11878</td>\n",
       "      <td>8.59591</td>\n",
       "      <td>-7.19164</td>\n",
       "      <td>0.47088</td>\n",
       "      <td>0.06570</td>\n",
       "      <td>0.04114</td>\n",
       "      <td>0.00000</td>\n",
       "      <td>-0.41901</td>\n",
       "    </tr>\n",
       "    <tr>\n",
       "      <th>10657</th>\n",
       "      <td>흥구석유(주)</td>\n",
       "      <td>024060</td>\n",
       "      <td>2019</td>\n",
       "      <td>도매 및 소매업</td>\n",
       "      <td>1</td>\n",
       "      <td>0.00000</td>\n",
       "      <td>95.36694</td>\n",
       "      <td>8.62898</td>\n",
       "      <td>448.80343</td>\n",
       "      <td>89.98449</td>\n",
       "      <td>...</td>\n",
       "      <td>648.08224</td>\n",
       "      <td>7.46055</td>\n",
       "      <td>-7.72428</td>\n",
       "      <td>-11.78601</td>\n",
       "      <td>654.09380</td>\n",
       "      <td>10.17871</td>\n",
       "      <td>0.58948</td>\n",
       "      <td>0.42817</td>\n",
       "      <td>0.00000</td>\n",
       "      <td>1.62528</td>\n",
       "    </tr>\n",
       "    <tr>\n",
       "      <th>10658</th>\n",
       "      <td>흥구석유(주)</td>\n",
       "      <td>024060</td>\n",
       "      <td>2020</td>\n",
       "      <td>도매 및 소매업</td>\n",
       "      <td>1</td>\n",
       "      <td>0.00000</td>\n",
       "      <td>92.25733</td>\n",
       "      <td>7.39871</td>\n",
       "      <td>721.84242</td>\n",
       "      <td>92.55348</td>\n",
       "      <td>...</td>\n",
       "      <td>389.87553</td>\n",
       "      <td>-1.81698</td>\n",
       "      <td>-13.46825</td>\n",
       "      <td>-23.31561</td>\n",
       "      <td>-88.95471</td>\n",
       "      <td>-0.69228</td>\n",
       "      <td>-0.35678</td>\n",
       "      <td>-0.34691</td>\n",
       "      <td>-0.00000</td>\n",
       "      <td>4.87172</td>\n",
       "    </tr>\n",
       "  </tbody>\n",
       "</table>\n",
       "<p>10659 rows × 38 columns</p>\n",
       "</div>"
      ],
      "text/plain": [
       "            회사명   거래소코드  회계년도      산업분류  감사의견코드       y   자기자본비율      부채비율  \\\n",
       "0      (주)CMG제약  058820  2011       제조업       1 0.00000 75.62749  47.26749   \n",
       "1      (주)CMG제약  058820  2012       제조업       1 0.00000 41.79746 190.41433   \n",
       "2      (주)CMG제약  058820  2013       제조업       1 0.00000 95.59773  16.32119   \n",
       "3      (주)CMG제약  058820  2014       제조업       1 0.00000 85.91485  17.05338   \n",
       "4      (주)CMG제약  058820  2015       제조업       1 0.00000 86.33468  16.44248   \n",
       "...         ...     ...   ...       ...     ...     ...      ...       ...   \n",
       "10654   흥구석유(주)  024060  2016  도매 및 소매업       1 0.00000 88.15917  14.97938   \n",
       "10655   흥구석유(주)  024060  2017  도매 및 소매업       1 0.00000 87.21896  14.94747   \n",
       "10656   흥구석유(주)  024060  2018  도매 및 소매업       1 0.00000 88.57968  11.37669   \n",
       "10657   흥구석유(주)  024060  2019  도매 및 소매업       1 0.00000 95.36694   8.62898   \n",
       "10658   흥구석유(주)  024060  2020  도매 및 소매업       1 0.00000 92.25733   7.39871   \n",
       "\n",
       "           유동비율     당좌비율  ...    운전자산회전율   총자산증가율   유형자산증가율    매출액증가율  \\\n",
       "0     230.99635 77.28779  ...  146.66914 25.66922   9.44116  53.83186   \n",
       "1     424.28694 92.83109  ...   47.92797 54.40705  -3.00451   0.74770   \n",
       "2     633.69602 88.09871  ...   44.25704 25.22627  11.19392  22.78041   \n",
       "3     422.69187 83.27042  ...   77.52048  1.13891  76.94049  11.87046   \n",
       "4     358.93927 81.39065  ...  100.56523  1.06613  -6.08394  15.52010   \n",
       "...         ...      ...  ...        ...      ...       ...       ...   \n",
       "10654 512.17096 85.34895  ...  902.26309  2.76753  -5.88494 -10.44421   \n",
       "10655 170.53091 83.77533  ... 1850.60804  0.51328  -0.31466   9.57926   \n",
       "10656 190.72729 75.54444  ... 2062.24257 -2.65019  -0.11878   8.59591   \n",
       "10657 448.80343 89.98449  ...  648.08224  7.46055  -7.72428 -11.78601   \n",
       "10658 721.84242 92.55348  ...  389.87553 -1.81698 -13.46825 -23.31561   \n",
       "\n",
       "          순이익증가율   자기자본증가율  총자본투자효율     부가가치율  노동소득분배율      현금흐름  \n",
       "0      831.58011 118.89191 12.63467  27.23903 56.20416  -3.37997  \n",
       "1     -687.67762 -21.70104 -5.11308 -15.50104 -0.00000 -11.28443  \n",
       "2      720.96779 118.89191  6.85240  23.12858 58.08721  -7.42957  \n",
       "3      -50.81320   0.50627  5.25856  17.74315 76.62273   0.18906  \n",
       "4     -369.91131   1.59636  4.99393  14.74719 85.08907   2.76669  \n",
       "...          ...       ...      ...       ...      ...       ...  \n",
       "10654  -39.41557   1.10231  0.81332   0.60275  0.00000   0.83877  \n",
       "10655  -21.85009   0.54119  0.24311   0.16709  0.00000   1.69081  \n",
       "10656   -7.19164   0.47088  0.06570   0.04114  0.00000  -0.41901  \n",
       "10657  654.09380  10.17871  0.58948   0.42817  0.00000   1.62528  \n",
       "10658  -88.95471  -0.69228 -0.35678  -0.34691 -0.00000   4.87172  \n",
       "\n",
       "[10659 rows x 38 columns]"
      ]
     },
     "execution_count": 134,
     "metadata": {},
     "output_type": "execute_result"
    }
   ],
   "source": [
    "# 2) winsor 하고 원 데이터에 합치기\n",
    "df_over = pd.concat([df_final.iloc[:,:6],df_final_1],axis=1)\n",
    "df_over"
   ]
  },
  {
   "cell_type": "code",
   "execution_count": 83,
   "metadata": {},
   "outputs": [],
   "source": [
    "# 3) train, test 나누는 기본 함수\n",
    "def data(df):\n",
    "    #  '감사의견코드','산업분류','y' 카테고리로 만들기\n",
    "    df[['감사의견코드','산업분류']] = df[['감사의견코드','산업분류']].astype('category')\n",
    "    X = df.drop(['y','회계년도','회사명','거래소코드'], axis=1)\n",
    "    y = df[['y']]\n",
    "\n",
    "    X_train, X_test, y_train, y_test = train_test_split(X, y, random_state=121, stratify=y, test_size=0.2)\n",
    "    X_train_over, y_train_over = SMOTENC(sampling_strategy = 'auto', categorical_features=[0,1],random_state=121).fit_resample(X_train, y_train)\n",
    "\n",
    "    # smotenc -> 산업분류 : 더미변수 / 감사의견코드 : laber_encoding\n",
    "    def category_origin(X):\n",
    "        X = pd.concat([X,pd.get_dummies(X['산업분류'],drop_first=True)],axis=1)\n",
    "        X.drop('산업분류',axis=1,inplace=True)\n",
    "        le = LabelEncoder()\n",
    "        X['감사의견코드'] = le.fit_transform(X['감사의견코드'])\n",
    "        return X\n",
    "    X_train_over = category_origin(X_train_over)\n",
    "    X_test = category_origin(X_test)\n",
    "    \n",
    "    return X_train_over, X_test, y_train_over, y_test"
   ]
  },
  {
   "cell_type": "code",
   "execution_count": 135,
   "metadata": {},
   "outputs": [],
   "source": [
    "# 4) train, test 나누는 year기준 함수\n",
    "def data_year(df):\n",
    "    #  '감사의견코드','산업분류','y' 카테고리로 만들기\n",
    "    X = df.drop(['y','회사명','회사명','거래소코드'], axis=1)\n",
    "    y = df[['y']]\n",
    "    df[['감사의견코드','산업분류','y']] = df[['감사의견코드','산업분류','y']].astype('category')\n",
    "\n",
    "\n",
    "    # 2018년까지 X_train / 2019,2020년 y_train\n",
    "    \n",
    "    X_train = X[X['회계년도']<2019].drop('회계년도',axis=1)\n",
    "    X_test = X[X['회계년도']>2018].drop('회계년도',axis=1)\n",
    "    y_train = y.iloc[X_train.index]\n",
    "    y_test = y.iloc[X_test.index]\n",
    "    X_train_over, y_train_over = SMOTENC(sampling_strategy = 'auto', categorical_features=[0,1],random_state=121).fit_resample(X_train, y_train)\n",
    "\n",
    "    # smotenc -> 산업분류 : 더미변수 / 감사의견코드 : laber_encoding\n",
    "    def category_origin(X):\n",
    "        X = pd.concat([X,pd.get_dummies(X['산업분류'],drop_first=True)],axis=1)\n",
    "        X.drop('산업분류',axis=1,inplace=True)\n",
    "        le = LabelEncoder()\n",
    "        X['감사의견코드'] = le.fit_transform(X['감사의견코드'])\n",
    "        return X\n",
    "    X_train_over = category_origin(X_train_over)\n",
    "    X_test = category_origin(X_test)\n",
    "    \n",
    "    return X_train_over, X_test, y_train_over, y_test"
   ]
  },
  {
   "cell_type": "code",
   "execution_count": 136,
   "metadata": {},
   "outputs": [],
   "source": [
    "# 5) train, test 나누는 함수(lgbm에 이용)\n",
    "def data_lgbm_year(df):\n",
    "    import re\n",
    "    #  '감사의견코드','산업분류','y' 카테고리로 만들기\n",
    "    X = df.drop(['y','회사명','거래소코드'], axis=1)\n",
    "    y = df[['y']]\n",
    "    df[['감사의견코드','산업분류']] = df[['감사의견코드','산업분류']].astype('category')\n",
    "    \n",
    "    \n",
    "\n",
    "    # 2018년까지 X_train / 2019,2020년 y_train\n",
    "    X_train = X[X['회계년도']<2019].drop('회계년도',axis=1)\n",
    "    X_test = X[X['회계년도']>2018].drop('회계년도',axis=1)\n",
    "    y_train = y.iloc[X_train.index]\n",
    "    y_test = y.iloc[X_test.index]\n",
    "    X_train_over, y_train_over = SMOTENC(sampling_strategy = 'auto', categorical_features=[0,1],random_state=121).fit_resample(X_train, y_train)\n",
    "\n",
    "    # smotenc -> 산업분류 : 더미변수 / 감사의견코드 : laber_encoding\n",
    "    def category_origin(X):\n",
    "        X = pd.concat([X,pd.get_dummies(X['산업분류'],drop_first=True)],axis=1)\n",
    "        X.drop('산업분류',axis=1,inplace=True)\n",
    "        le = LabelEncoder()\n",
    "        X['감사의견코드'] = le.fit_transform(X['감사의견코드'])\n",
    "        X = X.rename(columns = lambda x:re.sub(',', '', x))\n",
    "        return X\n",
    "    X_train_over = category_origin(X_train_over)\n",
    "    X_test = category_origin(X_test)\n",
    "    \n",
    "    return X_train_over, X_test, y_train_over, y_test"
   ]
  },
  {
   "cell_type": "markdown",
   "metadata": {},
   "source": [
    "### 3-1-1(1). confusion matrix 만드는 함수 만들기"
   ]
  },
  {
   "cell_type": "code",
   "execution_count": 69,
   "metadata": {},
   "outputs": [],
   "source": [
    "# 2) confusion matrix 만드는 함수\n",
    "def score(y_test, pred):\n",
    "    # score print\n",
    "    print('accuracy score : {0:.3f}'.format(accuracy_score(y_test, pred)))\n",
    "    print('precision score : {0:.3f}'.format(precision_score(y_test, pred)))\n",
    "    print('recall score : {0:.3f}'.format(recall_score(y_test, pred)))\n",
    "    print('f1 score : {0:.3f}'.format(f1_score(y_test, pred)))\n",
    "    print('roc score : {0:.3f}'.format(roc_auc_score(y_test, pred)))\n",
    "    # confusion matirx 함수\n",
    "    cm = confusion_matrix(y_test, pred)\n",
    "    sns.heatmap(cm, annot=True, annot_kws={\"size\": 20}, cmap='PuBu', fmt='g')\n",
    "    plt.xlabel('Predicted', fontsize=20)\n",
    "    plt.ylabel('Actual', fontsize=20)"
   ]
  },
  {
   "cell_type": "code",
   "execution_count": 70,
   "metadata": {},
   "outputs": [],
   "source": [
    "# 3) thresholds를 무엇으로 하는가에 따라 score 산출하는 함수\n",
    "def get_f1_score(y_test, pred_proba_1):\n",
    "\n",
    "    thresholds = [0.2,0.3,0.4,0.5,0.6,0.7,0.8,0.9]\n",
    "    accuracys = []\n",
    "    precisions = []\n",
    "    recalls = []\n",
    "    f1_scores = []\n",
    "    auc_scores=[]\n",
    "\n",
    "    for threshold in thresholds:\n",
    "        binarizer = Binarizer(threshold = threshold)\n",
    "        pred_proba = binarizer.fit_transform(pred_proba_1)\n",
    "\n",
    "        accuracy = accuracy_score(y_test, pred_proba)\n",
    "        precision = precision_score(y_test, pred_proba)\n",
    "        recall = recall_score(y_test, pred_proba)\n",
    "        f1score = f1_score(y_test, pred_proba)\n",
    "        auc_score=roc_auc_score(y_test, pred_proba)\n",
    "\n",
    "        accuracys.append(accuracy)\n",
    "        precisions.append(precision)\n",
    "        recalls.append(recall)\n",
    "        f1_scores.append(f1score)\n",
    "        auc_scores.append(auc_score)\n",
    "        \n",
    "    results = pd.DataFrame(data = {\"Accuracy\": accuracys, \"Precision\": precisions, \"Recall\": recalls, \"F1 score\": f1_scores,\"Auc_Score\":auc_scores}, index = thresholds)\n",
    "    print(results)"
   ]
  },
  {
   "cell_type": "markdown",
   "metadata": {},
   "source": [
    "### 3-1-1(2). Logistic"
   ]
  },
  {
   "cell_type": "code",
   "execution_count": 40,
   "metadata": {},
   "outputs": [],
   "source": [
    "def Logistic(df):\n",
    "    X_train, X_test, y_train, y_test = data_year(df)\n",
    "\n",
    "    logistic = LogisticRegression()\n",
    "    param_logit = {'penalty' : ['l2'],\n",
    "                   'C' : [0.001, 0.01, 0.1, 1, 10, 100],\n",
    "                   'solver' : ['liblinear'], # 'lbfgs', 'newton-cg' \n",
    "                   'random_state' : [121],\n",
    "                   'class_weight' : ['balanced', None]}\n",
    "\n",
    "    gridsearch = GridSearchCV(logistic, param_grid = param_logit, cv = KFold(n_splits=5, shuffle = True, random_state=121), n_jobs=-1, scoring='f1', verbose=0)\n",
    "    gridsearch.fit(X_train, y_train)\n",
    "\n",
    "    print('최적 파라미터\\n', gridsearch.best_params_)\n",
    "    print('학습 데이터 정확도 : ', gridsearch.best_score_)\n",
    "\n",
    "    estimator = gridsearch.best_estimator_\n",
    "    pred = pd.DataFrame(estimator.predict(X_test))\n",
    "    # pred = estimator.predict(X_test)\n",
    "    print('\\n예측 데이터 정확도')\n",
    "    score(y_test, pred)\n",
    "    \n",
    "    pred_probability = pd.DataFrame(estimator.predict_proba(X_test))\n",
    "    prediction = pd.concat([pred_probability, pred], axis = 1)\n",
    "    prediction.columns = [\"Negative(0)\", \"Positive(1)\", \"y_pred\"]\n",
    "    pred_proba_1 = np.array(prediction[\"Positive(1)\"]).reshape(-1, 1)\n",
    " \n",
    "    print(get_f1_score(y_test, pred_proba_1))\n",
    "    return gridsearch.fit(X_train, y_train)\n",
    "    # model_coef = pd.Series(best_model.best_estimator_.regressor_.coef_[0], df.drop(['target']).columns).sort_values(ascending=False)\n",
    "    # model_coef"
   ]
  },
  {
   "cell_type": "code",
   "execution_count": 41,
   "metadata": {},
   "outputs": [
    {
     "name": "stdout",
     "output_type": "stream",
     "text": [
      "최적 파라미터\n",
      " {'C': 10, 'class_weight': 'balanced', 'penalty': 'l2', 'random_state': 121, 'solver': 'liblinear'}\n",
      "학습 데이터 정확도 :  0.10066331622363031\n",
      "\n",
      "예측 데이터 정확도\n",
      "accuracy score : 0.804\n",
      "precision score : 0.059\n",
      "recall score : 0.115\n",
      "f1 score : 0.078\n",
      "roc score : 0.487\n",
      "         Accuracy  Precision  Recall  F1 score  Auc_Score\n",
      "0.20000   0.14869    0.07486 0.95055   0.13879    0.51844\n",
      "0.30000   0.15504    0.07538 0.95055   0.13969    0.52186\n",
      "0.40000   0.15741    0.07558 0.95055   0.14002    0.52314\n",
      "0.50000   0.80412    0.05932 0.11538   0.07836    0.48654\n",
      "0.60000   0.91039    0.00000 0.00000   0.00000    0.49060\n",
      "0.70000   0.92784    0.00000 0.00000   0.00000    0.50000\n",
      "0.80000   0.92784    0.00000 0.00000   0.00000    0.50000\n",
      "0.90000   0.92784    0.00000 0.00000   0.00000    0.50000\n",
      "None\n"
     ]
    },
    {
     "data": {
      "image/png": "[encoded data removed]",
      "text/plain": [
       "<Figure size 432x288 with 2 Axes>"
      ]
     },
     "metadata": {
      "needs_background": "light"
     },
     "output_type": "display_data"
    }
   ],
   "source": [
    "logistic = Logistic(df_over)"
   ]
  },
  {
   "cell_type": "markdown",
   "metadata": {},
   "source": [
    "# 3. DT"
   ]
  },
  {
   "cell_type": "code",
   "execution_count": 17,
   "metadata": {},
   "outputs": [],
   "source": [
    "def DT(df):\n",
    "    X_train, X_test, y_train, y_test = data_year(df)\n",
    "\n",
    "    dt = DecisionTreeClassifier()\n",
    "    param_dt = { 'criterion' : ['gini','entropy','log_loss'],   # 기본적으로 gini가 사용, 엔트로피 : 균형적인 트리\n",
    "                    'splitter' : ['best', 'random'],\n",
    "                    'random_state' : [121],\n",
    "                    'max_depth' : [5, 6, 7],\n",
    "                    'min_samples_split' : [3, 4, 5],\n",
    "                    'class_weight' : ['balanced']}\n",
    "    \n",
    "    scaler = RobustScaler()\n",
    "    gridsearch = GridSearchCV(dt, param_grid = param_dt, cv = KFold(n_splits=5, shuffle = True, random_state=42), n_jobs=-1, scoring='f1', verbose=0)\n",
    "    gridsearch.fit(X_train, y_train)\n",
    "\n",
    "    print('최적 파라미터\\n', gridsearch.best_params_)\n",
    "    print('학습 데이터 정확도 : ', gridsearch.best_score_)\n",
    "\n",
    "    estimator = gridsearch.best_estimator_\n",
    "    pred = pd.DataFrame(estimator.predict(X_test))\n",
    "    # pred = estimator.predict(X_test)\n",
    "    print('\\n예측 데이터 정확도')\n",
    "    score(y_test, pred)\n",
    "    \n",
    "    pred_probability = pd.DataFrame(estimator.predict_proba(X_test))\n",
    "    prediction = pd.concat([pred_probability, pred], axis = 1)\n",
    "    prediction.columns = [\"Negative(0)\", \"Positive(1)\", \"y_pred\"]\n",
    "    pred_proba_1 = np.array(prediction[\"Positive(1)\"]).reshape(-1, 1)\n",
    " \n",
    "    print(get_f1_score(y_test, pred_proba_1))\n",
    "\n",
    "    return gridsearch.fit(X_train, y_train)\n"
   ]
  },
  {
   "cell_type": "code",
   "execution_count": 18,
   "metadata": {},
   "outputs": [],
   "source": [
    "def DT_vis(df, best_model):\n",
    "    export_graphviz(best_model.best_estimator_, out_file='트리확인후삭제.dot', class_names=[\"0\", \"1\"], feature_names= df.drop(['y'], axis=1).columns, impurity=True, filled=True)\n",
    "\n",
    "    with open('트리확인후삭제.dot', encoding='utf-8') as f:\n",
    "        dot_graph = f.read()\n",
    "    return graphviz.Source(dot_graph)"
   ]
  },
  {
   "cell_type": "code",
   "execution_count": 19,
   "metadata": {},
   "outputs": [
    {
     "name": "stdout",
     "output_type": "stream",
     "text": [
      "최적 파라미터\n",
      " {'class_weight': 'balanced', 'criterion': 'gini', 'max_depth': 7, 'min_samples_split': 5, 'random_state': 121, 'splitter': 'best'}\n",
      "학습 데이터 정확도 :  0.2645912857962439\n",
      "\n",
      "예측 데이터 정확도\n",
      "accuracy score : 0.833\n",
      "precision score : 0.236\n",
      "recall score : 0.588\n",
      "f1 score : 0.336\n",
      "roc score : 0.720\n",
      "         Accuracy  Precision  Recall  F1 score  Auc_Score\n",
      "0.20000   0.73949    0.16596 0.64835   0.26428    0.69747\n",
      "0.30000   0.79619    0.19818 0.59890   0.29781    0.70522\n",
      "0.40000   0.83267    0.23568 0.58791   0.33648    0.71981\n",
      "0.50000   0.83267    0.23568 0.58791   0.33648    0.71981\n",
      "0.60000   0.83267    0.23568 0.58791   0.33648    0.71981\n",
      "0.70000   0.87589    0.30448 0.56044   0.39458    0.73043\n",
      "0.80000   0.90603    0.38397 0.50000   0.43437    0.71880\n",
      "0.90000   0.92665    0.48800 0.33516   0.39739    0.65391\n",
      "None\n"
     ]
    },
    {
     "data": {
      "image/png": "[encoded data removed]",
      "text/plain": [
       "<Figure size 432x288 with 2 Axes>"
      ]
     },
     "metadata": {
      "needs_background": "light"
     },
     "output_type": "display_data"
    }
   ],
   "source": [
    "df_tree = DT(df_over)"
   ]
  },
  {
   "cell_type": "markdown",
   "metadata": {},
   "source": [
    "# 3. SVM"
   ]
  },
  {
   "cell_type": "code",
   "execution_count": 26,
   "metadata": {},
   "outputs": [],
   "source": [
    "def SVM(df, kernel):\n",
    "    X_train, X_test, y_train, y_test = data_year(df)\n",
    "\n",
    "    svc = SVC(probability=True)\n",
    "    param_svc = {'C' : [1.0],\n",
    "                    'kernel' : [kernel],\n",
    "                    'gamma' : [0.5], # 1 / (n_features * X.var())\n",
    "                    'random_state' : [121],\n",
    "                    'class_weight' : ['balanced']}\n",
    "    \n",
    "    gridsearch = GridSearchCV(svc, param_grid = param_svc, cv=KFold(n_splits=5, shuffle = True, random_state=30), n_jobs=-1, scoring='f1', verbose=0)\n",
    "    gridsearch.fit(X_train, y_train)\n",
    "    print('최적 파라미터\\n', gridsearch.best_params_)\n",
    "    print('학습 데이터 정확도 : ', gridsearch.best_score_)\n",
    "\n",
    "    estimator = gridsearch.best_estimator_\n",
    "    pred = pd.DataFrame(estimator.predict(X_test))\n",
    "    \n",
    "    print('\\n예측 데이터 정확도')\n",
    "    score(y_test, pred)\n",
    "\n",
    "    return gridsearch.fit(X_train, y_train)"
   ]
  },
  {
   "cell_type": "code",
   "execution_count": 27,
   "metadata": {},
   "outputs": [
    {
     "name": "stdout",
     "output_type": "stream",
     "text": [
      "최적 파라미터\n",
      " {'C': 1.0, 'class_weight': 'balanced', 'gamma': 0.5, 'kernel': 'rbf', 'random_state': 121}\n",
      "학습 데이터 정확도 :  0.0\n",
      "\n",
      "예측 데이터 정확도\n",
      "accuracy score : 0.928\n",
      "precision score : 0.000\n",
      "recall score : 0.000\n",
      "f1 score : 0.000\n",
      "roc score : 0.500\n"
     ]
    },
    {
     "data": {
      "image/png": "[encoded data removed]",
      "text/plain": [
       "<Figure size 432x288 with 2 Axes>"
      ]
     },
     "metadata": {
      "needs_background": "light"
     },
     "output_type": "display_data"
    }
   ],
   "source": [
    "svm = SVM(df_over, 'rbf')"
   ]
  },
  {
   "cell_type": "markdown",
   "metadata": {},
   "source": [
    "# 4. RandomForest"
   ]
  },
  {
   "cell_type": "code",
   "execution_count": 22,
   "metadata": {},
   "outputs": [],
   "source": [
    "def RF(df):\n",
    "    X_train, X_test, y_train, y_test = data_year(df)\n",
    "    rf = RandomForestClassifier()\n",
    "    \n",
    "    params_rf = {\n",
    "        'n_estimators':[400],\n",
    "        'max_depth' : [4], \n",
    "        'min_samples_leaf' : [4, 6],\n",
    "        'min_samples_split' : [ 12, 14, 16]\n",
    "    }\n",
    "\n",
    "    gridsearch = GridSearchCV(rf , param_grid=params_rf , cv=KFold(n_splits=5, shuffle = True, random_state=121), n_jobs=-1 )\n",
    "    gridsearch.fit(X_train, y_train)\n",
    "    warnings.filterwarnings('ignore')\n",
    "\n",
    "    \n",
    "    estimator = gridsearch.best_estimator_\n",
    "    pred = pd.DataFrame(estimator.predict(X_test))\n",
    "    print('최적 하이퍼 파라미터:\\n', gridsearch.best_params_)\n",
    "    print('최고 예측 정확도: {0:.4f}'.format(gridsearch.best_score_))\n",
    "    score(y_test, pred)\n",
    "    \n",
    "    # # feature_importance 보여주기\n",
    "    ftr_importances_values = estimator.feature_importances_\n",
    "    ftr_importances = pd.Series(ftr_importances_values,index=X_train.columns)\n",
    "    ftr_top20 = ftr_importances.sort_values(ascending=False)[:20]\n",
    "\n",
    "    plt.figure(figsize=(8,6))\n",
    "    plt.title('Feature importances')\n",
    "    sns.barplot(x=ftr_top20 , y = ftr_top20.index)\n",
    "    plt.show()\n",
    "\n",
    "\n",
    "    return gridsearch.fit(X_train, y_train)"
   ]
  },
  {
   "cell_type": "code",
   "execution_count": 23,
   "metadata": {},
   "outputs": [
    {
     "name": "stdout",
     "output_type": "stream",
     "text": [
      "최적 하이퍼 파라미터:\n",
      " {'max_depth': 4, 'min_samples_leaf': 4, 'min_samples_split': 14, 'n_estimators': 400}\n",
      "최고 예측 정확도: 0.9671\n",
      "accuracy score : 0.933\n",
      "precision score : 0.875\n",
      "recall score : 0.077\n",
      "f1 score : 0.141\n",
      "roc score : 0.538\n"
     ]
    },
    {
     "data": {
      "image/png": "[encoded data removed]",
      "text/plain": [
       "<Figure size 432x288 with 2 Axes>"
      ]
     },
     "metadata": {
      "needs_background": "light"
     },
     "output_type": "display_data"
    },
    {
     "data": {
      "image/png": "[encoded data removed]",
      "text/plain": [
       "<Figure size 576x432 with 1 Axes>"
      ]
     },
     "metadata": {
      "needs_background": "light"
     },
     "output_type": "display_data"
    }
   ],
   "source": [
    "rf = RF(df_over)"
   ]
  },
  {
   "cell_type": "markdown",
   "metadata": {},
   "source": [
    "# 5. LightGBM"
   ]
  },
  {
   "cell_type": "code",
   "execution_count": 24,
   "metadata": {},
   "outputs": [],
   "source": [
    "def LGBM(df):\n",
    "    import re\n",
    "    X_train, X_test, y_train, y_test = data_lgbm_year(df)\n",
    "    lgbm = LGBMClassifier()\n",
    "    \n",
    "    params = {\n",
    "    'n_estimators':[200, 300, 400],\n",
    "        'max_depth' : [4, 5, 6, 7, 8], \n",
    "    'min_data_in_leaf' : [8, 10, 12, 14, 16]\n",
    "    }\n",
    "    \n",
    "    # 조기 중단 추가\n",
    "    evals = [(X_train, y_train)]\n",
    "    gridsearch = GridSearchCV(lgbm , param_grid=params , cv=KFold(n_splits=5, shuffle = True, random_state=42), n_jobs=-1 )\n",
    "    gridsearch.fit(X_train , y_train,early_stopping_rounds=100, eval_metric=\"logloss\", eval_set=evals, verbose=0)\n",
    "\n",
    "\n",
    "    estimator = gridsearch.best_estimator_\n",
    "    pred = pd.DataFrame(estimator.predict(X_test))\n",
    "    print('최적 하이퍼 파라미터:\\n', gridsearch.best_params_)\n",
    "    print('최고 예측 정확도: {0:.4f}'.format(gridsearch.best_score_))\n",
    "    score(y_test, pred)\n",
    "    \n",
    "    # feature_importance 보여주기\n",
    "    ftr_importances_values = estimator.feature_importances_\n",
    "    ftr_importances = pd.DataFrame({'Value':ftr_importances_values,'Feature':X_train.columns})\n",
    "\n",
    "    plt.figure(figsize=(8,6))\n",
    "    sns.barplot(x=\"Value\", y=\"Feature\", data=ftr_importances.sort_values(by=\"Value\",ascending=False)[:20])\n",
    "    plt.title('LightGBM Features')\n",
    "    plt.show()\n",
    "    return gridsearch.fit(X_train , y_train,early_stopping_rounds=100, eval_metric=\"logloss\", eval_set=evals, verbose=0)"
   ]
  },
  {
   "cell_type": "code",
   "execution_count": 25,
   "metadata": {},
   "outputs": [
    {
     "name": "stdout",
     "output_type": "stream",
     "text": [
      "[LightGBM] [Warning] min_data_in_leaf is set=16, min_child_samples=20 will be ignored. Current value: min_data_in_leaf=16\n",
      "최적 하이퍼 파라미터:\n",
      " {'max_depth': 6, 'min_data_in_leaf': 16, 'n_estimators': 200}\n",
      "최고 예측 정확도: 0.9701\n",
      "accuracy score : 0.935\n",
      "precision score : 0.711\n",
      "recall score : 0.176\n",
      "f1 score : 0.282\n",
      "roc score : 0.585\n"
     ]
    },
    {
     "data": {
      "image/png": "[encoded data removed]",
      "text/plain": [
       "<Figure size 432x288 with 2 Axes>"
      ]
     },
     "metadata": {
      "needs_background": "light"
     },
     "output_type": "display_data"
    },
    {
     "data": {
      "image/png": "[encoded data removed]",
      "text/plain": [
       "<Figure size 576x432 with 1 Axes>"
      ]
     },
     "metadata": {
      "needs_background": "light"
     },
     "output_type": "display_data"
    },
    {
     "name": "stdout",
     "output_type": "stream",
     "text": [
      "[LightGBM] [Warning] min_data_in_leaf is set=16, min_child_samples=20 will be ignored. Current value: min_data_in_leaf=16\n"
     ]
    }
   ],
   "source": [
    "lgbm = LGBM(df_over)"
   ]
  },
  {
   "cell_type": "markdown",
   "metadata": {},
   "source": [
    "# 6. XGB"
   ]
  },
  {
   "cell_type": "code",
   "execution_count": 139,
   "metadata": {},
   "outputs": [],
   "source": [
    "def XGB(df):\n",
    "    X_train, X_test, y_train, y_test = data_year(df)\n",
    "\n",
    "    xgb = XGBClassifier()\n",
    "    param_xgb={'booster' :['gbtree'],\n",
    "               'silent' : [1],\n",
    "               'learning_rate' : [0.01],    # 나중에 한 번 더 확인\n",
    "               'n_estimators' : [400],\n",
    "               'min_child_weight' : [3],  ###\n",
    "               'gamma' : [1.0],    ###\n",
    "               'max_depth' : [5],     ###\n",
    "               'objective':['binary:logistic'],\n",
    "               'colsample_bytree' : [0.8],\n",
    "               'colsample_bylevel' : [0.6],\n",
    "               'random_state' : [121],\n",
    "               'scale_pos_weight' : [ len(df[df['y']==0])/len(df[df['y']==1]) ]\n",
    "                }\n",
    "\n",
    "    gridsearch = GridSearchCV(xgb, param_grid = param_xgb, cv=KFold(n_splits=5, shuffle = True, random_state=42), n_jobs=-1, scoring='f1', verbose=0)\n",
    "    gridsearch.fit(X_train, y_train)\n",
    "    \n",
    "    print('최적 파라미터\\n', gridsearch.best_params_)\n",
    "    print('학습 데이터 정확도 : ', gridsearch.best_score_)\n",
    "\n",
    "    estimator = gridsearch.best_estimator_\n",
    "    pred = pd.DataFrame(estimator.predict(X_test))\n",
    "    # pred = estimator.predict(X_test)\n",
    "    print('\\n예측 데이터 정확도')\n",
    "    score(y_test, pred)\n",
    "    \n",
    "    pred_probability = pd.DataFrame(estimator.predict_proba(X_test))\n",
    "    prediction = pd.concat([pred_probability, pred], axis = 1)\n",
    "    prediction.columns = [\"Negative(0)\", \"Positive(1)\", \"y_pred\"]\n",
    "    pred_proba_1 = np.array(prediction[\"Positive(1)\"]).reshape(-1, 1)\n",
    " \n",
    "    print(get_f1_score(y_test, pred_proba_1))\n",
    "    return gridsearch.fit(X_train, y_train)"
   ]
  },
  {
   "cell_type": "code",
   "execution_count": 140,
   "metadata": {},
   "outputs": [
    {
     "name": "stdout",
     "output_type": "stream",
     "text": [
      "[17:47:01] WARNING: C:/Users/Administrator/workspace/xgboost-win64_release_1.6.0/src/learner.cc:627: \n",
      "Parameters: { \"silent\" } might not be used.\n",
      "\n",
      "  This could be a false alarm, with some parameters getting used by language bindings but\n",
      "  then being mistakenly passed down to XGBoost core, or some parameter actually being used\n",
      "  but getting flagged wrongly here. Please open an issue if you find any such cases.\n",
      "\n",
      "\n",
      "최적 파라미터\n",
      " {'booster': 'gbtree', 'colsample_bylevel': 0.6, 'colsample_bytree': 0.8, 'gamma': 1.0, 'learning_rate': 0.01, 'max_depth': 5, 'min_child_weight': 3, 'n_estimators': 400, 'objective': 'binary:logistic', 'random_state': 121, 'scale_pos_weight': 21.727078891257996, 'silent': 1}\n",
      "학습 데이터 정확도 :  0.8431824616324658\n",
      "\n",
      "예측 데이터 정확도\n",
      "accuracy score : 0.662\n",
      "precision score : 0.153\n",
      "recall score : 0.813\n",
      "f1 score : 0.258\n",
      "roc score : 0.732\n",
      "         Accuracy  Precision  Recall  F1 score  Auc_Score\n",
      "0.20000   0.44132    0.10648 0.91209   0.19070    0.65839\n",
      "0.30000   0.53608    0.12117 0.86813   0.21265    0.68919\n",
      "0.40000   0.60349    0.13547 0.83516   0.23313    0.71032\n",
      "0.50000   0.66217    0.15321 0.81319   0.25784    0.73181\n",
      "0.60000   0.71649    0.17301 0.77473   0.28285    0.74335\n",
      "0.70000   0.77002    0.20030 0.73077   0.31442    0.75192\n",
      "0.80000   0.81761    0.22852 0.64286   0.33718    0.73703\n",
      "0.90000   0.87431    0.29102 0.51648   0.37228    0.70931\n",
      "None\n",
      "[17:47:41] WARNING: C:/Users/Administrator/workspace/xgboost-win64_release_1.6.0/src/learner.cc:627: \n",
      "Parameters: { \"silent\" } might not be used.\n",
      "\n",
      "  This could be a false alarm, with some parameters getting used by language bindings but\n",
      "  then being mistakenly passed down to XGBoost core, or some parameter actually being used\n",
      "  but getting flagged wrongly here. Please open an issue if you find any such cases.\n",
      "\n",
      "\n"
     ]
    },
    {
     "data": {
      "image/png": "[encoded data removed]",
      "text/plain": [
       "<Figure size 432x288 with 2 Axes>"
      ]
     },
     "metadata": {
      "needs_background": "light"
     },
     "output_type": "display_data"
    }
   ],
   "source": [
    "xgb = XGB(df_over)"
   ]
  },
  {
   "cell_type": "markdown",
   "metadata": {},
   "source": [
    "# 7. Voting"
   ]
  },
  {
   "cell_type": "code",
   "execution_count": 141,
   "metadata": {},
   "outputs": [],
   "source": [
    "def SV(df):\n",
    "    import re\n",
    "    X_train, X_test, y_train, y_test = data_lgbm_year(df)\n",
    "\n",
    "    estimators = [['lr', logistic.best_estimator_],\n",
    "                  ['rf', rf.best_estimator_],\n",
    "                  ['dt', df_tree.best_estimator_],\n",
    "                  ['svm', svm.best_estimator_],\n",
    "                  ['lgbm',lgbm.best_estimator_],\n",
    "                  ['xgb', xgb.best_estimator_]]  # 모델 집합\n",
    "    \n",
    "    SV = VotingClassifier(estimators, voting=\"soft\",n_jobs=-1)\n",
    "    SV.fit(X_train, y_train)\n",
    "    pred = pd.DataFrame(SV.predict(X_test))\n",
    "    \n",
    "    print('\\n예측 데이터 정확도')\n",
    "    score(y_test, pred)\n",
    "    \n",
    "    pred_probability = pd.DataFrame(SV.predict_proba(X_test))\n",
    "    prediction = pd.concat([pred_probability, pred], axis = 1)\n",
    "    prediction.columns = [\"Negative(0)\", \"Positive(1)\", \"y_pred\"]\n",
    "    pred_proba_1 = np.array(prediction[\"Positive(1)\"]).reshape(-1, 1)\n",
    " \n",
    "    print(get_f1_score(y_test, pred_proba_1))\n",
    "    return SV.fit(X_train, y_train)"
   ]
  },
  {
   "cell_type": "code",
   "execution_count": 142,
   "metadata": {},
   "outputs": [
    {
     "name": "stdout",
     "output_type": "stream",
     "text": [
      "\n",
      "예측 데이터 정확도\n",
      "accuracy score : 0.868\n",
      "precision score : 0.289\n",
      "recall score : 0.571\n",
      "f1 score : 0.384\n",
      "roc score : 0.731\n",
      "         Accuracy  Precision  Recall  F1 score  Auc_Score\n",
      "0.20000   0.26487    0.08614 0.95604   0.15804    0.58358\n",
      "0.30000   0.62807    0.14540 0.85165   0.24840    0.73117\n",
      "0.40000   0.80769    0.23280 0.72527   0.35247    0.76969\n",
      "0.50000   0.86757    0.28889 0.57143   0.38376    0.73101\n",
      "0.60000   0.90563    0.37156 0.44505   0.40500    0.69325\n",
      "0.70000   0.92982    0.52525 0.28571   0.37011    0.63281\n",
      "0.80000   0.92784    0.00000 0.00000   0.00000    0.50000\n",
      "0.90000   0.92784    0.00000 0.00000   0.00000    0.50000\n",
      "None\n"
     ]
    },
    {
     "data": {
      "image/png": "[encoded data removed]",
      "text/plain": [
       "<Figure size 432x288 with 2 Axes>"
      ]
     },
     "metadata": {
      "needs_background": "light"
     },
     "output_type": "display_data"
    }
   ],
   "source": [
    "sv = SV(df_over)"
   ]
  },
  {
   "cell_type": "markdown",
   "metadata": {},
   "source": [
    "# 8. Stacking Ensemble"
   ]
  },
  {
   "cell_type": "code",
   "execution_count": 106,
   "metadata": {},
   "outputs": [],
   "source": [
    "# 개별모델 내부에서 CV 적용해 Stacking하는 함수 구현\n",
    "def get_stacking_datasets(model,df,n_folds=5):\n",
    "\n",
    "    import re\n",
    "    X_train, X_test, y_train, y_test = data_lgbm_year(df)\n",
    "    \n",
    "    # 최종 메타 모델이 사용할 학습 데이터 반환을 위해서 넘파이 배열을 0으로 만들어서 초기화\n",
    "    train_fold_pred = np.zeros((X_train.shape[0], 1)) # 2차원으로\n",
    "    test_pred = np.zeros((X_test.shape[0], n_folds))\n",
    "    print(model.__class__.__name__, '모델 시작')\n",
    "    \n",
    "    for folder_counter, (train_idx, valid_idx) in enumerate(KFold(n_splits=n_folds, shuffle=True, random_state=42).split(X_train)):\n",
    "        # 개별 모델 내부에서 학습하고 1개의 fold로 예측할 데이터 셋 추출\n",
    "        print(f\" Fold 횟수 : {folder_counter+1}\")\n",
    "        X_train_ = X_train.iloc[train_idx]\n",
    "        y_train_ = y_train.iloc[train_idx]\n",
    "        X_test_ = X_train.iloc[valid_idx]\n",
    "        \n",
    "        # 개별 모델이 학습한 후 1개의 fold데이터셋으로 예측값 반환 후 최종 메타모델이 학습할 데이터셋에 첨가\n",
    "        model.fit(X_train_, y_train_)\n",
    "        train_fold_pred[valid_idx, :] = model.predict(X_test_).reshape(-1,1)\n",
    "        # 개별 모델이 원본 데이터셋의 검증 데이터셋을 기반으로 예측 결과값 반환 후 최종 메타모델이 검증할 데이터셋에 첨가\n",
    "        test_pred[:, folder_counter] = model.predict(X_test)\n",
    "    \n",
    "    # 개별모델안에서 테스트 데이터셋을 기반으로 예측한 결과값들 mean취해주고 2차원으로 바꾸어주기\n",
    "    test_pred_mean = np.mean(test_pred, axis=1).reshape(-1,1)\n",
    "    \n",
    "    return train_fold_pred, test_pred_mean"
   ]
  },
  {
   "cell_type": "code",
   "execution_count": 119,
   "metadata": {},
   "outputs": [],
   "source": [
    "def stacking(df):\n",
    "    \n",
    "    X_train, X_test, y_train, y_test = data_lgbm_year(df)\n",
    "    \n",
    "    xgb_train, xgb_test = get_stacking_datasets(xgb.best_estimator_, df, 5)\n",
    "    lo_train, lo_test = get_stacking_datasets(logistic.best_estimator_, df, 5)\n",
    "    rf_train, rf_test = get_stacking_datasets(rf.best_estimator_, df, 5)\n",
    "    dt_train, dt_test = get_stacking_datasets(df_tree.best_estimator_, df, 5)\n",
    "    svm_train, svm_test = get_stacking_datasets(svm.best_estimator_, df, 5)\n",
    "\n",
    "    \n",
    "    new_X_train = np.concatenate((lo_train, rf_train, dt_train), axis = 1)\n",
    "    new_X_test = np.concatenate((lo_test, rf_test,dt_test), axis = 1)\n",
    "    \n",
    "    # meta learner\n",
    "    lgbm.best_estimator_.fit(new_X_train, y_train)\n",
    "    y_test = pd.DataFrame(y_test)\n",
    "    stack_pred = pd.DataFrame(lgbm.best_estimator_.predict(new_X_test))\n",
    "    print('\\n예측 데이터 정확도')\n",
    "    score(y_test, stack_pred)"
   ]
  },
  {
   "cell_type": "code",
   "execution_count": 120,
   "metadata": {},
   "outputs": [
    {
     "name": "stdout",
     "output_type": "stream",
     "text": [
      "XGBClassifier 모델 시작\n",
      " Fold 횟수 : 1\n",
      "[15:57:51] WARNING: C:/Users/Administrator/workspace/xgboost-win64_release_1.6.0/src/learner.cc:627: \n",
      "Parameters: { \"silent\" } might not be used.\n",
      "\n",
      "  This could be a false alarm, with some parameters getting used by language bindings but\n",
      "  then being mistakenly passed down to XGBoost core, or some parameter actually being used\n",
      "  but getting flagged wrongly here. Please open an issue if you find any such cases.\n",
      "\n",
      "\n",
      " Fold 횟수 : 2\n",
      "[15:57:56] WARNING: C:/Users/Administrator/workspace/xgboost-win64_release_1.6.0/src/learner.cc:627: \n",
      "Parameters: { \"silent\" } might not be used.\n",
      "\n",
      "  This could be a false alarm, with some parameters getting used by language bindings but\n",
      "  then being mistakenly passed down to XGBoost core, or some parameter actually being used\n",
      "  but getting flagged wrongly here. Please open an issue if you find any such cases.\n",
      "\n",
      "\n",
      " Fold 횟수 : 3\n",
      "[15:58:01] WARNING: C:/Users/Administrator/workspace/xgboost-win64_release_1.6.0/src/learner.cc:627: \n",
      "Parameters: { \"silent\" } might not be used.\n",
      "\n",
      "  This could be a false alarm, with some parameters getting used by language bindings but\n",
      "  then being mistakenly passed down to XGBoost core, or some parameter actually being used\n",
      "  but getting flagged wrongly here. Please open an issue if you find any such cases.\n",
      "\n",
      "\n",
      " Fold 횟수 : 4\n",
      "[15:58:06] WARNING: C:/Users/Administrator/workspace/xgboost-win64_release_1.6.0/src/learner.cc:627: \n",
      "Parameters: { \"silent\" } might not be used.\n",
      "\n",
      "  This could be a false alarm, with some parameters getting used by language bindings but\n",
      "  then being mistakenly passed down to XGBoost core, or some parameter actually being used\n",
      "  but getting flagged wrongly here. Please open an issue if you find any such cases.\n",
      "\n",
      "\n",
      " Fold 횟수 : 5\n",
      "[15:58:11] WARNING: C:/Users/Administrator/workspace/xgboost-win64_release_1.6.0/src/learner.cc:627: \n",
      "Parameters: { \"silent\" } might not be used.\n",
      "\n",
      "  This could be a false alarm, with some parameters getting used by language bindings but\n",
      "  then being mistakenly passed down to XGBoost core, or some parameter actually being used\n",
      "  but getting flagged wrongly here. Please open an issue if you find any such cases.\n",
      "\n",
      "\n",
      "LogisticRegression 모델 시작\n",
      " Fold 횟수 : 1\n",
      " Fold 횟수 : 2\n",
      " Fold 횟수 : 3\n",
      " Fold 횟수 : 4\n",
      " Fold 횟수 : 5\n",
      "RandomForestClassifier 모델 시작\n",
      " Fold 횟수 : 1\n",
      " Fold 횟수 : 2\n",
      " Fold 횟수 : 3\n",
      " Fold 횟수 : 4\n",
      " Fold 횟수 : 5\n",
      "DecisionTreeClassifier 모델 시작\n",
      " Fold 횟수 : 1\n",
      " Fold 횟수 : 2\n",
      " Fold 횟수 : 3\n",
      " Fold 횟수 : 4\n",
      " Fold 횟수 : 5\n",
      "SVC 모델 시작\n",
      " Fold 횟수 : 1\n",
      " Fold 횟수 : 2\n",
      " Fold 횟수 : 3\n",
      " Fold 횟수 : 4\n",
      " Fold 횟수 : 5\n",
      "[LightGBM] [Warning] min_data_in_leaf is set=16, min_child_samples=20 will be ignored. Current value: min_data_in_leaf=16\n",
      "\n",
      "예측 데이터 정확도\n",
      "accuracy score : 0.728\n",
      "precision score : 0.121\n",
      "recall score : 0.830\n",
      "f1 score : 0.212\n",
      "roc score : 0.777\n"
     ]
    },
    {
     "data": {
      "image/png": "[encoded data removed]",
      "text/plain": [
       "<Figure size 432x288 with 2 Axes>"
      ]
     },
     "metadata": {
      "needs_background": "light"
     },
     "output_type": "display_data"
    }
   ],
   "source": [
    "stacking(df_over)"
   ]
  },
  {
   "cell_type": "markdown",
   "metadata": {},
   "source": [
    "# 9. DNN"
   ]
  },
  {
   "cell_type": "code",
   "execution_count": 143,
   "metadata": {},
   "outputs": [],
   "source": [
    "#F1-score\n",
    "from tensorflow.keras import backend as K\n",
    "def custom_f1(y_target, y_pred):    \n",
    "    def recall(y_target, y_pred):\n",
    "    \n",
    "        y_target_yn = K.round(K.clip(y_target, 0, 1)) # 실제값을 0(Negative) 또는 1(Positive)로 설정한다\n",
    "        y_pred_yn = K.round(K.clip(y_pred, 0, 1)) # 예측값을 0(Negative) 또는 1(Positive)로 설정한다\n",
    "\n",
    "        count_true_positive = K.sum(y_target_yn * y_pred_yn) \n",
    "        count_true_positive_false_negative = K.sum(y_target_yn)\n",
    "\n",
    "        # Recall =  (True Positive) / (True Positive + False Negative)\n",
    "        # K.epsilon()는 'divide by zero error' 예방차원에서 작은 수를 더한다\n",
    "        recall = count_true_positive / (count_true_positive_false_negative + K.epsilon())\n",
    "        return recall\n",
    "\n",
    "\n",
    "    def precision(y_target, y_pred):\n",
    "    \n",
    "        y_pred_yn = K.round(K.clip(y_pred, 0, 1)) # 예측값을 0(Negative) 또는 1(Positive)로 설정한다\n",
    "        y_target_yn = K.round(K.clip(y_target, 0, 1)) # 실제값을 0(Negative) 또는 1(Positive)로 설정한다\n",
    "\n",
    "        count_true_positive = K.sum(y_target_yn * y_pred_yn) \n",
    "        count_true_positive_false_positive = K.sum(y_pred_yn)\n",
    "\n",
    "        # Precision = (True Positive) / (True Positive + False Positive)\n",
    "        # K.epsilon()는 'divide by zero error' 예방차원에서 작은 수를 더한다\n",
    "        precision = count_true_positive / (count_true_positive_false_positive + K.epsilon())\n",
    "\n",
    "        # return a single tensor value\n",
    "        return precision\n",
    "\n",
    "    precision, recall = precision(y_target, y_pred), recall(y_target, y_pred)\n",
    "\n",
    "    # K.epsilon()는 'divide by zero error' 예방차원에서 작은 수를 더한다\n",
    "    return ( 2 * recall * precision) / (recall + precision+ K.epsilon())"
   ]
  },
  {
   "cell_type": "code",
   "execution_count": 144,
   "metadata": {},
   "outputs": [],
   "source": [
    "def build_classifier(optimizer, n_units, n_layers):\n",
    "    classifier = Sequential()\n",
    "    classifier.add(Dense(units = n_units, kernel_initializer = 'uniform', activation = 'relu', input_dim = 47)) # kernel_initializer는 default값\n",
    "    \n",
    "    for i in range(n_layers):\n",
    "        classifier.add(Dense(units = n_units, kernel_initializer = 'uniform', activation = 'relu'))\n",
    "        \n",
    "    classifier.add(Dense(units = 1, kernel_initializer = 'uniform', activation = 'sigmoid'))\n",
    "    classifier.compile(optimizer = optimizer, loss = 'binary_crossentropy', metrics = [custom_f1])\n",
    "    return classifier"
   ]
  },
  {
   "cell_type": "code",
   "execution_count": 145,
   "metadata": {},
   "outputs": [],
   "source": [
    "# DNN은 GridSearchcv 너무 오래걸리기 때문에 random search로 진행\n",
    "from sklearn.model_selection import RandomizedSearchCV\n",
    "def DNN(df):\n",
    "    X_train, X_test, y_train, y_test = data_year(df)\n",
    "\n",
    "    classifier = KerasClassifier(build_fn = build_classifier)\n",
    "    parameters = {\n",
    "        'batch_size': [10,20,40,80],\n",
    "        'epochs': [100,200],\n",
    "        'optimizer': ['adam', 'rmsprop'],\n",
    "        'n_units': [10, 20, 30],\n",
    "        'n_layers': [1,2,3]\n",
    "    }\n",
    "    \n",
    "    random_search = RandomizedSearchCV(classifier, param_distributions=parameters, cv=KFold(n_splits=5, shuffle = True, random_state=42), scoring = 'f1', n_jobs=-1, verbose = 1)\n",
    "    random_search = random_search.fit(X_train, y_train)\n",
    "    # print('최적 파라미터\\n', random_search.best_params_)\n",
    "    # print('학습 데이터 정확도 : ', random_search.best_score_)\n",
    "    \n",
    "    estimator = random_search.best_estimator_\n",
    "    pred = pd.DataFrame(estimator.predict(X_test))\n",
    "    \n",
    "    print('\\n예측 데이터 정확도')\n",
    "    score(y_test, pred)"
   ]
  },
  {
   "cell_type": "code",
   "execution_count": 146,
   "metadata": {},
   "outputs": [
    {
     "name": "stdout",
     "output_type": "stream",
     "text": [
      "Fitting 5 folds for each of 10 candidates, totalling 50 fits\n",
      "Epoch 1/100\n",
      "785/785 [==============================] - 1s 618us/step - loss: 653.1768 - custom_f1: 0.7670\n",
      "Epoch 2/100\n",
      "785/785 [==============================] - 1s 639us/step - loss: 38.1513 - custom_f1: 0.8164\n",
      "Epoch 3/100\n",
      "785/785 [==============================] - 1s 673us/step - loss: 26.1586 - custom_f1: 0.8336\n",
      "Epoch 4/100\n",
      "785/785 [==============================] - 1s 662us/step - loss: 71.6047 - custom_f1: 0.8433\n",
      "Epoch 5/100\n",
      "785/785 [==============================] - 1s 678us/step - loss: 13.1902 - custom_f1: 0.8553\n",
      "Epoch 6/100\n",
      "785/785 [==============================] - 1s 653us/step - loss: 2.1236 - custom_f1: 0.8635\n",
      "Epoch 7/100\n",
      "785/785 [==============================] - 1s 734us/step - loss: 0.8666 - custom_f1: 0.8697\n",
      "Epoch 8/100\n",
      "785/785 [==============================] - 1s 843us/step - loss: 0.5721 - custom_f1: 0.8756\n",
      "Epoch 9/100\n",
      "785/785 [==============================] - 1s 723us/step - loss: 0.3540 - custom_f1: 0.8776\n",
      "Epoch 10/100\n",
      "785/785 [==============================] - 1s 689us/step - loss: 1.1507 - custom_f1: 0.8817\n",
      "Epoch 11/100\n",
      "785/785 [==============================] - 1s 664us/step - loss: 0.2869 - custom_f1: 0.8839\n",
      "Epoch 12/100\n",
      "785/785 [==============================] - 1s 688us/step - loss: 0.2716 - custom_f1: 0.8903\n",
      "Epoch 13/100\n",
      "785/785 [==============================] - 1s 744us/step - loss: 0.3613 - custom_f1: 0.8922\n",
      "Epoch 14/100\n",
      "785/785 [==============================] - 1s 648us/step - loss: 0.2638 - custom_f1: 0.8938\n",
      "Epoch 15/100\n",
      "785/785 [==============================] - 1s 673us/step - loss: 0.3688 - custom_f1: 0.8943\n",
      "Epoch 16/100\n",
      "785/785 [==============================] - 1s 789us/step - loss: 0.2525 - custom_f1: 0.9003\n",
      "Epoch 17/100\n",
      "785/785 [==============================] - 1s 685us/step - loss: 0.2488 - custom_f1: 0.9022\n",
      "Epoch 18/100\n",
      "785/785 [==============================] - 1s 723us/step - loss: 0.2437 - custom_f1: 0.9051\n",
      "Epoch 19/100\n",
      "785/785 [==============================] - 1s 786us/step - loss: 0.2462 - custom_f1: 0.9015\n",
      "Epoch 20/100\n",
      "785/785 [==============================] - 1s 665us/step - loss: 0.2385 - custom_f1: 0.9050\n",
      "Epoch 21/100\n",
      "785/785 [==============================] - 1s 645us/step - loss: 0.2366 - custom_f1: 0.9086\n",
      "Epoch 22/100\n",
      "785/785 [==============================] - 1s 642us/step - loss: 0.3353 - custom_f1: 0.9040\n",
      "Epoch 23/100\n",
      "785/785 [==============================] - 1s 643us/step - loss: 0.2391 - custom_f1: 0.9080\n",
      "Epoch 24/100\n",
      "785/785 [==============================] - 1s 657us/step - loss: 0.2345 - custom_f1: 0.9089\n",
      "Epoch 25/100\n",
      "785/785 [==============================] - 1s 652us/step - loss: 0.2258 - custom_f1: 0.9115\n",
      "Epoch 26/100\n",
      "785/785 [==============================] - 1s 636us/step - loss: 0.2711 - custom_f1: 0.9094\n",
      "Epoch 27/100\n",
      "785/785 [==============================] - 1s 648us/step - loss: 0.2408 - custom_f1: 0.9120\n",
      "Epoch 28/100\n",
      "785/785 [==============================] - 1s 666us/step - loss: 0.2873 - custom_f1: 0.9129\n",
      "Epoch 29/100\n",
      "785/785 [==============================] - 1s 647us/step - loss: 0.2209 - custom_f1: 0.9158\n",
      "Epoch 30/100\n",
      "785/785 [==============================] - 1s 639us/step - loss: 0.2121 - custom_f1: 0.9188\n",
      "Epoch 31/100\n",
      "785/785 [==============================] - 1s 646us/step - loss: 1.9267 - custom_f1: 0.9183\n",
      "Epoch 32/100\n",
      "785/785 [==============================] - 1s 663us/step - loss: 0.2119 - custom_f1: 0.9192\n",
      "Epoch 33/100\n",
      "785/785 [==============================] - 1s 643us/step - loss: 0.2059 - custom_f1: 0.9216\n",
      "Epoch 34/100\n",
      "785/785 [==============================] - 1s 654us/step - loss: 0.2009 - custom_f1: 0.9251\n",
      "Epoch 35/100\n",
      "785/785 [==============================] - 1s 648us/step - loss: 0.1986 - custom_f1: 0.9239\n",
      "Epoch 36/100\n",
      "785/785 [==============================] - 1s 655us/step - loss: 0.1954 - custom_f1: 0.9274\n",
      "Epoch 37/100\n",
      "785/785 [==============================] - 1s 651us/step - loss: 0.2477 - custom_f1: 0.9240\n",
      "Epoch 38/100\n",
      "785/785 [==============================] - 1s 643us/step - loss: 0.1888 - custom_f1: 0.9292\n",
      "Epoch 39/100\n",
      "785/785 [==============================] - 1s 660us/step - loss: 0.1964 - custom_f1: 0.9269\n",
      "Epoch 40/100\n",
      "785/785 [==============================] - 1s 678us/step - loss: 0.1931 - custom_f1: 0.9322\n",
      "Epoch 41/100\n",
      "785/785 [==============================] - 1s 672us/step - loss: 0.2353 - custom_f1: 0.9249\n",
      "Epoch 42/100\n",
      "785/785 [==============================] - 1s 716us/step - loss: 0.1849 - custom_f1: 0.9286\n",
      "Epoch 43/100\n",
      "785/785 [==============================] - 1s 661us/step - loss: 1.1983 - custom_f1: 0.9261\n",
      "Epoch 44/100\n",
      "785/785 [==============================] - 1s 663us/step - loss: 0.1878 - custom_f1: 0.9311\n",
      "Epoch 45/100\n",
      "785/785 [==============================] - 1s 641us/step - loss: 0.1861 - custom_f1: 0.9317\n",
      "Epoch 46/100\n",
      "785/785 [==============================] - 1s 645us/step - loss: 18.7493 - custom_f1: 0.9306\n",
      "Epoch 47/100\n",
      "785/785 [==============================] - 1s 661us/step - loss: 0.1848 - custom_f1: 0.9338\n",
      "Epoch 48/100\n",
      "785/785 [==============================] - 1s 661us/step - loss: 0.1850 - custom_f1: 0.9317\n",
      "Epoch 49/100\n",
      "785/785 [==============================] - 1s 669us/step - loss: 0.1780 - custom_f1: 0.9369\n",
      "Epoch 50/100\n",
      "785/785 [==============================] - 1s 660us/step - loss: 0.2769 - custom_f1: 0.9358\n",
      "Epoch 51/100\n",
      "785/785 [==============================] - 1s 668us/step - loss: 1.4114 - custom_f1: 0.9383\n",
      "Epoch 52/100\n",
      "785/785 [==============================] - 1s 665us/step - loss: 0.2432 - custom_f1: 0.9359\n",
      "Epoch 53/100\n",
      "785/785 [==============================] - 1s 651us/step - loss: 1.8415 - custom_f1: 0.9257\n",
      "Epoch 54/100\n",
      "785/785 [==============================] - 1s 657us/step - loss: 0.1883 - custom_f1: 0.9334\n",
      "Epoch 55/100\n",
      "785/785 [==============================] - 1s 674us/step - loss: 0.1863 - custom_f1: 0.9313\n",
      "Epoch 56/100\n",
      "785/785 [==============================] - 1s 671us/step - loss: 0.1750 - custom_f1: 0.9373\n",
      "Epoch 57/100\n",
      "785/785 [==============================] - 1s 647us/step - loss: 0.1730 - custom_f1: 0.9361\n",
      "Epoch 58/100\n",
      "785/785 [==============================] - 1s 661us/step - loss: 0.1680 - custom_f1: 0.9380\n",
      "Epoch 59/100\n",
      "785/785 [==============================] - 1s 670us/step - loss: 0.1690 - custom_f1: 0.9378\n",
      "Epoch 60/100\n",
      "785/785 [==============================] - 1s 658us/step - loss: 5.8683 - custom_f1: 0.9359\n",
      "Epoch 61/100\n",
      "785/785 [==============================] - 1s 651us/step - loss: 0.1899 - custom_f1: 0.9303\n",
      "Epoch 62/100\n",
      "785/785 [==============================] - 1s 670us/step - loss: 36.7205 - custom_f1: 0.9367\n",
      "Epoch 63/100\n",
      "785/785 [==============================] - 1s 687us/step - loss: 0.1791 - custom_f1: 0.9342\n",
      "Epoch 64/100\n",
      "785/785 [==============================] - 1s 662us/step - loss: 0.5523 - custom_f1: 0.9335\n",
      "Epoch 65/100\n",
      "785/785 [==============================] - 1s 655us/step - loss: 0.1768 - custom_f1: 0.9365\n",
      "Epoch 66/100\n",
      "785/785 [==============================] - 1s 664us/step - loss: 0.1698 - custom_f1: 0.9399\n",
      "Epoch 67/100\n",
      "785/785 [==============================] - 1s 658us/step - loss: 0.1716 - custom_f1: 0.9363\n",
      "Epoch 68/100\n",
      "785/785 [==============================] - 1s 649us/step - loss: 0.1691 - custom_f1: 0.9379\n",
      "Epoch 69/100\n",
      "785/785 [==============================] - 1s 655us/step - loss: 0.1605 - custom_f1: 0.9415\n",
      "Epoch 70/100\n",
      "785/785 [==============================] - 1s 684us/step - loss: 0.1578 - custom_f1: 0.9444\n",
      "Epoch 71/100\n",
      "785/785 [==============================] - 1s 676us/step - loss: 1.6752 - custom_f1: 0.9382\n",
      "Epoch 72/100\n",
      "785/785 [==============================] - 1s 655us/step - loss: 1.1460 - custom_f1: 0.9409\n",
      "Epoch 73/100\n",
      "785/785 [==============================] - 1s 668us/step - loss: 0.9127 - custom_f1: 0.9194\n",
      "Epoch 74/100\n",
      "785/785 [==============================] - 1s 679us/step - loss: 0.1887 - custom_f1: 0.9305\n",
      "Epoch 75/100\n",
      "785/785 [==============================] - 1s 679us/step - loss: 1.9401 - custom_f1: 0.9385\n",
      "Epoch 76/100\n",
      "785/785 [==============================] - 1s 655us/step - loss: 0.1711 - custom_f1: 0.9382\n",
      "Epoch 77/100\n",
      "785/785 [==============================] - 1s 675us/step - loss: 0.1686 - custom_f1: 0.9372\n",
      "Epoch 78/100\n",
      "785/785 [==============================] - 1s 675us/step - loss: 14.1980 - custom_f1: 0.9376\n",
      "Epoch 79/100\n",
      "785/785 [==============================] - 1s 672us/step - loss: 0.2345 - custom_f1: 0.9380\n",
      "Epoch 80/100\n",
      "785/785 [==============================] - 1s 654us/step - loss: 0.1678 - custom_f1: 0.9401\n",
      "Epoch 81/100\n",
      "785/785 [==============================] - 1s 656us/step - loss: 0.1675 - custom_f1: 0.9406\n",
      "Epoch 82/100\n",
      "785/785 [==============================] - 1s 670us/step - loss: 0.1629 - custom_f1: 0.9427\n",
      "Epoch 83/100\n",
      "785/785 [==============================] - 1s 660us/step - loss: 0.1639 - custom_f1: 0.9394\n",
      "Epoch 84/100\n",
      "785/785 [==============================] - 1s 652us/step - loss: 0.1622 - custom_f1: 0.9430\n",
      "Epoch 85/100\n",
      "785/785 [==============================] - 1s 679us/step - loss: 0.1600 - custom_f1: 0.9419\n",
      "Epoch 86/100\n",
      "785/785 [==============================] - 1s 758us/step - loss: 0.2210 - custom_f1: 0.9418\n",
      "Epoch 87/100\n",
      "785/785 [==============================] - 1s 654us/step - loss: 0.1643 - custom_f1: 0.9409\n",
      "Epoch 88/100\n",
      "785/785 [==============================] - 1s 656us/step - loss: 0.1578 - custom_f1: 0.9435\n",
      "Epoch 89/100\n",
      "785/785 [==============================] - 1s 674us/step - loss: 0.1557 - custom_f1: 0.9440\n",
      "Epoch 90/100\n",
      "785/785 [==============================] - 1s 668us/step - loss: 0.1517 - custom_f1: 0.9441\n",
      "Epoch 91/100\n",
      "785/785 [==============================] - 1s 654us/step - loss: 0.1512 - custom_f1: 0.9454\n",
      "Epoch 92/100\n",
      "785/785 [==============================] - 1s 659us/step - loss: 0.1504 - custom_f1: 0.9466\n",
      "Epoch 93/100\n",
      "785/785 [==============================] - 1s 679us/step - loss: 0.1491 - custom_f1: 0.9454\n",
      "Epoch 94/100\n",
      "785/785 [==============================] - 1s 673us/step - loss: 0.1477 - custom_f1: 0.9466\n",
      "Epoch 95/100\n",
      "785/785 [==============================] - 1s 654us/step - loss: 0.1513 - custom_f1: 0.9457\n",
      "Epoch 96/100\n",
      "785/785 [==============================] - 1s 652us/step - loss: 0.1453 - custom_f1: 0.9479\n",
      "Epoch 97/100\n",
      "785/785 [==============================] - 1s 680us/step - loss: 0.1506 - custom_f1: 0.9448\n",
      "Epoch 98/100\n",
      "785/785 [==============================] - 1s 664us/step - loss: 0.1497 - custom_f1: 0.9437\n",
      "Epoch 99/100\n",
      "785/785 [==============================] - 1s 656us/step - loss: 0.1415 - custom_f1: 0.9500\n",
      "Epoch 100/100\n",
      "785/785 [==============================] - 1s 660us/step - loss: 2.6075 - custom_f1: 0.9417\n",
      "\n",
      "예측 데이터 정확도\n",
      "accuracy score : 0.885\n",
      "precision score : 0.306\n",
      "recall score : 0.473\n",
      "f1 score : 0.371\n",
      "roc score : 0.695\n"
     ]
    },
    {
     "data": {
      "image/png": "[encoded data removed]",
      "text/plain": [
       "<Figure size 432x288 with 2 Axes>"
      ]
     },
     "metadata": {
      "needs_background": "light"
     },
     "output_type": "display_data"
    }
   ],
   "source": [
    "DNN(df_over)"
   ]
  }
 ],
 "metadata": {
  "kernelspec": {
   "display_name": "Python 3.10.4 64-bit",
   "language": "python",
   "name": "python3"
  },
  "language_info": {
   "codemirror_mode": {
    "name": "ipython",
    "version": 3
   },
   "file_extension": ".py",
   "mimetype": "text/x-python",
   "name": "python",
   "nbconvert_exporter": "python",
   "pygments_lexer": "ipython3",
   "version": "3.10.4"
  },
  "orig_nbformat": 4,
  "vscode": {
   "interpreter": {
    "hash": "146e877987a5ca10c5ba40ec3e7a25002bcba56c71dc1c36e6a7a19a2012e1b9"
   }
  }
 },
 "nbformat": 4,
 "nbformat_minor": 2
}
